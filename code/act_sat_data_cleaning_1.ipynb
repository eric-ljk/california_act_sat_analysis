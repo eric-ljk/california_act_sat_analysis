{
 "cells": [
  {
   "cell_type": "markdown",
   "id": "12c5c1c6",
   "metadata": {},
   "source": [
    "# Data Import and Cleaning \n",
    "\n",
    "## Part 1 of 2: ACT 2019 Dataset for California\n",
    "\n",
    "*All libraries used should be added here*"
   ]
  },
  {
   "cell_type": "code",
   "execution_count": 1,
   "id": "a1a4f50d",
   "metadata": {},
   "outputs": [],
   "source": [
    "import pandas as pd "
   ]
  },
  {
   "cell_type": "markdown",
   "id": "7d6f1178",
   "metadata": {},
   "source": [
    "## Data Import & Cleaning\n",
    "\n",
    "Import the datasets that you selected for this project and go through the following steps at a minimum. You are welcome to do further cleaning as you feel necessary:\n",
    "1. Display the data: print the first 5 rows of each dataframe to your Jupyter notebook.\n",
    "2. Check for missing values.\n",
    "3. Check for any obvious issues with the observations (keep in mind the minimum & maximum possible values for each test/subtest).\n",
    "4. Fix any errors you identified in steps 2-3.\n",
    "5. Display the data types of each feature.\n",
    "6. Fix any incorrect data types found in step 5.\n",
    "    - Fix any individual values preventing other columns from being the appropriate type.\n",
    "    - If your dataset has a column of percents (ex. '50%', '30.5%', etc.), use the function you wrote in Part 1 (coding challenges, number 3) to convert this to floats! *Hint*: use `.map()` or `.apply()`.\n",
    "7. Rename Columns.\n",
    "    - Column names should be all lowercase.\n",
    "    - Column names should not contain spaces (underscores will suffice--this allows for using the `df.column_name` method to access columns in addition to `df['column_name']`).\n",
    "    - Column names should be unique and informative.\n",
    "8. Drop unnecessary rows (if needed).\n",
    "9. Merge dataframes that can be merged.\n",
    "10. Perform any additional cleaning that you feel is necessary.\n",
    "11. Save your cleaned and merged dataframes as csv files."
   ]
  },
  {
   "cell_type": "markdown",
   "id": "855948d5",
   "metadata": {},
   "source": [
    "## Loading the data \n",
    "\n",
    "### Reading in the .csv files"
   ]
  },
  {
   "cell_type": "code",
   "execution_count": 2,
   "id": "6aca9664",
   "metadata": {},
   "outputs": [],
   "source": [
    "act = pd.read_csv('../data/act_2019_ca.csv')"
   ]
  },
  {
   "cell_type": "code",
   "execution_count": 3,
   "id": "09c2f141",
   "metadata": {
    "scrolled": false
   },
   "outputs": [
    {
     "data": {
      "text/html": [
       "<div>\n",
       "<style scoped>\n",
       "    .dataframe tbody tr th:only-of-type {\n",
       "        vertical-align: middle;\n",
       "    }\n",
       "\n",
       "    .dataframe tbody tr th {\n",
       "        vertical-align: top;\n",
       "    }\n",
       "\n",
       "    .dataframe thead th {\n",
       "        text-align: right;\n",
       "    }\n",
       "</style>\n",
       "<table border=\"1\" class=\"dataframe\">\n",
       "  <thead>\n",
       "    <tr style=\"text-align: right;\">\n",
       "      <th></th>\n",
       "      <th>CDS</th>\n",
       "      <th>CCode</th>\n",
       "      <th>CDCode</th>\n",
       "      <th>SCode</th>\n",
       "      <th>RType</th>\n",
       "      <th>SName</th>\n",
       "      <th>DName</th>\n",
       "      <th>CName</th>\n",
       "      <th>Enroll12</th>\n",
       "      <th>NumTstTakr</th>\n",
       "      <th>AvgScrRead</th>\n",
       "      <th>AvgScrEng</th>\n",
       "      <th>AvgScrMath</th>\n",
       "      <th>AvgScrSci</th>\n",
       "      <th>NumGE21</th>\n",
       "      <th>PctGE21</th>\n",
       "      <th>Year</th>\n",
       "      <th>Unnamed: 17</th>\n",
       "    </tr>\n",
       "  </thead>\n",
       "  <tbody>\n",
       "    <tr>\n",
       "      <th>0</th>\n",
       "      <td>3.366993e+13</td>\n",
       "      <td>33.0</td>\n",
       "      <td>3366993.0</td>\n",
       "      <td>129882.0</td>\n",
       "      <td>S</td>\n",
       "      <td>21st Century Learning Institute</td>\n",
       "      <td>Beaumont Unified</td>\n",
       "      <td>Riverside</td>\n",
       "      <td>18.0</td>\n",
       "      <td>0.0</td>\n",
       "      <td>NaN</td>\n",
       "      <td>NaN</td>\n",
       "      <td>NaN</td>\n",
       "      <td>NaN</td>\n",
       "      <td>NaN</td>\n",
       "      <td>NaN</td>\n",
       "      <td>2018-19</td>\n",
       "      <td>NaN</td>\n",
       "    </tr>\n",
       "    <tr>\n",
       "      <th>1</th>\n",
       "      <td>1.964212e+13</td>\n",
       "      <td>19.0</td>\n",
       "      <td>1964212.0</td>\n",
       "      <td>1995596.0</td>\n",
       "      <td>S</td>\n",
       "      <td>ABC Secondary (Alternative)</td>\n",
       "      <td>ABC Unified</td>\n",
       "      <td>Los Angeles</td>\n",
       "      <td>58.0</td>\n",
       "      <td>0.0</td>\n",
       "      <td>NaN</td>\n",
       "      <td>NaN</td>\n",
       "      <td>NaN</td>\n",
       "      <td>NaN</td>\n",
       "      <td>NaN</td>\n",
       "      <td>NaN</td>\n",
       "      <td>2018-19</td>\n",
       "      <td>NaN</td>\n",
       "    </tr>\n",
       "    <tr>\n",
       "      <th>2</th>\n",
       "      <td>1.563776e+13</td>\n",
       "      <td>15.0</td>\n",
       "      <td>1563776.0</td>\n",
       "      <td>1530377.0</td>\n",
       "      <td>S</td>\n",
       "      <td>Abraham Lincoln Alternative</td>\n",
       "      <td>Southern Kern Unified</td>\n",
       "      <td>Kern</td>\n",
       "      <td>18.0</td>\n",
       "      <td>0.0</td>\n",
       "      <td>NaN</td>\n",
       "      <td>NaN</td>\n",
       "      <td>NaN</td>\n",
       "      <td>NaN</td>\n",
       "      <td>NaN</td>\n",
       "      <td>NaN</td>\n",
       "      <td>2018-19</td>\n",
       "      <td>NaN</td>\n",
       "    </tr>\n",
       "    <tr>\n",
       "      <th>3</th>\n",
       "      <td>4.369666e+13</td>\n",
       "      <td>43.0</td>\n",
       "      <td>4369666.0</td>\n",
       "      <td>4333795.0</td>\n",
       "      <td>S</td>\n",
       "      <td>Abraham Lincoln High</td>\n",
       "      <td>San Jose Unified</td>\n",
       "      <td>Santa Clara</td>\n",
       "      <td>463.0</td>\n",
       "      <td>53.0</td>\n",
       "      <td>23</td>\n",
       "      <td>22</td>\n",
       "      <td>22</td>\n",
       "      <td>23</td>\n",
       "      <td>34</td>\n",
       "      <td>64.15</td>\n",
       "      <td>2018-19</td>\n",
       "      <td>NaN</td>\n",
       "    </tr>\n",
       "    <tr>\n",
       "      <th>4</th>\n",
       "      <td>1.964733e+13</td>\n",
       "      <td>19.0</td>\n",
       "      <td>1964733.0</td>\n",
       "      <td>1935121.0</td>\n",
       "      <td>S</td>\n",
       "      <td>Abraham Lincoln Senior High</td>\n",
       "      <td>Los Angeles Unified</td>\n",
       "      <td>Los Angeles</td>\n",
       "      <td>226.0</td>\n",
       "      <td>19.0</td>\n",
       "      <td>21</td>\n",
       "      <td>20</td>\n",
       "      <td>23</td>\n",
       "      <td>22</td>\n",
       "      <td>11</td>\n",
       "      <td>57.89</td>\n",
       "      <td>2018-19</td>\n",
       "      <td>NaN</td>\n",
       "    </tr>\n",
       "  </tbody>\n",
       "</table>\n",
       "</div>"
      ],
      "text/plain": [
       "            CDS  CCode     CDCode      SCode RType  \\\n",
       "0  3.366993e+13   33.0  3366993.0   129882.0     S   \n",
       "1  1.964212e+13   19.0  1964212.0  1995596.0     S   \n",
       "2  1.563776e+13   15.0  1563776.0  1530377.0     S   \n",
       "3  4.369666e+13   43.0  4369666.0  4333795.0     S   \n",
       "4  1.964733e+13   19.0  1964733.0  1935121.0     S   \n",
       "\n",
       "                             SName                  DName        CName  \\\n",
       "0  21st Century Learning Institute       Beaumont Unified    Riverside   \n",
       "1      ABC Secondary (Alternative)            ABC Unified  Los Angeles   \n",
       "2      Abraham Lincoln Alternative  Southern Kern Unified         Kern   \n",
       "3             Abraham Lincoln High       San Jose Unified  Santa Clara   \n",
       "4      Abraham Lincoln Senior High    Los Angeles Unified  Los Angeles   \n",
       "\n",
       "   Enroll12  NumTstTakr AvgScrRead AvgScrEng AvgScrMath AvgScrSci NumGE21  \\\n",
       "0      18.0         0.0        NaN       NaN        NaN       NaN     NaN   \n",
       "1      58.0         0.0        NaN       NaN        NaN       NaN     NaN   \n",
       "2      18.0         0.0        NaN       NaN        NaN       NaN     NaN   \n",
       "3     463.0        53.0         23        22         22        23      34   \n",
       "4     226.0        19.0         21        20         23        22      11   \n",
       "\n",
       "  PctGE21     Year  Unnamed: 17  \n",
       "0     NaN  2018-19          NaN  \n",
       "1     NaN  2018-19          NaN  \n",
       "2     NaN  2018-19          NaN  \n",
       "3   64.15  2018-19          NaN  \n",
       "4   57.89  2018-19          NaN  "
      ]
     },
     "execution_count": 3,
     "metadata": {},
     "output_type": "execute_result"
    }
   ],
   "source": [
    "act.head()"
   ]
  },
  {
   "cell_type": "markdown",
   "id": "f4652ff7",
   "metadata": {},
   "source": [
    "### Shape of the data \n",
    "\n",
    "The dataset has the following number of (rows, columns) respectively. "
   ]
  },
  {
   "cell_type": "code",
   "execution_count": 4,
   "id": "fc768552",
   "metadata": {
    "scrolled": true
   },
   "outputs": [
    {
     "data": {
      "text/plain": [
       "(2310, 18)"
      ]
     },
     "execution_count": 4,
     "metadata": {},
     "output_type": "execute_result"
    }
   ],
   "source": [
    "act.shape"
   ]
  },
  {
   "cell_type": "markdown",
   "id": "4cb160ed",
   "metadata": {},
   "source": [
    "### Removing the extra column at the end"
   ]
  },
  {
   "cell_type": "code",
   "execution_count": 5,
   "id": "519600cc",
   "metadata": {},
   "outputs": [],
   "source": [
    "act.drop('Unnamed: 17', axis=1, inplace=True)"
   ]
  },
  {
   "cell_type": "code",
   "execution_count": 6,
   "id": "a213db4d",
   "metadata": {
    "scrolled": true
   },
   "outputs": [
    {
     "data": {
      "text/html": [
       "<div>\n",
       "<style scoped>\n",
       "    .dataframe tbody tr th:only-of-type {\n",
       "        vertical-align: middle;\n",
       "    }\n",
       "\n",
       "    .dataframe tbody tr th {\n",
       "        vertical-align: top;\n",
       "    }\n",
       "\n",
       "    .dataframe thead th {\n",
       "        text-align: right;\n",
       "    }\n",
       "</style>\n",
       "<table border=\"1\" class=\"dataframe\">\n",
       "  <thead>\n",
       "    <tr style=\"text-align: right;\">\n",
       "      <th></th>\n",
       "      <th>CDS</th>\n",
       "      <th>CCode</th>\n",
       "      <th>CDCode</th>\n",
       "      <th>SCode</th>\n",
       "      <th>RType</th>\n",
       "      <th>SName</th>\n",
       "      <th>DName</th>\n",
       "      <th>CName</th>\n",
       "      <th>Enroll12</th>\n",
       "      <th>NumTstTakr</th>\n",
       "      <th>AvgScrRead</th>\n",
       "      <th>AvgScrEng</th>\n",
       "      <th>AvgScrMath</th>\n",
       "      <th>AvgScrSci</th>\n",
       "      <th>NumGE21</th>\n",
       "      <th>PctGE21</th>\n",
       "      <th>Year</th>\n",
       "    </tr>\n",
       "  </thead>\n",
       "  <tbody>\n",
       "    <tr>\n",
       "      <th>0</th>\n",
       "      <td>3.366993e+13</td>\n",
       "      <td>33.0</td>\n",
       "      <td>3366993.0</td>\n",
       "      <td>129882.0</td>\n",
       "      <td>S</td>\n",
       "      <td>21st Century Learning Institute</td>\n",
       "      <td>Beaumont Unified</td>\n",
       "      <td>Riverside</td>\n",
       "      <td>18.0</td>\n",
       "      <td>0.0</td>\n",
       "      <td>NaN</td>\n",
       "      <td>NaN</td>\n",
       "      <td>NaN</td>\n",
       "      <td>NaN</td>\n",
       "      <td>NaN</td>\n",
       "      <td>NaN</td>\n",
       "      <td>2018-19</td>\n",
       "    </tr>\n",
       "    <tr>\n",
       "      <th>1</th>\n",
       "      <td>1.964212e+13</td>\n",
       "      <td>19.0</td>\n",
       "      <td>1964212.0</td>\n",
       "      <td>1995596.0</td>\n",
       "      <td>S</td>\n",
       "      <td>ABC Secondary (Alternative)</td>\n",
       "      <td>ABC Unified</td>\n",
       "      <td>Los Angeles</td>\n",
       "      <td>58.0</td>\n",
       "      <td>0.0</td>\n",
       "      <td>NaN</td>\n",
       "      <td>NaN</td>\n",
       "      <td>NaN</td>\n",
       "      <td>NaN</td>\n",
       "      <td>NaN</td>\n",
       "      <td>NaN</td>\n",
       "      <td>2018-19</td>\n",
       "    </tr>\n",
       "    <tr>\n",
       "      <th>2</th>\n",
       "      <td>1.563776e+13</td>\n",
       "      <td>15.0</td>\n",
       "      <td>1563776.0</td>\n",
       "      <td>1530377.0</td>\n",
       "      <td>S</td>\n",
       "      <td>Abraham Lincoln Alternative</td>\n",
       "      <td>Southern Kern Unified</td>\n",
       "      <td>Kern</td>\n",
       "      <td>18.0</td>\n",
       "      <td>0.0</td>\n",
       "      <td>NaN</td>\n",
       "      <td>NaN</td>\n",
       "      <td>NaN</td>\n",
       "      <td>NaN</td>\n",
       "      <td>NaN</td>\n",
       "      <td>NaN</td>\n",
       "      <td>2018-19</td>\n",
       "    </tr>\n",
       "  </tbody>\n",
       "</table>\n",
       "</div>"
      ],
      "text/plain": [
       "            CDS  CCode     CDCode      SCode RType  \\\n",
       "0  3.366993e+13   33.0  3366993.0   129882.0     S   \n",
       "1  1.964212e+13   19.0  1964212.0  1995596.0     S   \n",
       "2  1.563776e+13   15.0  1563776.0  1530377.0     S   \n",
       "\n",
       "                             SName                  DName        CName  \\\n",
       "0  21st Century Learning Institute       Beaumont Unified    Riverside   \n",
       "1      ABC Secondary (Alternative)            ABC Unified  Los Angeles   \n",
       "2      Abraham Lincoln Alternative  Southern Kern Unified         Kern   \n",
       "\n",
       "   Enroll12  NumTstTakr AvgScrRead AvgScrEng AvgScrMath AvgScrSci NumGE21  \\\n",
       "0      18.0         0.0        NaN       NaN        NaN       NaN     NaN   \n",
       "1      58.0         0.0        NaN       NaN        NaN       NaN     NaN   \n",
       "2      18.0         0.0        NaN       NaN        NaN       NaN     NaN   \n",
       "\n",
       "  PctGE21     Year  \n",
       "0     NaN  2018-19  \n",
       "1     NaN  2018-19  \n",
       "2     NaN  2018-19  "
      ]
     },
     "execution_count": 6,
     "metadata": {},
     "output_type": "execute_result"
    }
   ],
   "source": [
    "act.head(3)"
   ]
  },
  {
   "cell_type": "markdown",
   "id": "538f7727",
   "metadata": {},
   "source": [
    "The column has been removed."
   ]
  },
  {
   "cell_type": "markdown",
   "id": "1cdc2489",
   "metadata": {},
   "source": [
    "### Standardising the format of the column names \n",
    "\n",
    "The column names will be changed to lowercase, and with underscores as word separators."
   ]
  },
  {
   "cell_type": "code",
   "execution_count": 7,
   "id": "2b679a71",
   "metadata": {},
   "outputs": [],
   "source": [
    "# Changing column names to lowercase\n",
    "act.rename(str.lower, axis=\"columns\", inplace=True)"
   ]
  },
  {
   "cell_type": "code",
   "execution_count": 8,
   "id": "bc234282",
   "metadata": {},
   "outputs": [
    {
     "data": {
      "text/html": [
       "<div>\n",
       "<style scoped>\n",
       "    .dataframe tbody tr th:only-of-type {\n",
       "        vertical-align: middle;\n",
       "    }\n",
       "\n",
       "    .dataframe tbody tr th {\n",
       "        vertical-align: top;\n",
       "    }\n",
       "\n",
       "    .dataframe thead th {\n",
       "        text-align: right;\n",
       "    }\n",
       "</style>\n",
       "<table border=\"1\" class=\"dataframe\">\n",
       "  <thead>\n",
       "    <tr style=\"text-align: right;\">\n",
       "      <th></th>\n",
       "      <th>cds</th>\n",
       "      <th>ccode</th>\n",
       "      <th>cdcode</th>\n",
       "      <th>scode</th>\n",
       "      <th>rtype</th>\n",
       "      <th>sname</th>\n",
       "      <th>dname</th>\n",
       "      <th>cname</th>\n",
       "      <th>enroll12</th>\n",
       "      <th>numtsttakr</th>\n",
       "      <th>avgscrread</th>\n",
       "      <th>avgscreng</th>\n",
       "      <th>avgscrmath</th>\n",
       "      <th>avgscrsci</th>\n",
       "      <th>numge21</th>\n",
       "      <th>pctge21</th>\n",
       "      <th>year</th>\n",
       "    </tr>\n",
       "  </thead>\n",
       "  <tbody>\n",
       "    <tr>\n",
       "      <th>0</th>\n",
       "      <td>3.366993e+13</td>\n",
       "      <td>33.0</td>\n",
       "      <td>3366993.0</td>\n",
       "      <td>129882.0</td>\n",
       "      <td>S</td>\n",
       "      <td>21st Century Learning Institute</td>\n",
       "      <td>Beaumont Unified</td>\n",
       "      <td>Riverside</td>\n",
       "      <td>18.0</td>\n",
       "      <td>0.0</td>\n",
       "      <td>NaN</td>\n",
       "      <td>NaN</td>\n",
       "      <td>NaN</td>\n",
       "      <td>NaN</td>\n",
       "      <td>NaN</td>\n",
       "      <td>NaN</td>\n",
       "      <td>2018-19</td>\n",
       "    </tr>\n",
       "  </tbody>\n",
       "</table>\n",
       "</div>"
      ],
      "text/plain": [
       "            cds  ccode     cdcode     scode rtype  \\\n",
       "0  3.366993e+13   33.0  3366993.0  129882.0     S   \n",
       "\n",
       "                             sname             dname      cname  enroll12  \\\n",
       "0  21st Century Learning Institute  Beaumont Unified  Riverside      18.0   \n",
       "\n",
       "   numtsttakr avgscrread avgscreng avgscrmath avgscrsci numge21 pctge21  \\\n",
       "0         0.0        NaN       NaN        NaN       NaN     NaN     NaN   \n",
       "\n",
       "      year  \n",
       "0  2018-19  "
      ]
     },
     "execution_count": 8,
     "metadata": {},
     "output_type": "execute_result"
    }
   ],
   "source": [
    "act.head(1)"
   ]
  },
  {
   "cell_type": "code",
   "execution_count": 9,
   "id": "4e4e6f21",
   "metadata": {},
   "outputs": [],
   "source": [
    "# Renaming the column names with underscores as word separators\n",
    "act.rename(columns = {'cds':'cds_code', \n",
    "                      'ccode':'c_code',\n",
    "                      'cdcode':'cd_code',\n",
    "                      'scode':'s_code',\n",
    "                      'rtype':'r_type',\n",
    "                      'sname':'s_name',\n",
    "                      'dname':'d_name',\n",
    "                      'cname':'c_name',\n",
    "                      'enroll12':'enroll_12',\n",
    "                      'numtsttakr':'num_tst_takr',\n",
    "                      'avgscrread':'avg_scr_read',\n",
    "                      'avgscreng':'avg_scr_eng',\n",
    "                      'avgscrmath':'avg_scr_math',\n",
    "                      'avgscrsci':'avg_scr_sci',\n",
    "                      'numge21':'num_ge_21',\n",
    "                      'pctge21':'pct_ge_21' \n",
    "                     }, inplace=True)"
   ]
  },
  {
   "cell_type": "code",
   "execution_count": 10,
   "id": "497303ff",
   "metadata": {},
   "outputs": [
    {
     "data": {
      "text/html": [
       "<div>\n",
       "<style scoped>\n",
       "    .dataframe tbody tr th:only-of-type {\n",
       "        vertical-align: middle;\n",
       "    }\n",
       "\n",
       "    .dataframe tbody tr th {\n",
       "        vertical-align: top;\n",
       "    }\n",
       "\n",
       "    .dataframe thead th {\n",
       "        text-align: right;\n",
       "    }\n",
       "</style>\n",
       "<table border=\"1\" class=\"dataframe\">\n",
       "  <thead>\n",
       "    <tr style=\"text-align: right;\">\n",
       "      <th></th>\n",
       "      <th>cds_code</th>\n",
       "      <th>c_code</th>\n",
       "      <th>cd_code</th>\n",
       "      <th>s_code</th>\n",
       "      <th>r_type</th>\n",
       "      <th>s_name</th>\n",
       "      <th>d_name</th>\n",
       "      <th>c_name</th>\n",
       "      <th>enroll_12</th>\n",
       "      <th>num_tst_takr</th>\n",
       "      <th>avg_scr_read</th>\n",
       "      <th>avg_scr_eng</th>\n",
       "      <th>avg_scr_math</th>\n",
       "      <th>avg_scr_sci</th>\n",
       "      <th>num_ge_21</th>\n",
       "      <th>pct_ge_21</th>\n",
       "      <th>year</th>\n",
       "    </tr>\n",
       "  </thead>\n",
       "  <tbody>\n",
       "    <tr>\n",
       "      <th>0</th>\n",
       "      <td>3.366993e+13</td>\n",
       "      <td>33.0</td>\n",
       "      <td>3366993.0</td>\n",
       "      <td>129882.0</td>\n",
       "      <td>S</td>\n",
       "      <td>21st Century Learning Institute</td>\n",
       "      <td>Beaumont Unified</td>\n",
       "      <td>Riverside</td>\n",
       "      <td>18.0</td>\n",
       "      <td>0.0</td>\n",
       "      <td>NaN</td>\n",
       "      <td>NaN</td>\n",
       "      <td>NaN</td>\n",
       "      <td>NaN</td>\n",
       "      <td>NaN</td>\n",
       "      <td>NaN</td>\n",
       "      <td>2018-19</td>\n",
       "    </tr>\n",
       "  </tbody>\n",
       "</table>\n",
       "</div>"
      ],
      "text/plain": [
       "       cds_code  c_code    cd_code    s_code r_type  \\\n",
       "0  3.366993e+13    33.0  3366993.0  129882.0      S   \n",
       "\n",
       "                            s_name            d_name     c_name  enroll_12  \\\n",
       "0  21st Century Learning Institute  Beaumont Unified  Riverside       18.0   \n",
       "\n",
       "   num_tst_takr avg_scr_read avg_scr_eng avg_scr_math avg_scr_sci num_ge_21  \\\n",
       "0           0.0          NaN         NaN          NaN         NaN       NaN   \n",
       "\n",
       "  pct_ge_21     year  \n",
       "0       NaN  2018-19  "
      ]
     },
     "execution_count": 10,
     "metadata": {},
     "output_type": "execute_result"
    }
   ],
   "source": [
    "act.head(1)"
   ]
  },
  {
   "cell_type": "markdown",
   "id": "75b9991d",
   "metadata": {},
   "source": [
    "The columns have been renamed."
   ]
  },
  {
   "cell_type": "markdown",
   "id": "0c4df47d",
   "metadata": {},
   "source": [
    "### Checking for null values"
   ]
  },
  {
   "cell_type": "code",
   "execution_count": 11,
   "id": "6c7900c4",
   "metadata": {
    "scrolled": false
   },
   "outputs": [
    {
     "data": {
      "text/plain": [
       "cds_code          1\n",
       "c_code            1\n",
       "cd_code           1\n",
       "s_code          523\n",
       "r_type            1\n",
       "s_name          581\n",
       "d_name           59\n",
       "c_name            1\n",
       "enroll_12         1\n",
       "num_tst_takr      1\n",
       "avg_scr_read    357\n",
       "avg_scr_eng     357\n",
       "avg_scr_math    357\n",
       "avg_scr_sci     357\n",
       "num_ge_21       357\n",
       "pct_ge_21       357\n",
       "year              1\n",
       "dtype: int64"
      ]
     },
     "execution_count": 11,
     "metadata": {},
     "output_type": "execute_result"
    }
   ],
   "source": [
    "act.isna().sum()"
   ]
  },
  {
   "cell_type": "markdown",
   "id": "c3d18c21",
   "metadata": {},
   "source": [
    "Let's look closer into where these null values appear. "
   ]
  },
  {
   "cell_type": "code",
   "execution_count": 12,
   "id": "de7b444d",
   "metadata": {
    "scrolled": false
   },
   "outputs": [
    {
     "data": {
      "text/html": [
       "<div>\n",
       "<style scoped>\n",
       "    .dataframe tbody tr th:only-of-type {\n",
       "        vertical-align: middle;\n",
       "    }\n",
       "\n",
       "    .dataframe tbody tr th {\n",
       "        vertical-align: top;\n",
       "    }\n",
       "\n",
       "    .dataframe thead th {\n",
       "        text-align: right;\n",
       "    }\n",
       "</style>\n",
       "<table border=\"1\" class=\"dataframe\">\n",
       "  <thead>\n",
       "    <tr style=\"text-align: right;\">\n",
       "      <th></th>\n",
       "      <th>cds_code</th>\n",
       "      <th>c_code</th>\n",
       "      <th>cd_code</th>\n",
       "      <th>s_code</th>\n",
       "      <th>r_type</th>\n",
       "      <th>s_name</th>\n",
       "      <th>d_name</th>\n",
       "      <th>c_name</th>\n",
       "      <th>enroll_12</th>\n",
       "      <th>num_tst_takr</th>\n",
       "      <th>avg_scr_read</th>\n",
       "      <th>avg_scr_eng</th>\n",
       "      <th>avg_scr_math</th>\n",
       "      <th>avg_scr_sci</th>\n",
       "      <th>num_ge_21</th>\n",
       "      <th>pct_ge_21</th>\n",
       "      <th>year</th>\n",
       "    </tr>\n",
       "  </thead>\n",
       "  <tbody>\n",
       "    <tr>\n",
       "      <th>2309</th>\n",
       "      <td>NaN</td>\n",
       "      <td>NaN</td>\n",
       "      <td>NaN</td>\n",
       "      <td>NaN</td>\n",
       "      <td>NaN</td>\n",
       "      <td>NaN</td>\n",
       "      <td>NaN</td>\n",
       "      <td>NaN</td>\n",
       "      <td>NaN</td>\n",
       "      <td>NaN</td>\n",
       "      <td>NaN</td>\n",
       "      <td>NaN</td>\n",
       "      <td>NaN</td>\n",
       "      <td>NaN</td>\n",
       "      <td>NaN</td>\n",
       "      <td>NaN</td>\n",
       "      <td>NaN</td>\n",
       "    </tr>\n",
       "  </tbody>\n",
       "</table>\n",
       "</div>"
      ],
      "text/plain": [
       "      cds_code  c_code  cd_code  s_code r_type s_name d_name c_name  \\\n",
       "2309       NaN     NaN      NaN     NaN    NaN    NaN    NaN    NaN   \n",
       "\n",
       "      enroll_12  num_tst_takr avg_scr_read avg_scr_eng avg_scr_math  \\\n",
       "2309        NaN           NaN          NaN         NaN          NaN   \n",
       "\n",
       "     avg_scr_sci num_ge_21 pct_ge_21 year  \n",
       "2309         NaN       NaN       NaN  NaN  "
      ]
     },
     "execution_count": 12,
     "metadata": {},
     "output_type": "execute_result"
    }
   ],
   "source": [
    "# Fetch the rows of the 'act' DataFrame where there is a null value under the 'cds_code' column.\n",
    "act[act['cds_code'].isna()]"
   ]
  },
  {
   "cell_type": "markdown",
   "id": "16e64dc1",
   "metadata": {},
   "source": [
    "This row seems to be the last row, according to the shape of the data that we retrieved just now. Let's check:"
   ]
  },
  {
   "cell_type": "code",
   "execution_count": 13,
   "id": "96f3b7ee",
   "metadata": {
    "scrolled": false
   },
   "outputs": [
    {
     "data": {
      "text/html": [
       "<div>\n",
       "<style scoped>\n",
       "    .dataframe tbody tr th:only-of-type {\n",
       "        vertical-align: middle;\n",
       "    }\n",
       "\n",
       "    .dataframe tbody tr th {\n",
       "        vertical-align: top;\n",
       "    }\n",
       "\n",
       "    .dataframe thead th {\n",
       "        text-align: right;\n",
       "    }\n",
       "</style>\n",
       "<table border=\"1\" class=\"dataframe\">\n",
       "  <thead>\n",
       "    <tr style=\"text-align: right;\">\n",
       "      <th></th>\n",
       "      <th>cds_code</th>\n",
       "      <th>c_code</th>\n",
       "      <th>cd_code</th>\n",
       "      <th>s_code</th>\n",
       "      <th>r_type</th>\n",
       "      <th>s_name</th>\n",
       "      <th>d_name</th>\n",
       "      <th>c_name</th>\n",
       "      <th>enroll_12</th>\n",
       "      <th>num_tst_takr</th>\n",
       "      <th>avg_scr_read</th>\n",
       "      <th>avg_scr_eng</th>\n",
       "      <th>avg_scr_math</th>\n",
       "      <th>avg_scr_sci</th>\n",
       "      <th>num_ge_21</th>\n",
       "      <th>pct_ge_21</th>\n",
       "      <th>year</th>\n",
       "    </tr>\n",
       "  </thead>\n",
       "  <tbody>\n",
       "    <tr>\n",
       "      <th>2307</th>\n",
       "      <td>3.667777e+13</td>\n",
       "      <td>36.0</td>\n",
       "      <td>3667777.0</td>\n",
       "      <td>3638616.0</td>\n",
       "      <td>S</td>\n",
       "      <td>Yucca Valley High</td>\n",
       "      <td>Morongo Unified</td>\n",
       "      <td>San Bernardino</td>\n",
       "      <td>314.0</td>\n",
       "      <td>11.0</td>\n",
       "      <td>*</td>\n",
       "      <td>*</td>\n",
       "      <td>*</td>\n",
       "      <td>*</td>\n",
       "      <td>*</td>\n",
       "      <td>*</td>\n",
       "      <td>2018-19</td>\n",
       "    </tr>\n",
       "    <tr>\n",
       "      <th>2308</th>\n",
       "      <td>3.667850e+13</td>\n",
       "      <td>36.0</td>\n",
       "      <td>3667850.0</td>\n",
       "      <td>3630530.0</td>\n",
       "      <td>S</td>\n",
       "      <td>Zupanic High</td>\n",
       "      <td>Rialto Unified</td>\n",
       "      <td>San Bernardino</td>\n",
       "      <td>47.0</td>\n",
       "      <td>0.0</td>\n",
       "      <td>NaN</td>\n",
       "      <td>NaN</td>\n",
       "      <td>NaN</td>\n",
       "      <td>NaN</td>\n",
       "      <td>NaN</td>\n",
       "      <td>NaN</td>\n",
       "      <td>2018-19</td>\n",
       "    </tr>\n",
       "    <tr>\n",
       "      <th>2309</th>\n",
       "      <td>NaN</td>\n",
       "      <td>NaN</td>\n",
       "      <td>NaN</td>\n",
       "      <td>NaN</td>\n",
       "      <td>NaN</td>\n",
       "      <td>NaN</td>\n",
       "      <td>NaN</td>\n",
       "      <td>NaN</td>\n",
       "      <td>NaN</td>\n",
       "      <td>NaN</td>\n",
       "      <td>NaN</td>\n",
       "      <td>NaN</td>\n",
       "      <td>NaN</td>\n",
       "      <td>NaN</td>\n",
       "      <td>NaN</td>\n",
       "      <td>NaN</td>\n",
       "      <td>NaN</td>\n",
       "    </tr>\n",
       "  </tbody>\n",
       "</table>\n",
       "</div>"
      ],
      "text/plain": [
       "          cds_code  c_code    cd_code     s_code r_type             s_name  \\\n",
       "2307  3.667777e+13    36.0  3667777.0  3638616.0      S  Yucca Valley High   \n",
       "2308  3.667850e+13    36.0  3667850.0  3630530.0      S       Zupanic High   \n",
       "2309           NaN     NaN        NaN        NaN    NaN                NaN   \n",
       "\n",
       "               d_name          c_name  enroll_12  num_tst_takr avg_scr_read  \\\n",
       "2307  Morongo Unified  San Bernardino      314.0          11.0            *   \n",
       "2308   Rialto Unified  San Bernardino       47.0           0.0          NaN   \n",
       "2309              NaN             NaN        NaN           NaN          NaN   \n",
       "\n",
       "     avg_scr_eng avg_scr_math avg_scr_sci num_ge_21 pct_ge_21     year  \n",
       "2307           *            *           *         *         *  2018-19  \n",
       "2308         NaN          NaN         NaN       NaN       NaN  2018-19  \n",
       "2309         NaN          NaN         NaN       NaN       NaN      NaN  "
      ]
     },
     "execution_count": 13,
     "metadata": {},
     "output_type": "execute_result"
    }
   ],
   "source": [
    "act.tail(3)"
   ]
  },
  {
   "cell_type": "markdown",
   "id": "21a89429",
   "metadata": {},
   "source": [
    "### Dropping the last row\n",
    "\n",
    "It seems like the last row is entirely made up of null values. We will drop the row. "
   ]
  },
  {
   "cell_type": "code",
   "execution_count": 14,
   "id": "44c67f62",
   "metadata": {},
   "outputs": [],
   "source": [
    "act.drop(2309, inplace=True)"
   ]
  },
  {
   "cell_type": "code",
   "execution_count": 15,
   "id": "839485d4",
   "metadata": {},
   "outputs": [
    {
     "data": {
      "text/plain": [
       "cds_code          0\n",
       "c_code            0\n",
       "cd_code           0\n",
       "s_code          522\n",
       "r_type            0\n",
       "s_name          580\n",
       "d_name           58\n",
       "c_name            0\n",
       "enroll_12         0\n",
       "num_tst_takr      0\n",
       "avg_scr_read    356\n",
       "avg_scr_eng     356\n",
       "avg_scr_math    356\n",
       "avg_scr_sci     356\n",
       "num_ge_21       356\n",
       "pct_ge_21       356\n",
       "year              0\n",
       "dtype: int64"
      ]
     },
     "execution_count": 15,
     "metadata": {},
     "output_type": "execute_result"
    }
   ],
   "source": [
    "act.isna().sum()"
   ]
  },
  {
   "cell_type": "markdown",
   "id": "de513b12",
   "metadata": {},
   "source": [
    "We have removed null values for many of the columns. "
   ]
  },
  {
   "cell_type": "markdown",
   "id": "ac6dce2a",
   "metadata": {},
   "source": [
    "### Checking the `'s_code'` column\n",
    "\n",
    "Now, let's look at the next column with null values, the `'s_code'` column. We know from the data source that this stands for the School Code. (We also know what the rest of the column names mean.)"
   ]
  },
  {
   "cell_type": "code",
   "execution_count": 16,
   "id": "56acf39d",
   "metadata": {
    "scrolled": false
   },
   "outputs": [
    {
     "data": {
      "text/html": [
       "<div>\n",
       "<style scoped>\n",
       "    .dataframe tbody tr th:only-of-type {\n",
       "        vertical-align: middle;\n",
       "    }\n",
       "\n",
       "    .dataframe tbody tr th {\n",
       "        vertical-align: top;\n",
       "    }\n",
       "\n",
       "    .dataframe thead th {\n",
       "        text-align: right;\n",
       "    }\n",
       "</style>\n",
       "<table border=\"1\" class=\"dataframe\">\n",
       "  <thead>\n",
       "    <tr style=\"text-align: right;\">\n",
       "      <th></th>\n",
       "      <th>cds_code</th>\n",
       "      <th>c_code</th>\n",
       "      <th>cd_code</th>\n",
       "      <th>s_code</th>\n",
       "      <th>r_type</th>\n",
       "      <th>s_name</th>\n",
       "      <th>d_name</th>\n",
       "      <th>c_name</th>\n",
       "      <th>enroll_12</th>\n",
       "      <th>num_tst_takr</th>\n",
       "      <th>avg_scr_read</th>\n",
       "      <th>avg_scr_eng</th>\n",
       "      <th>avg_scr_math</th>\n",
       "      <th>avg_scr_sci</th>\n",
       "      <th>num_ge_21</th>\n",
       "      <th>pct_ge_21</th>\n",
       "      <th>year</th>\n",
       "    </tr>\n",
       "  </thead>\n",
       "  <tbody>\n",
       "    <tr>\n",
       "      <th>1122</th>\n",
       "      <td>1.100170e+12</td>\n",
       "      <td>1.0</td>\n",
       "      <td>110017.0</td>\n",
       "      <td>NaN</td>\n",
       "      <td>D</td>\n",
       "      <td>NaN</td>\n",
       "      <td>Alameda County Office of Education</td>\n",
       "      <td>Alameda</td>\n",
       "      <td>170.0</td>\n",
       "      <td>0.0</td>\n",
       "      <td>NaN</td>\n",
       "      <td>NaN</td>\n",
       "      <td>NaN</td>\n",
       "      <td>NaN</td>\n",
       "      <td>NaN</td>\n",
       "      <td>NaN</td>\n",
       "      <td>2018-19</td>\n",
       "    </tr>\n",
       "    <tr>\n",
       "      <th>1123</th>\n",
       "      <td>1.611190e+12</td>\n",
       "      <td>1.0</td>\n",
       "      <td>161119.0</td>\n",
       "      <td>NaN</td>\n",
       "      <td>D</td>\n",
       "      <td>NaN</td>\n",
       "      <td>Alameda Unified</td>\n",
       "      <td>Alameda</td>\n",
       "      <td>919.0</td>\n",
       "      <td>155.0</td>\n",
       "      <td>27</td>\n",
       "      <td>26</td>\n",
       "      <td>26</td>\n",
       "      <td>25</td>\n",
       "      <td>134</td>\n",
       "      <td>86.45</td>\n",
       "      <td>2018-19</td>\n",
       "    </tr>\n",
       "    <tr>\n",
       "      <th>1124</th>\n",
       "      <td>1.611270e+12</td>\n",
       "      <td>1.0</td>\n",
       "      <td>161127.0</td>\n",
       "      <td>NaN</td>\n",
       "      <td>D</td>\n",
       "      <td>NaN</td>\n",
       "      <td>Albany City Unified</td>\n",
       "      <td>Alameda</td>\n",
       "      <td>307.0</td>\n",
       "      <td>58.0</td>\n",
       "      <td>28</td>\n",
       "      <td>27</td>\n",
       "      <td>27</td>\n",
       "      <td>26</td>\n",
       "      <td>51</td>\n",
       "      <td>87.93</td>\n",
       "      <td>2018-19</td>\n",
       "    </tr>\n",
       "  </tbody>\n",
       "</table>\n",
       "</div>"
      ],
      "text/plain": [
       "          cds_code  c_code   cd_code  s_code r_type s_name  \\\n",
       "1122  1.100170e+12     1.0  110017.0     NaN      D    NaN   \n",
       "1123  1.611190e+12     1.0  161119.0     NaN      D    NaN   \n",
       "1124  1.611270e+12     1.0  161127.0     NaN      D    NaN   \n",
       "\n",
       "                                  d_name   c_name  enroll_12  num_tst_takr  \\\n",
       "1122  Alameda County Office of Education  Alameda      170.0           0.0   \n",
       "1123                     Alameda Unified  Alameda      919.0         155.0   \n",
       "1124                 Albany City Unified  Alameda      307.0          58.0   \n",
       "\n",
       "     avg_scr_read avg_scr_eng avg_scr_math avg_scr_sci num_ge_21 pct_ge_21  \\\n",
       "1122          NaN         NaN          NaN         NaN       NaN       NaN   \n",
       "1123           27          26           26          25       134     86.45   \n",
       "1124           28          27           27          26        51     87.93   \n",
       "\n",
       "         year  \n",
       "1122  2018-19  \n",
       "1123  2018-19  \n",
       "1124  2018-19  "
      ]
     },
     "execution_count": 16,
     "metadata": {},
     "output_type": "execute_result"
    }
   ],
   "source": [
    "# Fetch the first 3 rows of the 'act' DataFrame, where there is a null value under the 's_code' column.\n",
    "act[act['s_code'].isna()].head(3)"
   ]
  },
  {
   "cell_type": "markdown",
   "id": "26a8e0a6",
   "metadata": {},
   "source": [
    "The entries under the `'r_type'` (Record Type) are labelled as 'D' (District). Let's see if the entire column is labelled as such. "
   ]
  },
  {
   "cell_type": "code",
   "execution_count": 17,
   "id": "237abc01",
   "metadata": {
    "scrolled": true
   },
   "outputs": [
    {
     "data": {
      "text/plain": [
       "D    522\n",
       "Name: r_type, dtype: int64"
      ]
     },
     "execution_count": 17,
     "metadata": {},
     "output_type": "execute_result"
    }
   ],
   "source": [
    "# Fetch the value counts of the 'r_type' column of the 'act' DataFrame, where there is a null value under the 'SCode' column.\n",
    "act[act['s_code'].isna()]['r_type'].value_counts()"
   ]
  },
  {
   "cell_type": "markdown",
   "id": "1d59236b",
   "metadata": {},
   "source": [
    "It seems like all the entries with NaN school codes are of the Record Type 'District'. Hence, they are aggregated data of a number of schools. It makes sense that the School Codes are NaN. "
   ]
  },
  {
   "cell_type": "markdown",
   "id": "fcbd4e22",
   "metadata": {},
   "source": [
    "### Replacing the null values in the `'s_code'` column \n",
    "\n",
    "Let's first see how the other (non-null) values look like:"
   ]
  },
  {
   "cell_type": "code",
   "execution_count": 18,
   "id": "e379cf6a",
   "metadata": {
    "scrolled": true
   },
   "outputs": [
    {
     "data": {
      "text/html": [
       "<div>\n",
       "<style scoped>\n",
       "    .dataframe tbody tr th:only-of-type {\n",
       "        vertical-align: middle;\n",
       "    }\n",
       "\n",
       "    .dataframe tbody tr th {\n",
       "        vertical-align: top;\n",
       "    }\n",
       "\n",
       "    .dataframe thead th {\n",
       "        text-align: right;\n",
       "    }\n",
       "</style>\n",
       "<table border=\"1\" class=\"dataframe\">\n",
       "  <thead>\n",
       "    <tr style=\"text-align: right;\">\n",
       "      <th></th>\n",
       "      <th>cds_code</th>\n",
       "      <th>c_code</th>\n",
       "      <th>cd_code</th>\n",
       "      <th>s_code</th>\n",
       "      <th>r_type</th>\n",
       "      <th>s_name</th>\n",
       "      <th>d_name</th>\n",
       "      <th>c_name</th>\n",
       "      <th>enroll_12</th>\n",
       "      <th>num_tst_takr</th>\n",
       "      <th>avg_scr_read</th>\n",
       "      <th>avg_scr_eng</th>\n",
       "      <th>avg_scr_math</th>\n",
       "      <th>avg_scr_sci</th>\n",
       "      <th>num_ge_21</th>\n",
       "      <th>pct_ge_21</th>\n",
       "      <th>year</th>\n",
       "    </tr>\n",
       "  </thead>\n",
       "  <tbody>\n",
       "    <tr>\n",
       "      <th>0</th>\n",
       "      <td>3.366993e+13</td>\n",
       "      <td>33.0</td>\n",
       "      <td>3366993.0</td>\n",
       "      <td>129882.0</td>\n",
       "      <td>S</td>\n",
       "      <td>21st Century Learning Institute</td>\n",
       "      <td>Beaumont Unified</td>\n",
       "      <td>Riverside</td>\n",
       "      <td>18.0</td>\n",
       "      <td>0.0</td>\n",
       "      <td>NaN</td>\n",
       "      <td>NaN</td>\n",
       "      <td>NaN</td>\n",
       "      <td>NaN</td>\n",
       "      <td>NaN</td>\n",
       "      <td>NaN</td>\n",
       "      <td>2018-19</td>\n",
       "    </tr>\n",
       "    <tr>\n",
       "      <th>1</th>\n",
       "      <td>1.964212e+13</td>\n",
       "      <td>19.0</td>\n",
       "      <td>1964212.0</td>\n",
       "      <td>1995596.0</td>\n",
       "      <td>S</td>\n",
       "      <td>ABC Secondary (Alternative)</td>\n",
       "      <td>ABC Unified</td>\n",
       "      <td>Los Angeles</td>\n",
       "      <td>58.0</td>\n",
       "      <td>0.0</td>\n",
       "      <td>NaN</td>\n",
       "      <td>NaN</td>\n",
       "      <td>NaN</td>\n",
       "      <td>NaN</td>\n",
       "      <td>NaN</td>\n",
       "      <td>NaN</td>\n",
       "      <td>2018-19</td>\n",
       "    </tr>\n",
       "    <tr>\n",
       "      <th>2</th>\n",
       "      <td>1.563776e+13</td>\n",
       "      <td>15.0</td>\n",
       "      <td>1563776.0</td>\n",
       "      <td>1530377.0</td>\n",
       "      <td>S</td>\n",
       "      <td>Abraham Lincoln Alternative</td>\n",
       "      <td>Southern Kern Unified</td>\n",
       "      <td>Kern</td>\n",
       "      <td>18.0</td>\n",
       "      <td>0.0</td>\n",
       "      <td>NaN</td>\n",
       "      <td>NaN</td>\n",
       "      <td>NaN</td>\n",
       "      <td>NaN</td>\n",
       "      <td>NaN</td>\n",
       "      <td>NaN</td>\n",
       "      <td>2018-19</td>\n",
       "    </tr>\n",
       "  </tbody>\n",
       "</table>\n",
       "</div>"
      ],
      "text/plain": [
       "       cds_code  c_code    cd_code     s_code r_type  \\\n",
       "0  3.366993e+13    33.0  3366993.0   129882.0      S   \n",
       "1  1.964212e+13    19.0  1964212.0  1995596.0      S   \n",
       "2  1.563776e+13    15.0  1563776.0  1530377.0      S   \n",
       "\n",
       "                            s_name                 d_name       c_name  \\\n",
       "0  21st Century Learning Institute       Beaumont Unified    Riverside   \n",
       "1      ABC Secondary (Alternative)            ABC Unified  Los Angeles   \n",
       "2      Abraham Lincoln Alternative  Southern Kern Unified         Kern   \n",
       "\n",
       "   enroll_12  num_tst_takr avg_scr_read avg_scr_eng avg_scr_math avg_scr_sci  \\\n",
       "0       18.0           0.0          NaN         NaN          NaN         NaN   \n",
       "1       58.0           0.0          NaN         NaN          NaN         NaN   \n",
       "2       18.0           0.0          NaN         NaN          NaN         NaN   \n",
       "\n",
       "  num_ge_21 pct_ge_21     year  \n",
       "0       NaN       NaN  2018-19  \n",
       "1       NaN       NaN  2018-19  \n",
       "2       NaN       NaN  2018-19  "
      ]
     },
     "execution_count": 18,
     "metadata": {},
     "output_type": "execute_result"
    }
   ],
   "source": [
    "act.head(3)"
   ]
  },
  {
   "cell_type": "markdown",
   "id": "80e9446b",
   "metadata": {},
   "source": [
    "The rest of the values seem to be formatted as a float. We will thus swap out the NaN values for the float 0.0. "
   ]
  },
  {
   "cell_type": "code",
   "execution_count": 19,
   "id": "c4e84328",
   "metadata": {},
   "outputs": [],
   "source": [
    "act['s_code'].fillna(value=0.0, inplace=True)"
   ]
  },
  {
   "cell_type": "code",
   "execution_count": 20,
   "id": "ccc1e0e4",
   "metadata": {
    "scrolled": true
   },
   "outputs": [
    {
     "data": {
      "text/plain": [
       "0.0    522\n",
       "Name: s_code, dtype: int64"
      ]
     },
     "execution_count": 20,
     "metadata": {},
     "output_type": "execute_result"
    }
   ],
   "source": [
    "# Fetch the value counts of the 's_code' column of the 'act' DataFrame, where the value under the'r_type' column is equal to 'D'.\n",
    "act[act['r_type'] == 'D']['s_code'].value_counts()"
   ]
  },
  {
   "cell_type": "markdown",
   "id": "ba6cda6d",
   "metadata": {},
   "source": [
    "We can see that the intended values have been replaced, and the value is still formatted as 0.0. "
   ]
  },
  {
   "cell_type": "code",
   "execution_count": 21,
   "id": "a866ba30",
   "metadata": {
    "scrolled": false
   },
   "outputs": [
    {
     "name": "stdout",
     "output_type": "stream",
     "text": [
      "<class 'pandas.core.frame.DataFrame'>\n",
      "Int64Index: 2309 entries, 0 to 2308\n",
      "Data columns (total 17 columns):\n",
      " #   Column        Non-Null Count  Dtype  \n",
      "---  ------        --------------  -----  \n",
      " 0   cds_code      2309 non-null   float64\n",
      " 1   c_code        2309 non-null   float64\n",
      " 2   cd_code       2309 non-null   float64\n",
      " 3   s_code        2309 non-null   float64\n",
      " 4   r_type        2309 non-null   object \n",
      " 5   s_name        1729 non-null   object \n",
      " 6   d_name        2251 non-null   object \n",
      " 7   c_name        2309 non-null   object \n",
      " 8   enroll_12     2309 non-null   float64\n",
      " 9   num_tst_takr  2309 non-null   float64\n",
      " 10  avg_scr_read  1953 non-null   object \n",
      " 11  avg_scr_eng   1953 non-null   object \n",
      " 12  avg_scr_math  1953 non-null   object \n",
      " 13  avg_scr_sci   1953 non-null   object \n",
      " 14  num_ge_21     1953 non-null   object \n",
      " 15  pct_ge_21     1953 non-null   object \n",
      " 16  year          2309 non-null   object \n",
      "dtypes: float64(6), object(11)\n",
      "memory usage: 324.7+ KB\n"
     ]
    }
   ],
   "source": [
    "act.info()"
   ]
  },
  {
   "cell_type": "markdown",
   "id": "b3ae803e",
   "metadata": {},
   "source": [
    "The datatype is a float. "
   ]
  },
  {
   "cell_type": "markdown",
   "id": "70380354",
   "metadata": {},
   "source": [
    "### Checking the `'s_name'` column \n",
    "\n",
    "This is the next column with null values in the list, for School Names."
   ]
  },
  {
   "cell_type": "code",
   "execution_count": 22,
   "id": "827d2cf1",
   "metadata": {},
   "outputs": [
    {
     "data": {
      "text/html": [
       "<div>\n",
       "<style scoped>\n",
       "    .dataframe tbody tr th:only-of-type {\n",
       "        vertical-align: middle;\n",
       "    }\n",
       "\n",
       "    .dataframe tbody tr th {\n",
       "        vertical-align: top;\n",
       "    }\n",
       "\n",
       "    .dataframe thead th {\n",
       "        text-align: right;\n",
       "    }\n",
       "</style>\n",
       "<table border=\"1\" class=\"dataframe\">\n",
       "  <thead>\n",
       "    <tr style=\"text-align: right;\">\n",
       "      <th></th>\n",
       "      <th>cds_code</th>\n",
       "      <th>c_code</th>\n",
       "      <th>cd_code</th>\n",
       "      <th>s_code</th>\n",
       "      <th>r_type</th>\n",
       "      <th>s_name</th>\n",
       "      <th>d_name</th>\n",
       "      <th>c_name</th>\n",
       "      <th>enroll_12</th>\n",
       "      <th>num_tst_takr</th>\n",
       "      <th>avg_scr_read</th>\n",
       "      <th>avg_scr_eng</th>\n",
       "      <th>avg_scr_math</th>\n",
       "      <th>avg_scr_sci</th>\n",
       "      <th>num_ge_21</th>\n",
       "      <th>pct_ge_21</th>\n",
       "      <th>year</th>\n",
       "    </tr>\n",
       "  </thead>\n",
       "  <tbody>\n",
       "    <tr>\n",
       "      <th>1064</th>\n",
       "      <td>3.400000e+13</td>\n",
       "      <td>34.0</td>\n",
       "      <td>0.0</td>\n",
       "      <td>0.0</td>\n",
       "      <td>C</td>\n",
       "      <td>NaN</td>\n",
       "      <td>NaN</td>\n",
       "      <td>Sacramento</td>\n",
       "      <td>19540.0</td>\n",
       "      <td>3065.0</td>\n",
       "      <td>21</td>\n",
       "      <td>20</td>\n",
       "      <td>21</td>\n",
       "      <td>21</td>\n",
       "      <td>1526</td>\n",
       "      <td>49.79</td>\n",
       "      <td>2018-19</td>\n",
       "    </tr>\n",
       "    <tr>\n",
       "      <th>1065</th>\n",
       "      <td>3.900000e+13</td>\n",
       "      <td>39.0</td>\n",
       "      <td>0.0</td>\n",
       "      <td>0.0</td>\n",
       "      <td>C</td>\n",
       "      <td>NaN</td>\n",
       "      <td>NaN</td>\n",
       "      <td>San Joaquin</td>\n",
       "      <td>11778.0</td>\n",
       "      <td>1348.0</td>\n",
       "      <td>22</td>\n",
       "      <td>21</td>\n",
       "      <td>21</td>\n",
       "      <td>21</td>\n",
       "      <td>693</td>\n",
       "      <td>51.41</td>\n",
       "      <td>2018-19</td>\n",
       "    </tr>\n",
       "    <tr>\n",
       "      <th>1066</th>\n",
       "      <td>1.500000e+13</td>\n",
       "      <td>15.0</td>\n",
       "      <td>0.0</td>\n",
       "      <td>0.0</td>\n",
       "      <td>C</td>\n",
       "      <td>NaN</td>\n",
       "      <td>NaN</td>\n",
       "      <td>Kern</td>\n",
       "      <td>14229.0</td>\n",
       "      <td>1257.0</td>\n",
       "      <td>21</td>\n",
       "      <td>20</td>\n",
       "      <td>20</td>\n",
       "      <td>20</td>\n",
       "      <td>544</td>\n",
       "      <td>43.28</td>\n",
       "      <td>2018-19</td>\n",
       "    </tr>\n",
       "  </tbody>\n",
       "</table>\n",
       "</div>"
      ],
      "text/plain": [
       "          cds_code  c_code  cd_code  s_code r_type s_name d_name       c_name  \\\n",
       "1064  3.400000e+13    34.0      0.0     0.0      C    NaN    NaN   Sacramento   \n",
       "1065  3.900000e+13    39.0      0.0     0.0      C    NaN    NaN  San Joaquin   \n",
       "1066  1.500000e+13    15.0      0.0     0.0      C    NaN    NaN         Kern   \n",
       "\n",
       "      enroll_12  num_tst_takr avg_scr_read avg_scr_eng avg_scr_math  \\\n",
       "1064    19540.0        3065.0           21          20           21   \n",
       "1065    11778.0        1348.0           22          21           21   \n",
       "1066    14229.0        1257.0           21          20           20   \n",
       "\n",
       "     avg_scr_sci num_ge_21 pct_ge_21     year  \n",
       "1064          21      1526     49.79  2018-19  \n",
       "1065          21       693     51.41  2018-19  \n",
       "1066          20       544     43.28  2018-19  "
      ]
     },
     "execution_count": 22,
     "metadata": {},
     "output_type": "execute_result"
    }
   ],
   "source": [
    "# Fetch the first 3 rows of the 'act' DataFrame, where there is a null value under the 's_name' column.\n",
    "act[act['s_name'].isna()].head(3)"
   ]
  },
  {
   "cell_type": "code",
   "execution_count": 23,
   "id": "af141f33",
   "metadata": {},
   "outputs": [
    {
     "data": {
      "text/html": [
       "<div>\n",
       "<style scoped>\n",
       "    .dataframe tbody tr th:only-of-type {\n",
       "        vertical-align: middle;\n",
       "    }\n",
       "\n",
       "    .dataframe tbody tr th {\n",
       "        vertical-align: top;\n",
       "    }\n",
       "\n",
       "    .dataframe thead th {\n",
       "        text-align: right;\n",
       "    }\n",
       "</style>\n",
       "<table border=\"1\" class=\"dataframe\">\n",
       "  <thead>\n",
       "    <tr style=\"text-align: right;\">\n",
       "      <th></th>\n",
       "      <th>cds_code</th>\n",
       "      <th>c_code</th>\n",
       "      <th>cd_code</th>\n",
       "      <th>s_code</th>\n",
       "      <th>r_type</th>\n",
       "      <th>s_name</th>\n",
       "      <th>d_name</th>\n",
       "      <th>c_name</th>\n",
       "      <th>enroll_12</th>\n",
       "      <th>num_tst_takr</th>\n",
       "      <th>avg_scr_read</th>\n",
       "      <th>avg_scr_eng</th>\n",
       "      <th>avg_scr_math</th>\n",
       "      <th>avg_scr_sci</th>\n",
       "      <th>num_ge_21</th>\n",
       "      <th>pct_ge_21</th>\n",
       "      <th>year</th>\n",
       "    </tr>\n",
       "  </thead>\n",
       "  <tbody>\n",
       "    <tr>\n",
       "      <th>1641</th>\n",
       "      <td>5.872728e+13</td>\n",
       "      <td>58.0</td>\n",
       "      <td>5872728.0</td>\n",
       "      <td>0.0</td>\n",
       "      <td>D</td>\n",
       "      <td>NaN</td>\n",
       "      <td>Camptonville Elementary</td>\n",
       "      <td>Yuba</td>\n",
       "      <td>42.0</td>\n",
       "      <td>4.0</td>\n",
       "      <td>*</td>\n",
       "      <td>*</td>\n",
       "      <td>*</td>\n",
       "      <td>*</td>\n",
       "      <td>*</td>\n",
       "      <td>*</td>\n",
       "      <td>2018-19</td>\n",
       "    </tr>\n",
       "    <tr>\n",
       "      <th>1642</th>\n",
       "      <td>5.872736e+13</td>\n",
       "      <td>58.0</td>\n",
       "      <td>5872736.0</td>\n",
       "      <td>0.0</td>\n",
       "      <td>D</td>\n",
       "      <td>NaN</td>\n",
       "      <td>Marysville Joint Unified</td>\n",
       "      <td>Yuba</td>\n",
       "      <td>602.0</td>\n",
       "      <td>42.0</td>\n",
       "      <td>20</td>\n",
       "      <td>18</td>\n",
       "      <td>19</td>\n",
       "      <td>19</td>\n",
       "      <td>17</td>\n",
       "      <td>40.48</td>\n",
       "      <td>2018-19</td>\n",
       "    </tr>\n",
       "    <tr>\n",
       "      <th>1643</th>\n",
       "      <td>5.872769e+13</td>\n",
       "      <td>58.0</td>\n",
       "      <td>5872769.0</td>\n",
       "      <td>0.0</td>\n",
       "      <td>D</td>\n",
       "      <td>NaN</td>\n",
       "      <td>Wheatland Union High</td>\n",
       "      <td>Yuba</td>\n",
       "      <td>167.0</td>\n",
       "      <td>18.0</td>\n",
       "      <td>23</td>\n",
       "      <td>21</td>\n",
       "      <td>21</td>\n",
       "      <td>22</td>\n",
       "      <td>10</td>\n",
       "      <td>55.56</td>\n",
       "      <td>2018-19</td>\n",
       "    </tr>\n",
       "  </tbody>\n",
       "</table>\n",
       "</div>"
      ],
      "text/plain": [
       "          cds_code  c_code    cd_code  s_code r_type s_name  \\\n",
       "1641  5.872728e+13    58.0  5872728.0     0.0      D    NaN   \n",
       "1642  5.872736e+13    58.0  5872736.0     0.0      D    NaN   \n",
       "1643  5.872769e+13    58.0  5872769.0     0.0      D    NaN   \n",
       "\n",
       "                        d_name c_name  enroll_12  num_tst_takr avg_scr_read  \\\n",
       "1641   Camptonville Elementary   Yuba       42.0           4.0            *   \n",
       "1642  Marysville Joint Unified   Yuba      602.0          42.0           20   \n",
       "1643      Wheatland Union High   Yuba      167.0          18.0           23   \n",
       "\n",
       "     avg_scr_eng avg_scr_math avg_scr_sci num_ge_21 pct_ge_21     year  \n",
       "1641           *            *           *         *         *  2018-19  \n",
       "1642          18           19          19        17     40.48  2018-19  \n",
       "1643          21           21          22        10     55.56  2018-19  "
      ]
     },
     "execution_count": 23,
     "metadata": {},
     "output_type": "execute_result"
    }
   ],
   "source": [
    "# Fetch the last 3 rows of the 'act' DataFrame, where there is a null value under the 's_name' column.\n",
    "act[act['s_name'].isna()].tail(3)"
   ]
  },
  {
   "cell_type": "markdown",
   "id": "23b06bbf",
   "metadata": {},
   "source": [
    "Here, we can see that the entries with no school name only have a `'c_name'` (County Name), or have both a `'d_name'` (District Name) and a `'c_name'` (County Name). Hence, it makes sense that these rows should be for the aggregated values of districts and counties, respectively. "
   ]
  },
  {
   "cell_type": "code",
   "execution_count": 24,
   "id": "4af80b4b",
   "metadata": {
    "scrolled": true
   },
   "outputs": [
    {
     "data": {
      "text/plain": [
       "D    522\n",
       "C     58\n",
       "Name: r_type, dtype: int64"
      ]
     },
     "execution_count": 24,
     "metadata": {},
     "output_type": "execute_result"
    }
   ],
   "source": [
    "# Fetch the value counts of the 'r_type' column where the values of the 's_name' column are null\n",
    "act[act['s_name'].isna()].r_type.value_counts()"
   ]
  },
  {
   "cell_type": "markdown",
   "id": "cd9020f5",
   "metadata": {},
   "source": [
    "Using the `'r_type'` (Record Type) column, there are indeed only record types for districts and counties under entries with no school names. Do these represent all the district and county records in the DataFrame?"
   ]
  },
  {
   "cell_type": "code",
   "execution_count": 25,
   "id": "f25bc4c1",
   "metadata": {
    "scrolled": true
   },
   "outputs": [
    {
     "data": {
      "text/plain": [
       "S    1728\n",
       "D     522\n",
       "C      58\n",
       "X       1\n",
       "Name: r_type, dtype: int64"
      ]
     },
     "execution_count": 25,
     "metadata": {},
     "output_type": "execute_result"
    }
   ],
   "source": [
    "act['r_type'].value_counts()"
   ]
  },
  {
   "cell_type": "markdown",
   "id": "13e60fda",
   "metadata": {},
   "source": [
    "Yes, they do. However, we see an 'X' value. According to the data source, this is actually the state-level record (for all of California)."
   ]
  },
  {
   "cell_type": "code",
   "execution_count": 26,
   "id": "b9f5956f",
   "metadata": {
    "scrolled": false
   },
   "outputs": [
    {
     "data": {
      "text/html": [
       "<div>\n",
       "<style scoped>\n",
       "    .dataframe tbody tr th:only-of-type {\n",
       "        vertical-align: middle;\n",
       "    }\n",
       "\n",
       "    .dataframe tbody tr th {\n",
       "        vertical-align: top;\n",
       "    }\n",
       "\n",
       "    .dataframe thead th {\n",
       "        text-align: right;\n",
       "    }\n",
       "</style>\n",
       "<table border=\"1\" class=\"dataframe\">\n",
       "  <thead>\n",
       "    <tr style=\"text-align: right;\">\n",
       "      <th></th>\n",
       "      <th>cds_code</th>\n",
       "      <th>c_code</th>\n",
       "      <th>cd_code</th>\n",
       "      <th>s_code</th>\n",
       "      <th>r_type</th>\n",
       "      <th>s_name</th>\n",
       "      <th>d_name</th>\n",
       "      <th>c_name</th>\n",
       "      <th>enroll_12</th>\n",
       "      <th>num_tst_takr</th>\n",
       "      <th>avg_scr_read</th>\n",
       "      <th>avg_scr_eng</th>\n",
       "      <th>avg_scr_math</th>\n",
       "      <th>avg_scr_sci</th>\n",
       "      <th>num_ge_21</th>\n",
       "      <th>pct_ge_21</th>\n",
       "      <th>year</th>\n",
       "    </tr>\n",
       "  </thead>\n",
       "  <tbody>\n",
       "    <tr>\n",
       "      <th>2070</th>\n",
       "      <td>0.0</td>\n",
       "      <td>0.0</td>\n",
       "      <td>0.0</td>\n",
       "      <td>0.0</td>\n",
       "      <td>X</td>\n",
       "      <td>State of California</td>\n",
       "      <td>State of California</td>\n",
       "      <td>State of California</td>\n",
       "      <td>489650.0</td>\n",
       "      <td>82668.0</td>\n",
       "      <td>22</td>\n",
       "      <td>22</td>\n",
       "      <td>22</td>\n",
       "      <td>22</td>\n",
       "      <td>45466</td>\n",
       "      <td>55.00</td>\n",
       "      <td>2018-19</td>\n",
       "    </tr>\n",
       "  </tbody>\n",
       "</table>\n",
       "</div>"
      ],
      "text/plain": [
       "      cds_code  c_code  cd_code  s_code r_type               s_name  \\\n",
       "2070       0.0     0.0      0.0     0.0      X  State of California   \n",
       "\n",
       "                   d_name               c_name  enroll_12  num_tst_takr  \\\n",
       "2070  State of California  State of California   489650.0       82668.0   \n",
       "\n",
       "     avg_scr_read avg_scr_eng avg_scr_math avg_scr_sci num_ge_21 pct_ge_21  \\\n",
       "2070           22          22           22          22     45466     55.00   \n",
       "\n",
       "         year  \n",
       "2070  2018-19  "
      ]
     },
     "execution_count": 26,
     "metadata": {},
     "output_type": "execute_result"
    }
   ],
   "source": [
    "# Fetch the rows of the 'act' DataFrame, where the value of the 'r_type' column is 'X'.\n",
    "act[act['r_type'] == 'X']"
   ]
  },
  {
   "cell_type": "markdown",
   "id": "7f908391",
   "metadata": {},
   "source": [
    "There is no column for state name, which is most likely the reason for entering it under `'s_name'` (School Name). We can take note of this. "
   ]
  },
  {
   "cell_type": "markdown",
   "id": "68f68403",
   "metadata": {},
   "source": [
    "### Replacing the null values in the `'s_name'` column \n",
    "\n",
    "We will simply fill the null values with the string 'None'."
   ]
  },
  {
   "cell_type": "code",
   "execution_count": 27,
   "id": "3a7f73c1",
   "metadata": {},
   "outputs": [],
   "source": [
    "act['s_name'].fillna(value='None', inplace=True)"
   ]
  },
  {
   "cell_type": "markdown",
   "id": "447f2c2a",
   "metadata": {},
   "source": [
    "### Checking the `'d_name'` column \n",
    "\n",
    "These are the District Names. "
   ]
  },
  {
   "cell_type": "code",
   "execution_count": 28,
   "id": "9f0b37f2",
   "metadata": {
    "scrolled": false
   },
   "outputs": [
    {
     "data": {
      "text/html": [
       "<div>\n",
       "<style scoped>\n",
       "    .dataframe tbody tr th:only-of-type {\n",
       "        vertical-align: middle;\n",
       "    }\n",
       "\n",
       "    .dataframe tbody tr th {\n",
       "        vertical-align: top;\n",
       "    }\n",
       "\n",
       "    .dataframe thead th {\n",
       "        text-align: right;\n",
       "    }\n",
       "</style>\n",
       "<table border=\"1\" class=\"dataframe\">\n",
       "  <thead>\n",
       "    <tr style=\"text-align: right;\">\n",
       "      <th></th>\n",
       "      <th>cds_code</th>\n",
       "      <th>c_code</th>\n",
       "      <th>cd_code</th>\n",
       "      <th>s_code</th>\n",
       "      <th>r_type</th>\n",
       "      <th>s_name</th>\n",
       "      <th>d_name</th>\n",
       "      <th>c_name</th>\n",
       "      <th>enroll_12</th>\n",
       "      <th>num_tst_takr</th>\n",
       "      <th>avg_scr_read</th>\n",
       "      <th>avg_scr_eng</th>\n",
       "      <th>avg_scr_math</th>\n",
       "      <th>avg_scr_sci</th>\n",
       "      <th>num_ge_21</th>\n",
       "      <th>pct_ge_21</th>\n",
       "      <th>year</th>\n",
       "    </tr>\n",
       "  </thead>\n",
       "  <tbody>\n",
       "    <tr>\n",
       "      <th>1064</th>\n",
       "      <td>3.400000e+13</td>\n",
       "      <td>34.0</td>\n",
       "      <td>0.0</td>\n",
       "      <td>0.0</td>\n",
       "      <td>C</td>\n",
       "      <td>None</td>\n",
       "      <td>NaN</td>\n",
       "      <td>Sacramento</td>\n",
       "      <td>19540.0</td>\n",
       "      <td>3065.0</td>\n",
       "      <td>21</td>\n",
       "      <td>20</td>\n",
       "      <td>21</td>\n",
       "      <td>21</td>\n",
       "      <td>1526</td>\n",
       "      <td>49.79</td>\n",
       "      <td>2018-19</td>\n",
       "    </tr>\n",
       "    <tr>\n",
       "      <th>1065</th>\n",
       "      <td>3.900000e+13</td>\n",
       "      <td>39.0</td>\n",
       "      <td>0.0</td>\n",
       "      <td>0.0</td>\n",
       "      <td>C</td>\n",
       "      <td>None</td>\n",
       "      <td>NaN</td>\n",
       "      <td>San Joaquin</td>\n",
       "      <td>11778.0</td>\n",
       "      <td>1348.0</td>\n",
       "      <td>22</td>\n",
       "      <td>21</td>\n",
       "      <td>21</td>\n",
       "      <td>21</td>\n",
       "      <td>693</td>\n",
       "      <td>51.41</td>\n",
       "      <td>2018-19</td>\n",
       "    </tr>\n",
       "    <tr>\n",
       "      <th>1066</th>\n",
       "      <td>1.500000e+13</td>\n",
       "      <td>15.0</td>\n",
       "      <td>0.0</td>\n",
       "      <td>0.0</td>\n",
       "      <td>C</td>\n",
       "      <td>None</td>\n",
       "      <td>NaN</td>\n",
       "      <td>Kern</td>\n",
       "      <td>14229.0</td>\n",
       "      <td>1257.0</td>\n",
       "      <td>21</td>\n",
       "      <td>20</td>\n",
       "      <td>20</td>\n",
       "      <td>20</td>\n",
       "      <td>544</td>\n",
       "      <td>43.28</td>\n",
       "      <td>2018-19</td>\n",
       "    </tr>\n",
       "  </tbody>\n",
       "</table>\n",
       "</div>"
      ],
      "text/plain": [
       "          cds_code  c_code  cd_code  s_code r_type s_name d_name       c_name  \\\n",
       "1064  3.400000e+13    34.0      0.0     0.0      C   None    NaN   Sacramento   \n",
       "1065  3.900000e+13    39.0      0.0     0.0      C   None    NaN  San Joaquin   \n",
       "1066  1.500000e+13    15.0      0.0     0.0      C   None    NaN         Kern   \n",
       "\n",
       "      enroll_12  num_tst_takr avg_scr_read avg_scr_eng avg_scr_math  \\\n",
       "1064    19540.0        3065.0           21          20           21   \n",
       "1065    11778.0        1348.0           22          21           21   \n",
       "1066    14229.0        1257.0           21          20           20   \n",
       "\n",
       "     avg_scr_sci num_ge_21 pct_ge_21     year  \n",
       "1064          21      1526     49.79  2018-19  \n",
       "1065          21       693     51.41  2018-19  \n",
       "1066          20       544     43.28  2018-19  "
      ]
     },
     "execution_count": 28,
     "metadata": {},
     "output_type": "execute_result"
    }
   ],
   "source": [
    "# Fetch the first 3 rows of the 'act' DataFrame, where there is a null value under the 'd_name' column.\n",
    "act[act['d_name'].isna()].head(3)"
   ]
  },
  {
   "cell_type": "markdown",
   "id": "60c5dcb0",
   "metadata": {},
   "source": [
    "It seems that there could be no School and District Names, but County Names. "
   ]
  },
  {
   "cell_type": "code",
   "execution_count": 29,
   "id": "8500f026",
   "metadata": {},
   "outputs": [
    {
     "data": {
      "text/plain": [
       "None    58\n",
       "Name: s_name, dtype: int64"
      ]
     },
     "execution_count": 29,
     "metadata": {},
     "output_type": "execute_result"
    }
   ],
   "source": [
    "# Fetch the value counts of the 's_name' column of the 'act' DataFrame, where there is a null value under the 'd_name' column.\n",
    "act[act['d_name'].isna()]['s_name'].value_counts()"
   ]
  },
  {
   "cell_type": "markdown",
   "id": "6397210e",
   "metadata": {},
   "source": [
    "All the School Names are 'None'."
   ]
  },
  {
   "cell_type": "code",
   "execution_count": 30,
   "id": "2a148d17",
   "metadata": {
    "scrolled": true
   },
   "outputs": [
    {
     "data": {
      "text/plain": [
       "Sacramento         1\n",
       "Placer             1\n",
       "Tuolumne           1\n",
       "Napa               1\n",
       "Butte              1\n",
       "Yuba               1\n",
       "Solano             1\n",
       "Plumas             1\n",
       "San Bernardino     1\n",
       "Lassen             1\n",
       "Alpine             1\n",
       "Colusa             1\n",
       "Del Norte          1\n",
       "Alameda            1\n",
       "Mariposa           1\n",
       "San Joaquin        1\n",
       "Tulare             1\n",
       "Tehama             1\n",
       "Fresno             1\n",
       "San Luis Obispo    1\n",
       "Monterey           1\n",
       "Yolo               1\n",
       "Imperial           1\n",
       "Siskiyou           1\n",
       "Santa Clara        1\n",
       "San Francisco      1\n",
       "Merced             1\n",
       "Nevada             1\n",
       "Modoc              1\n",
       "Riverside          1\n",
       "San Diego          1\n",
       "Amador             1\n",
       "Kern               1\n",
       "Shasta             1\n",
       "Sutter             1\n",
       "Calaveras          1\n",
       "Mono               1\n",
       "Ventura            1\n",
       "Marin              1\n",
       "El Dorado          1\n",
       "Mendocino          1\n",
       "Glenn              1\n",
       "Sierra             1\n",
       "San Mateo          1\n",
       "San Benito         1\n",
       "Sonoma             1\n",
       "Kings              1\n",
       "Trinity            1\n",
       "Inyo               1\n",
       "Madera             1\n",
       "Humboldt           1\n",
       "Santa Cruz         1\n",
       "Stanislaus         1\n",
       "Santa Barbara      1\n",
       "Lake               1\n",
       "Orange             1\n",
       "Contra Costa       1\n",
       "Los Angeles        1\n",
       "Name: c_name, dtype: int64"
      ]
     },
     "execution_count": 30,
     "metadata": {},
     "output_type": "execute_result"
    }
   ],
   "source": [
    "# Fetch the value counts of the 'c_name' column of the 'act' DataFrame, where there is a null value under the 'd_name' column.\n",
    "act[act['d_name'].isna()]['c_name'].value_counts()"
   ]
  },
  {
   "cell_type": "code",
   "execution_count": 31,
   "id": "5c1ce175",
   "metadata": {},
   "outputs": [
    {
     "data": {
      "text/plain": [
       "58"
      ]
     },
     "execution_count": 31,
     "metadata": {},
     "output_type": "execute_result"
    }
   ],
   "source": [
    "# Count the number of values in the list above.\n",
    "act[act['d_name'].isna()]['c_name'].value_counts().sum()"
   ]
  },
  {
   "cell_type": "markdown",
   "id": "c52a12c2",
   "metadata": {},
   "source": [
    "No School Names, no District Names, 58 County Names. It is safe to say that these are the rows for the aggregated data of each county, for the 58 counties of California, and our checks are consistent with this. "
   ]
  },
  {
   "cell_type": "markdown",
   "id": "9eb476bf",
   "metadata": {},
   "source": [
    "### Replacing the null values in the `'d_name'` column  \n",
    "\n",
    "We will simply fill the null values with the string 'None'."
   ]
  },
  {
   "cell_type": "code",
   "execution_count": 32,
   "id": "b43aba1b",
   "metadata": {},
   "outputs": [],
   "source": [
    "act['d_name'].fillna(value='None', inplace=True)"
   ]
  },
  {
   "cell_type": "markdown",
   "id": "5400c031",
   "metadata": {},
   "source": [
    "### Replacing the null values in the rest of the columns"
   ]
  },
  {
   "cell_type": "code",
   "execution_count": 33,
   "id": "cd8a1771",
   "metadata": {
    "scrolled": true
   },
   "outputs": [
    {
     "data": {
      "text/plain": [
       "cds_code          0\n",
       "c_code            0\n",
       "cd_code           0\n",
       "s_code            0\n",
       "r_type            0\n",
       "s_name            0\n",
       "d_name            0\n",
       "c_name            0\n",
       "enroll_12         0\n",
       "num_tst_takr      0\n",
       "avg_scr_read    356\n",
       "avg_scr_eng     356\n",
       "avg_scr_math    356\n",
       "avg_scr_sci     356\n",
       "num_ge_21       356\n",
       "pct_ge_21       356\n",
       "year              0\n",
       "dtype: int64"
      ]
     },
     "execution_count": 33,
     "metadata": {},
     "output_type": "execute_result"
    }
   ],
   "source": [
    "act.isna().sum()"
   ]
  },
  {
   "cell_type": "markdown",
   "id": "e7a5ac54",
   "metadata": {},
   "source": [
    "At this point we have a number of columns, all having 356 values. Let's check the `'avg_scr_read'` (the average score for Reading) column first. "
   ]
  },
  {
   "cell_type": "code",
   "execution_count": 34,
   "id": "9bb142cc",
   "metadata": {
    "scrolled": true
   },
   "outputs": [
    {
     "data": {
      "text/html": [
       "<div>\n",
       "<style scoped>\n",
       "    .dataframe tbody tr th:only-of-type {\n",
       "        vertical-align: middle;\n",
       "    }\n",
       "\n",
       "    .dataframe tbody tr th {\n",
       "        vertical-align: top;\n",
       "    }\n",
       "\n",
       "    .dataframe thead th {\n",
       "        text-align: right;\n",
       "    }\n",
       "</style>\n",
       "<table border=\"1\" class=\"dataframe\">\n",
       "  <thead>\n",
       "    <tr style=\"text-align: right;\">\n",
       "      <th></th>\n",
       "      <th>cds_code</th>\n",
       "      <th>c_code</th>\n",
       "      <th>cd_code</th>\n",
       "      <th>s_code</th>\n",
       "      <th>r_type</th>\n",
       "      <th>s_name</th>\n",
       "      <th>d_name</th>\n",
       "      <th>c_name</th>\n",
       "      <th>enroll_12</th>\n",
       "      <th>num_tst_takr</th>\n",
       "      <th>avg_scr_read</th>\n",
       "      <th>avg_scr_eng</th>\n",
       "      <th>avg_scr_math</th>\n",
       "      <th>avg_scr_sci</th>\n",
       "      <th>num_ge_21</th>\n",
       "      <th>pct_ge_21</th>\n",
       "      <th>year</th>\n",
       "    </tr>\n",
       "  </thead>\n",
       "  <tbody>\n",
       "    <tr>\n",
       "      <th>0</th>\n",
       "      <td>3.366993e+13</td>\n",
       "      <td>33.0</td>\n",
       "      <td>3366993.0</td>\n",
       "      <td>129882.0</td>\n",
       "      <td>S</td>\n",
       "      <td>21st Century Learning Institute</td>\n",
       "      <td>Beaumont Unified</td>\n",
       "      <td>Riverside</td>\n",
       "      <td>18.0</td>\n",
       "      <td>0.0</td>\n",
       "      <td>NaN</td>\n",
       "      <td>NaN</td>\n",
       "      <td>NaN</td>\n",
       "      <td>NaN</td>\n",
       "      <td>NaN</td>\n",
       "      <td>NaN</td>\n",
       "      <td>2018-19</td>\n",
       "    </tr>\n",
       "    <tr>\n",
       "      <th>1</th>\n",
       "      <td>1.964212e+13</td>\n",
       "      <td>19.0</td>\n",
       "      <td>1964212.0</td>\n",
       "      <td>1995596.0</td>\n",
       "      <td>S</td>\n",
       "      <td>ABC Secondary (Alternative)</td>\n",
       "      <td>ABC Unified</td>\n",
       "      <td>Los Angeles</td>\n",
       "      <td>58.0</td>\n",
       "      <td>0.0</td>\n",
       "      <td>NaN</td>\n",
       "      <td>NaN</td>\n",
       "      <td>NaN</td>\n",
       "      <td>NaN</td>\n",
       "      <td>NaN</td>\n",
       "      <td>NaN</td>\n",
       "      <td>2018-19</td>\n",
       "    </tr>\n",
       "    <tr>\n",
       "      <th>2</th>\n",
       "      <td>1.563776e+13</td>\n",
       "      <td>15.0</td>\n",
       "      <td>1563776.0</td>\n",
       "      <td>1530377.0</td>\n",
       "      <td>S</td>\n",
       "      <td>Abraham Lincoln Alternative</td>\n",
       "      <td>Southern Kern Unified</td>\n",
       "      <td>Kern</td>\n",
       "      <td>18.0</td>\n",
       "      <td>0.0</td>\n",
       "      <td>NaN</td>\n",
       "      <td>NaN</td>\n",
       "      <td>NaN</td>\n",
       "      <td>NaN</td>\n",
       "      <td>NaN</td>\n",
       "      <td>NaN</td>\n",
       "      <td>2018-19</td>\n",
       "    </tr>\n",
       "  </tbody>\n",
       "</table>\n",
       "</div>"
      ],
      "text/plain": [
       "       cds_code  c_code    cd_code     s_code r_type  \\\n",
       "0  3.366993e+13    33.0  3366993.0   129882.0      S   \n",
       "1  1.964212e+13    19.0  1964212.0  1995596.0      S   \n",
       "2  1.563776e+13    15.0  1563776.0  1530377.0      S   \n",
       "\n",
       "                            s_name                 d_name       c_name  \\\n",
       "0  21st Century Learning Institute       Beaumont Unified    Riverside   \n",
       "1      ABC Secondary (Alternative)            ABC Unified  Los Angeles   \n",
       "2      Abraham Lincoln Alternative  Southern Kern Unified         Kern   \n",
       "\n",
       "   enroll_12  num_tst_takr avg_scr_read avg_scr_eng avg_scr_math avg_scr_sci  \\\n",
       "0       18.0           0.0          NaN         NaN          NaN         NaN   \n",
       "1       58.0           0.0          NaN         NaN          NaN         NaN   \n",
       "2       18.0           0.0          NaN         NaN          NaN         NaN   \n",
       "\n",
       "  num_ge_21 pct_ge_21     year  \n",
       "0       NaN       NaN  2018-19  \n",
       "1       NaN       NaN  2018-19  \n",
       "2       NaN       NaN  2018-19  "
      ]
     },
     "execution_count": 34,
     "metadata": {},
     "output_type": "execute_result"
    }
   ],
   "source": [
    "act[act['avg_scr_read'].isna()].head(3)"
   ]
  },
  {
   "cell_type": "markdown",
   "id": "80fe94a6",
   "metadata": {},
   "source": [
    "It seems that these are the columns with no test takers (`'num_tst_takr'`). "
   ]
  },
  {
   "cell_type": "code",
   "execution_count": 35,
   "id": "57645117",
   "metadata": {
    "scrolled": false
   },
   "outputs": [
    {
     "data": {
      "text/plain": [
       "True"
      ]
     },
     "execution_count": 35,
     "metadata": {},
     "output_type": "execute_result"
    }
   ],
   "source": [
    "# For the DataFrame rows fetched where it is a null value in the 'avg_scr_read' column, is it equal to \n",
    "# the DataFrame rows fetched where the values in the 'num_tst_takr' column are '0.0'?\n",
    "act[act['avg_scr_read'].isna()].equals(act[act['num_tst_takr'] == 0.0])"
   ]
  },
  {
   "cell_type": "markdown",
   "id": "44b46c12",
   "metadata": {},
   "source": [
    "It is true that the entries (rows) with no test takers are the ones having NaN values under `'avg_scr_read'`. \n",
    "\n",
    "Let's apply this test for the rest of the columns, up till the `'pct_ge_21'` column."
   ]
  },
  {
   "cell_type": "code",
   "execution_count": 36,
   "id": "b726fc17",
   "metadata": {},
   "outputs": [],
   "source": [
    "# Defining a checker function for the above operation.\n",
    "def na_has_no_test_takers(col_names, test_takers_col_name, df):\n",
    "    for col_name in col_names:\n",
    "        print(col_name + ':', df[df[col_name].isna()].equals(df[df[test_takers_col_name] == 0.0]))"
   ]
  },
  {
   "cell_type": "code",
   "execution_count": 37,
   "id": "7756d7af",
   "metadata": {},
   "outputs": [
    {
     "name": "stdout",
     "output_type": "stream",
     "text": [
      "avg_scr_read: True\n",
      "avg_scr_eng: True\n",
      "avg_scr_math: True\n",
      "avg_scr_sci: True\n",
      "num_ge_21: True\n",
      "pct_ge_21: True\n"
     ]
    }
   ],
   "source": [
    "act_list = ['avg_scr_read',\n",
    "            'avg_scr_eng',\n",
    "            'avg_scr_math',\n",
    "            'avg_scr_sci',\n",
    "            'num_ge_21',\n",
    "            'pct_ge_21']\n",
    "\n",
    "na_has_no_test_takers(act_list, 'num_tst_takr', act)"
   ]
  },
  {
   "cell_type": "markdown",
   "id": "c08b2d2e",
   "metadata": {},
   "source": [
    "The data has been validated. There are no anomalous entries for that part of the data. We will fill the null values with the value 'None', since there are no test takers. However, this means there will be multiple datatypes in the same column. We will be excluding the non-test takers before doing summary statistics. "
   ]
  },
  {
   "cell_type": "code",
   "execution_count": 38,
   "id": "61987c14",
   "metadata": {},
   "outputs": [],
   "source": [
    "# Replaces all the null values with 'None' in the columns of interest.\n",
    "for column in act_list: \n",
    "    act[column].fillna(value='None', inplace=True)"
   ]
  },
  {
   "cell_type": "code",
   "execution_count": 39,
   "id": "df4b39d6",
   "metadata": {
    "scrolled": false
   },
   "outputs": [
    {
     "data": {
      "text/plain": [
       "0"
      ]
     },
     "execution_count": 39,
     "metadata": {},
     "output_type": "execute_result"
    }
   ],
   "source": [
    "# Gets the total number of null values in the entire DataFrame\n",
    "act.isna().sum().sum()"
   ]
  },
  {
   "cell_type": "code",
   "execution_count": 40,
   "id": "edc68df7",
   "metadata": {
    "scrolled": true
   },
   "outputs": [
    {
     "data": {
      "text/plain": [
       "cds_code        0\n",
       "c_code          0\n",
       "cd_code         0\n",
       "s_code          0\n",
       "r_type          0\n",
       "s_name          0\n",
       "d_name          0\n",
       "c_name          0\n",
       "enroll_12       0\n",
       "num_tst_takr    0\n",
       "avg_scr_read    0\n",
       "avg_scr_eng     0\n",
       "avg_scr_math    0\n",
       "avg_scr_sci     0\n",
       "num_ge_21       0\n",
       "pct_ge_21       0\n",
       "year            0\n",
       "dtype: int64"
      ]
     },
     "execution_count": 40,
     "metadata": {},
     "output_type": "execute_result"
    }
   ],
   "source": [
    "act.isna().sum()"
   ]
  },
  {
   "cell_type": "markdown",
   "id": "7c2aa2ff",
   "metadata": {},
   "source": [
    "We have removed all the null values from the `'act'` DataFrame. "
   ]
  },
  {
   "cell_type": "markdown",
   "id": "75687fa1",
   "metadata": {},
   "source": [
    "### Preparing the columns for typecasting \n",
    "\n",
    "As we have established, the mixture of datatypes in a column can lead to issues. Another area of concern would be typecasting. "
   ]
  },
  {
   "cell_type": "code",
   "execution_count": 41,
   "id": "57663a12",
   "metadata": {
    "scrolled": false
   },
   "outputs": [
    {
     "name": "stdout",
     "output_type": "stream",
     "text": [
      "<class 'pandas.core.frame.DataFrame'>\n",
      "Int64Index: 2309 entries, 0 to 2308\n",
      "Data columns (total 17 columns):\n",
      " #   Column        Non-Null Count  Dtype  \n",
      "---  ------        --------------  -----  \n",
      " 0   cds_code      2309 non-null   float64\n",
      " 1   c_code        2309 non-null   float64\n",
      " 2   cd_code       2309 non-null   float64\n",
      " 3   s_code        2309 non-null   float64\n",
      " 4   r_type        2309 non-null   object \n",
      " 5   s_name        2309 non-null   object \n",
      " 6   d_name        2309 non-null   object \n",
      " 7   c_name        2309 non-null   object \n",
      " 8   enroll_12     2309 non-null   float64\n",
      " 9   num_tst_takr  2309 non-null   float64\n",
      " 10  avg_scr_read  2309 non-null   object \n",
      " 11  avg_scr_eng   2309 non-null   object \n",
      " 12  avg_scr_math  2309 non-null   object \n",
      " 13  avg_scr_sci   2309 non-null   object \n",
      " 14  num_ge_21     2309 non-null   object \n",
      " 15  pct_ge_21     2309 non-null   object \n",
      " 16  year          2309 non-null   object \n",
      "dtypes: float64(6), object(11)\n",
      "memory usage: 324.7+ KB\n"
     ]
    }
   ],
   "source": [
    "act.info()"
   ]
  },
  {
   "cell_type": "markdown",
   "id": "23d66cdc",
   "metadata": {},
   "source": [
    "There are numeric columns (`'avg_scr_read'` to `'pct_ge_21'`) that should be numeric, but are of object datatype. \n",
    "\n",
    "### Dropping the rows with no test-takers\n",
    "\n",
    "There will be a loss of some information, such as that for enrollment numbers of schools without test-takers. Thus, we can save the DataFrame at this stage. "
   ]
  },
  {
   "cell_type": "code",
   "execution_count": 42,
   "id": "01c2ef89",
   "metadata": {},
   "outputs": [],
   "source": [
    "act.to_csv('../data/act_2019_ca_before_drop.csv', index=False)"
   ]
  },
  {
   "cell_type": "code",
   "execution_count": 43,
   "id": "64b5c025",
   "metadata": {},
   "outputs": [],
   "source": [
    "# Reassign the 'act' DataFrame to one including only rows where 'num_tst_takr' is not the float '0.0'\n",
    "act = act[act['num_tst_takr'] != 0.0]"
   ]
  },
  {
   "cell_type": "code",
   "execution_count": 44,
   "id": "8c896862",
   "metadata": {
    "scrolled": true
   },
   "outputs": [
    {
     "data": {
      "text/plain": [
       "1953"
      ]
     },
     "execution_count": 44,
     "metadata": {},
     "output_type": "execute_result"
    }
   ],
   "source": [
    "len(act)"
   ]
  },
  {
   "cell_type": "markdown",
   "id": "1ff80f75",
   "metadata": {},
   "source": [
    "We have removed the rows with no test takers. Originally, it was 2310 rows. The 'None' values have been cleared. \n",
    "\n",
    "### Dropping the rows with asterisks \n",
    "\n",
    "However, a number of rows still have asterisk values. We know from the data source that this is to preserve anonymity for cases where the number of test takers is very low (14 and below). This is for the columns `'avg_scr_read'` up till `'pct_ge_21'`."
   ]
  },
  {
   "cell_type": "code",
   "execution_count": 45,
   "id": "0f5281c7",
   "metadata": {
    "scrolled": true
   },
   "outputs": [
    {
     "data": {
      "text/html": [
       "<div>\n",
       "<style scoped>\n",
       "    .dataframe tbody tr th:only-of-type {\n",
       "        vertical-align: middle;\n",
       "    }\n",
       "\n",
       "    .dataframe tbody tr th {\n",
       "        vertical-align: top;\n",
       "    }\n",
       "\n",
       "    .dataframe thead th {\n",
       "        text-align: right;\n",
       "    }\n",
       "</style>\n",
       "<table border=\"1\" class=\"dataframe\">\n",
       "  <thead>\n",
       "    <tr style=\"text-align: right;\">\n",
       "      <th></th>\n",
       "      <th>cds_code</th>\n",
       "      <th>c_code</th>\n",
       "      <th>cd_code</th>\n",
       "      <th>s_code</th>\n",
       "      <th>r_type</th>\n",
       "      <th>s_name</th>\n",
       "      <th>d_name</th>\n",
       "      <th>c_name</th>\n",
       "      <th>enroll_12</th>\n",
       "      <th>num_tst_takr</th>\n",
       "      <th>avg_scr_read</th>\n",
       "      <th>avg_scr_eng</th>\n",
       "      <th>avg_scr_math</th>\n",
       "      <th>avg_scr_sci</th>\n",
       "      <th>num_ge_21</th>\n",
       "      <th>pct_ge_21</th>\n",
       "      <th>year</th>\n",
       "    </tr>\n",
       "  </thead>\n",
       "  <tbody>\n",
       "    <tr>\n",
       "      <th>7</th>\n",
       "      <td>1.964246e+13</td>\n",
       "      <td>19.0</td>\n",
       "      <td>1964246.0</td>\n",
       "      <td>126003.0</td>\n",
       "      <td>S</td>\n",
       "      <td>Academies of the Antelope Valley</td>\n",
       "      <td>Antelope Valley Union High</td>\n",
       "      <td>Los Angeles</td>\n",
       "      <td>14.0</td>\n",
       "      <td>1.0</td>\n",
       "      <td>*</td>\n",
       "      <td>*</td>\n",
       "      <td>*</td>\n",
       "      <td>*</td>\n",
       "      <td>*</td>\n",
       "      <td>*</td>\n",
       "      <td>2018-19</td>\n",
       "    </tr>\n",
       "    <tr>\n",
       "      <th>8</th>\n",
       "      <td>3.868478e+13</td>\n",
       "      <td>38.0</td>\n",
       "      <td>3868478.0</td>\n",
       "      <td>119958.0</td>\n",
       "      <td>S</td>\n",
       "      <td>Academy (The)- SF @McAteer</td>\n",
       "      <td>San Francisco Unified</td>\n",
       "      <td>San Francisco</td>\n",
       "      <td>84.0</td>\n",
       "      <td>9.0</td>\n",
       "      <td>*</td>\n",
       "      <td>*</td>\n",
       "      <td>*</td>\n",
       "      <td>*</td>\n",
       "      <td>*</td>\n",
       "      <td>*</td>\n",
       "      <td>2018-19</td>\n",
       "    </tr>\n",
       "    <tr>\n",
       "      <th>9</th>\n",
       "      <td>3.675077e+13</td>\n",
       "      <td>36.0</td>\n",
       "      <td>3675077.0</td>\n",
       "      <td>3631207.0</td>\n",
       "      <td>S</td>\n",
       "      <td>Academy for Academic Excellence</td>\n",
       "      <td>Apple Valley Unified</td>\n",
       "      <td>San Bernardino</td>\n",
       "      <td>97.0</td>\n",
       "      <td>13.0</td>\n",
       "      <td>*</td>\n",
       "      <td>*</td>\n",
       "      <td>*</td>\n",
       "      <td>*</td>\n",
       "      <td>*</td>\n",
       "      <td>*</td>\n",
       "      <td>2018-19</td>\n",
       "    </tr>\n",
       "    <tr>\n",
       "      <th>10</th>\n",
       "      <td>1.964733e+13</td>\n",
       "      <td>19.0</td>\n",
       "      <td>1964733.0</td>\n",
       "      <td>126573.0</td>\n",
       "      <td>S</td>\n",
       "      <td>Academy for Multilingual Arts and Science at M...</td>\n",
       "      <td>Los Angeles Unified</td>\n",
       "      <td>Los Angeles</td>\n",
       "      <td>141.0</td>\n",
       "      <td>10.0</td>\n",
       "      <td>*</td>\n",
       "      <td>*</td>\n",
       "      <td>*</td>\n",
       "      <td>*</td>\n",
       "      <td>*</td>\n",
       "      <td>*</td>\n",
       "      <td>2018-19</td>\n",
       "    </tr>\n",
       "    <tr>\n",
       "      <th>11</th>\n",
       "      <td>3.667736e+13</td>\n",
       "      <td>36.0</td>\n",
       "      <td>3667736.0</td>\n",
       "      <td>116723.0</td>\n",
       "      <td>S</td>\n",
       "      <td>Academy of Careers and Exploration</td>\n",
       "      <td>Helendale Elementary</td>\n",
       "      <td>San Bernardino</td>\n",
       "      <td>63.0</td>\n",
       "      <td>5.0</td>\n",
       "      <td>*</td>\n",
       "      <td>*</td>\n",
       "      <td>*</td>\n",
       "      <td>*</td>\n",
       "      <td>*</td>\n",
       "      <td>*</td>\n",
       "      <td>2018-19</td>\n",
       "    </tr>\n",
       "  </tbody>\n",
       "</table>\n",
       "</div>"
      ],
      "text/plain": [
       "        cds_code  c_code    cd_code     s_code r_type  \\\n",
       "7   1.964246e+13    19.0  1964246.0   126003.0      S   \n",
       "8   3.868478e+13    38.0  3868478.0   119958.0      S   \n",
       "9   3.675077e+13    36.0  3675077.0  3631207.0      S   \n",
       "10  1.964733e+13    19.0  1964733.0   126573.0      S   \n",
       "11  3.667736e+13    36.0  3667736.0   116723.0      S   \n",
       "\n",
       "                                               s_name  \\\n",
       "7                    Academies of the Antelope Valley   \n",
       "8                          Academy (The)- SF @McAteer   \n",
       "9                     Academy for Academic Excellence   \n",
       "10  Academy for Multilingual Arts and Science at M...   \n",
       "11                 Academy of Careers and Exploration   \n",
       "\n",
       "                        d_name          c_name  enroll_12  num_tst_takr  \\\n",
       "7   Antelope Valley Union High     Los Angeles       14.0           1.0   \n",
       "8        San Francisco Unified   San Francisco       84.0           9.0   \n",
       "9         Apple Valley Unified  San Bernardino       97.0          13.0   \n",
       "10         Los Angeles Unified     Los Angeles      141.0          10.0   \n",
       "11        Helendale Elementary  San Bernardino       63.0           5.0   \n",
       "\n",
       "   avg_scr_read avg_scr_eng avg_scr_math avg_scr_sci num_ge_21 pct_ge_21  \\\n",
       "7             *           *            *           *         *         *   \n",
       "8             *           *            *           *         *         *   \n",
       "9             *           *            *           *         *         *   \n",
       "10            *           *            *           *         *         *   \n",
       "11            *           *            *           *         *         *   \n",
       "\n",
       "       year  \n",
       "7   2018-19  \n",
       "8   2018-19  \n",
       "9   2018-19  \n",
       "10  2018-19  \n",
       "11  2018-19  "
      ]
     },
     "execution_count": 45,
     "metadata": {},
     "output_type": "execute_result"
    }
   ],
   "source": [
    "# Fetch the rows of the 'act' DataFrame where 'avg_scr_read' is an asterisk symbol.\n",
    "act[act['avg_scr_read'] == '*'].head()"
   ]
  },
  {
   "cell_type": "markdown",
   "id": "f8861436",
   "metadata": {},
   "source": [
    "Since there is no score information, we will drop these too before doing summary statistics. "
   ]
  },
  {
   "cell_type": "code",
   "execution_count": 46,
   "id": "cd63d42f",
   "metadata": {},
   "outputs": [],
   "source": [
    "# Reassign the act DataFrame to one including only rows where 'avg_scr_read' is not '*'.\n",
    "act = act[act['avg_scr_read'] != '*']"
   ]
  },
  {
   "cell_type": "markdown",
   "id": "8dd9b39f",
   "metadata": {},
   "source": [
    "Let's check if we have also removed the asterisks from the rest of the columns:"
   ]
  },
  {
   "cell_type": "code",
   "execution_count": 47,
   "id": "e09d4c62",
   "metadata": {
    "scrolled": true
   },
   "outputs": [
    {
     "data": {
      "text/plain": [
       "0"
      ]
     },
     "execution_count": 47,
     "metadata": {},
     "output_type": "execute_result"
    }
   ],
   "source": [
    "# Get the total number of values in the selected DataFrame columns that match the string '*'\n",
    "act[['avg_scr_eng','avg_scr_math', 'avg_scr_sci', 'num_ge_21', 'pct_ge_21']].eq('*').sum().sum()"
   ]
  },
  {
   "cell_type": "markdown",
   "id": "7d5d3029",
   "metadata": {},
   "source": [
    "Yes, we have removed the asterisks."
   ]
  },
  {
   "cell_type": "code",
   "execution_count": 48,
   "id": "642b5326",
   "metadata": {},
   "outputs": [
    {
     "data": {
      "text/plain": [
       "1421"
      ]
     },
     "execution_count": 48,
     "metadata": {},
     "output_type": "execute_result"
    }
   ],
   "source": [
    "len(act)"
   ]
  },
  {
   "cell_type": "markdown",
   "id": "c03d927e",
   "metadata": {},
   "source": [
    "Previously, it was 1953 rows. Hence, there were no provided values for a few hundred rows. "
   ]
  },
  {
   "cell_type": "markdown",
   "id": "56fa61b4",
   "metadata": {},
   "source": [
    "### Typecasting columns to numerical form\n",
    "\n",
    "The datatypes of each column is as follows:"
   ]
  },
  {
   "cell_type": "code",
   "execution_count": 49,
   "id": "0a173fa6",
   "metadata": {
    "scrolled": true
   },
   "outputs": [
    {
     "name": "stdout",
     "output_type": "stream",
     "text": [
      "<class 'pandas.core.frame.DataFrame'>\n",
      "Int64Index: 1421 entries, 3 to 2306\n",
      "Data columns (total 17 columns):\n",
      " #   Column        Non-Null Count  Dtype  \n",
      "---  ------        --------------  -----  \n",
      " 0   cds_code      1421 non-null   float64\n",
      " 1   c_code        1421 non-null   float64\n",
      " 2   cd_code       1421 non-null   float64\n",
      " 3   s_code        1421 non-null   float64\n",
      " 4   r_type        1421 non-null   object \n",
      " 5   s_name        1421 non-null   object \n",
      " 6   d_name        1421 non-null   object \n",
      " 7   c_name        1421 non-null   object \n",
      " 8   enroll_12     1421 non-null   float64\n",
      " 9   num_tst_takr  1421 non-null   float64\n",
      " 10  avg_scr_read  1421 non-null   object \n",
      " 11  avg_scr_eng   1421 non-null   object \n",
      " 12  avg_scr_math  1421 non-null   object \n",
      " 13  avg_scr_sci   1421 non-null   object \n",
      " 14  num_ge_21     1421 non-null   object \n",
      " 15  pct_ge_21     1421 non-null   object \n",
      " 16  year          1421 non-null   object \n",
      "dtypes: float64(6), object(11)\n",
      "memory usage: 199.8+ KB\n"
     ]
    }
   ],
   "source": [
    "act.info()"
   ]
  },
  {
   "cell_type": "markdown",
   "id": "be2ca9bd",
   "metadata": {},
   "source": [
    "The numeric columns from the previous part still have to be formally typecasted. "
   ]
  },
  {
   "cell_type": "code",
   "execution_count": 50,
   "id": "b430da27",
   "metadata": {},
   "outputs": [],
   "source": [
    "# Defining a function to convert a given list of columns to a numeric datatype.\n",
    "def numeric_converter(col_names, df):\n",
    "    for col_name in col_names:\n",
    "        df[col_name] = df[col_name].apply(pd.to_numeric)"
   ]
  },
  {
   "cell_type": "code",
   "execution_count": 51,
   "id": "fcbe9368",
   "metadata": {},
   "outputs": [],
   "source": [
    "numeric_converter(act_list, act)"
   ]
  },
  {
   "cell_type": "code",
   "execution_count": 52,
   "id": "435e767f",
   "metadata": {},
   "outputs": [
    {
     "name": "stdout",
     "output_type": "stream",
     "text": [
      "<class 'pandas.core.frame.DataFrame'>\n",
      "Int64Index: 1421 entries, 3 to 2306\n",
      "Data columns (total 17 columns):\n",
      " #   Column        Non-Null Count  Dtype  \n",
      "---  ------        --------------  -----  \n",
      " 0   cds_code      1421 non-null   float64\n",
      " 1   c_code        1421 non-null   float64\n",
      " 2   cd_code       1421 non-null   float64\n",
      " 3   s_code        1421 non-null   float64\n",
      " 4   r_type        1421 non-null   object \n",
      " 5   s_name        1421 non-null   object \n",
      " 6   d_name        1421 non-null   object \n",
      " 7   c_name        1421 non-null   object \n",
      " 8   enroll_12     1421 non-null   float64\n",
      " 9   num_tst_takr  1421 non-null   float64\n",
      " 10  avg_scr_read  1421 non-null   int64  \n",
      " 11  avg_scr_eng   1421 non-null   int64  \n",
      " 12  avg_scr_math  1421 non-null   int64  \n",
      " 13  avg_scr_sci   1421 non-null   int64  \n",
      " 14  num_ge_21     1421 non-null   int64  \n",
      " 15  pct_ge_21     1421 non-null   float64\n",
      " 16  year          1421 non-null   object \n",
      "dtypes: float64(7), int64(5), object(5)\n",
      "memory usage: 199.8+ KB\n"
     ]
    }
   ],
   "source": [
    "act.info()"
   ]
  },
  {
   "cell_type": "markdown",
   "id": "33a5bf84",
   "metadata": {},
   "source": [
    "The typecasting was successful. \n",
    "\n",
    "### Checking the numerical columns for anomalies\n",
    "\n",
    "We will now check each column to see if it is reasonable. \n",
    "\n",
    "The first 4 columns are just codes, but rendered in floats. We would likely prefer them in integer format."
   ]
  },
  {
   "cell_type": "code",
   "execution_count": 53,
   "id": "c3241ccf",
   "metadata": {},
   "outputs": [
    {
     "data": {
      "text/html": [
       "<div>\n",
       "<style scoped>\n",
       "    .dataframe tbody tr th:only-of-type {\n",
       "        vertical-align: middle;\n",
       "    }\n",
       "\n",
       "    .dataframe tbody tr th {\n",
       "        vertical-align: top;\n",
       "    }\n",
       "\n",
       "    .dataframe thead th {\n",
       "        text-align: right;\n",
       "    }\n",
       "</style>\n",
       "<table border=\"1\" class=\"dataframe\">\n",
       "  <thead>\n",
       "    <tr style=\"text-align: right;\">\n",
       "      <th></th>\n",
       "      <th>cds_code</th>\n",
       "      <th>c_code</th>\n",
       "      <th>cd_code</th>\n",
       "      <th>s_code</th>\n",
       "      <th>r_type</th>\n",
       "      <th>s_name</th>\n",
       "      <th>d_name</th>\n",
       "      <th>c_name</th>\n",
       "      <th>enroll_12</th>\n",
       "      <th>num_tst_takr</th>\n",
       "      <th>avg_scr_read</th>\n",
       "      <th>avg_scr_eng</th>\n",
       "      <th>avg_scr_math</th>\n",
       "      <th>avg_scr_sci</th>\n",
       "      <th>num_ge_21</th>\n",
       "      <th>pct_ge_21</th>\n",
       "      <th>year</th>\n",
       "    </tr>\n",
       "  </thead>\n",
       "  <tbody>\n",
       "    <tr>\n",
       "      <th>3</th>\n",
       "      <td>4.369666e+13</td>\n",
       "      <td>43.0</td>\n",
       "      <td>4369666.0</td>\n",
       "      <td>4333795.0</td>\n",
       "      <td>S</td>\n",
       "      <td>Abraham Lincoln High</td>\n",
       "      <td>San Jose Unified</td>\n",
       "      <td>Santa Clara</td>\n",
       "      <td>463.0</td>\n",
       "      <td>53.0</td>\n",
       "      <td>23</td>\n",
       "      <td>22</td>\n",
       "      <td>22</td>\n",
       "      <td>23</td>\n",
       "      <td>34</td>\n",
       "      <td>64.15</td>\n",
       "      <td>2018-19</td>\n",
       "    </tr>\n",
       "    <tr>\n",
       "      <th>4</th>\n",
       "      <td>1.964733e+13</td>\n",
       "      <td>19.0</td>\n",
       "      <td>1964733.0</td>\n",
       "      <td>1935121.0</td>\n",
       "      <td>S</td>\n",
       "      <td>Abraham Lincoln Senior High</td>\n",
       "      <td>Los Angeles Unified</td>\n",
       "      <td>Los Angeles</td>\n",
       "      <td>226.0</td>\n",
       "      <td>19.0</td>\n",
       "      <td>21</td>\n",
       "      <td>20</td>\n",
       "      <td>23</td>\n",
       "      <td>22</td>\n",
       "      <td>11</td>\n",
       "      <td>57.89</td>\n",
       "      <td>2018-19</td>\n",
       "    </tr>\n",
       "    <tr>\n",
       "      <th>5</th>\n",
       "      <td>1.976968e+13</td>\n",
       "      <td>19.0</td>\n",
       "      <td>1976968.0</td>\n",
       "      <td>109926.0</td>\n",
       "      <td>S</td>\n",
       "      <td>Academia Avance Charter</td>\n",
       "      <td>SBE - Academia Avance Charter</td>\n",
       "      <td>Los Angeles</td>\n",
       "      <td>65.0</td>\n",
       "      <td>33.0</td>\n",
       "      <td>15</td>\n",
       "      <td>15</td>\n",
       "      <td>17</td>\n",
       "      <td>16</td>\n",
       "      <td>3</td>\n",
       "      <td>9.09</td>\n",
       "      <td>2018-19</td>\n",
       "    </tr>\n",
       "  </tbody>\n",
       "</table>\n",
       "</div>"
      ],
      "text/plain": [
       "       cds_code  c_code    cd_code     s_code r_type  \\\n",
       "3  4.369666e+13    43.0  4369666.0  4333795.0      S   \n",
       "4  1.964733e+13    19.0  1964733.0  1935121.0      S   \n",
       "5  1.976968e+13    19.0  1976968.0   109926.0      S   \n",
       "\n",
       "                        s_name                         d_name       c_name  \\\n",
       "3         Abraham Lincoln High               San Jose Unified  Santa Clara   \n",
       "4  Abraham Lincoln Senior High            Los Angeles Unified  Los Angeles   \n",
       "5      Academia Avance Charter  SBE - Academia Avance Charter  Los Angeles   \n",
       "\n",
       "   enroll_12  num_tst_takr  avg_scr_read  avg_scr_eng  avg_scr_math  \\\n",
       "3      463.0          53.0            23           22            22   \n",
       "4      226.0          19.0            21           20            23   \n",
       "5       65.0          33.0            15           15            17   \n",
       "\n",
       "   avg_scr_sci  num_ge_21  pct_ge_21     year  \n",
       "3           23         34      64.15  2018-19  \n",
       "4           22         11      57.89  2018-19  \n",
       "5           16          3       9.09  2018-19  "
      ]
     },
     "execution_count": 53,
     "metadata": {},
     "output_type": "execute_result"
    }
   ],
   "source": [
    "act.head(3)"
   ]
  },
  {
   "cell_type": "code",
   "execution_count": 54,
   "id": "84b27e1d",
   "metadata": {},
   "outputs": [],
   "source": [
    "# Typecasting the columns to integer format \n",
    "act[['cds_code', 'c_code', 'cd_code', 's_code']] = act[['cds_code', 'c_code', 'cd_code', 's_code']].astype('int64')"
   ]
  },
  {
   "cell_type": "code",
   "execution_count": 55,
   "id": "37abce33",
   "metadata": {
    "scrolled": true
   },
   "outputs": [
    {
     "data": {
      "text/html": [
       "<div>\n",
       "<style scoped>\n",
       "    .dataframe tbody tr th:only-of-type {\n",
       "        vertical-align: middle;\n",
       "    }\n",
       "\n",
       "    .dataframe tbody tr th {\n",
       "        vertical-align: top;\n",
       "    }\n",
       "\n",
       "    .dataframe thead th {\n",
       "        text-align: right;\n",
       "    }\n",
       "</style>\n",
       "<table border=\"1\" class=\"dataframe\">\n",
       "  <thead>\n",
       "    <tr style=\"text-align: right;\">\n",
       "      <th></th>\n",
       "      <th>cds_code</th>\n",
       "      <th>c_code</th>\n",
       "      <th>cd_code</th>\n",
       "      <th>s_code</th>\n",
       "      <th>r_type</th>\n",
       "      <th>s_name</th>\n",
       "      <th>d_name</th>\n",
       "      <th>c_name</th>\n",
       "      <th>enroll_12</th>\n",
       "      <th>num_tst_takr</th>\n",
       "      <th>avg_scr_read</th>\n",
       "      <th>avg_scr_eng</th>\n",
       "      <th>avg_scr_math</th>\n",
       "      <th>avg_scr_sci</th>\n",
       "      <th>num_ge_21</th>\n",
       "      <th>pct_ge_21</th>\n",
       "      <th>year</th>\n",
       "    </tr>\n",
       "  </thead>\n",
       "  <tbody>\n",
       "    <tr>\n",
       "      <th>3</th>\n",
       "      <td>43696664333795</td>\n",
       "      <td>43</td>\n",
       "      <td>4369666</td>\n",
       "      <td>4333795</td>\n",
       "      <td>S</td>\n",
       "      <td>Abraham Lincoln High</td>\n",
       "      <td>San Jose Unified</td>\n",
       "      <td>Santa Clara</td>\n",
       "      <td>463.0</td>\n",
       "      <td>53.0</td>\n",
       "      <td>23</td>\n",
       "      <td>22</td>\n",
       "      <td>22</td>\n",
       "      <td>23</td>\n",
       "      <td>34</td>\n",
       "      <td>64.15</td>\n",
       "      <td>2018-19</td>\n",
       "    </tr>\n",
       "    <tr>\n",
       "      <th>4</th>\n",
       "      <td>19647331935121</td>\n",
       "      <td>19</td>\n",
       "      <td>1964733</td>\n",
       "      <td>1935121</td>\n",
       "      <td>S</td>\n",
       "      <td>Abraham Lincoln Senior High</td>\n",
       "      <td>Los Angeles Unified</td>\n",
       "      <td>Los Angeles</td>\n",
       "      <td>226.0</td>\n",
       "      <td>19.0</td>\n",
       "      <td>21</td>\n",
       "      <td>20</td>\n",
       "      <td>23</td>\n",
       "      <td>22</td>\n",
       "      <td>11</td>\n",
       "      <td>57.89</td>\n",
       "      <td>2018-19</td>\n",
       "    </tr>\n",
       "    <tr>\n",
       "      <th>5</th>\n",
       "      <td>19769680109926</td>\n",
       "      <td>19</td>\n",
       "      <td>1976968</td>\n",
       "      <td>109926</td>\n",
       "      <td>S</td>\n",
       "      <td>Academia Avance Charter</td>\n",
       "      <td>SBE - Academia Avance Charter</td>\n",
       "      <td>Los Angeles</td>\n",
       "      <td>65.0</td>\n",
       "      <td>33.0</td>\n",
       "      <td>15</td>\n",
       "      <td>15</td>\n",
       "      <td>17</td>\n",
       "      <td>16</td>\n",
       "      <td>3</td>\n",
       "      <td>9.09</td>\n",
       "      <td>2018-19</td>\n",
       "    </tr>\n",
       "  </tbody>\n",
       "</table>\n",
       "</div>"
      ],
      "text/plain": [
       "         cds_code  c_code  cd_code   s_code r_type  \\\n",
       "3  43696664333795      43  4369666  4333795      S   \n",
       "4  19647331935121      19  1964733  1935121      S   \n",
       "5  19769680109926      19  1976968   109926      S   \n",
       "\n",
       "                        s_name                         d_name       c_name  \\\n",
       "3         Abraham Lincoln High               San Jose Unified  Santa Clara   \n",
       "4  Abraham Lincoln Senior High            Los Angeles Unified  Los Angeles   \n",
       "5      Academia Avance Charter  SBE - Academia Avance Charter  Los Angeles   \n",
       "\n",
       "   enroll_12  num_tst_takr  avg_scr_read  avg_scr_eng  avg_scr_math  \\\n",
       "3      463.0          53.0            23           22            22   \n",
       "4      226.0          19.0            21           20            23   \n",
       "5       65.0          33.0            15           15            17   \n",
       "\n",
       "   avg_scr_sci  num_ge_21  pct_ge_21     year  \n",
       "3           23         34      64.15  2018-19  \n",
       "4           22         11      57.89  2018-19  \n",
       "5           16          3       9.09  2018-19  "
      ]
     },
     "execution_count": 55,
     "metadata": {},
     "output_type": "execute_result"
    }
   ],
   "source": [
    "act.head(3)"
   ]
  },
  {
   "cell_type": "markdown",
   "id": "3a99938b",
   "metadata": {},
   "source": [
    "The format is now more readable. \n",
    "\n",
    "### Retaining only school-level data\n",
    "\n",
    "The data also has district, county and state-level data. Such aggregated data would skew the summary statistics and further statistical analysis unless they are excluded. Hence, they will be removed. First, the DataFrame will be saved to back up the information and the cleaning at this stage. "
   ]
  },
  {
   "cell_type": "code",
   "execution_count": 56,
   "id": "00b08817",
   "metadata": {},
   "outputs": [],
   "source": [
    "act.to_csv('../data/act_2019_ca_before_2nd_drop.csv', index=False)"
   ]
  },
  {
   "cell_type": "markdown",
   "id": "91822de9",
   "metadata": {},
   "source": [
    "Dropping the values:"
   ]
  },
  {
   "cell_type": "code",
   "execution_count": 57,
   "id": "c8df2057",
   "metadata": {},
   "outputs": [],
   "source": [
    "# Reassign the 'act' DataFrame to one including only rows where 'r_type' is 'S'\n",
    "act = act[act['r_type'] == 'S']"
   ]
  },
  {
   "cell_type": "code",
   "execution_count": 58,
   "id": "87f962b6",
   "metadata": {},
   "outputs": [
    {
     "data": {
      "text/plain": [
       "1016"
      ]
     },
     "execution_count": 58,
     "metadata": {},
     "output_type": "execute_result"
    }
   ],
   "source": [
    "# Get the number of rows in the ACT DataFrame. \n",
    "len(act)"
   ]
  },
  {
   "cell_type": "markdown",
   "id": "82a7d10a",
   "metadata": {},
   "source": [
    "There are now 1255 rows. Previously, it was 1421 rows. \n",
    "\n",
    "We will print some summary statistics for the next few columns. The summary statistics will skip the text-based columns. "
   ]
  },
  {
   "cell_type": "code",
   "execution_count": 59,
   "id": "c251dad5",
   "metadata": {
    "scrolled": true
   },
   "outputs": [
    {
     "data": {
      "text/html": [
       "<div>\n",
       "<style scoped>\n",
       "    .dataframe tbody tr th:only-of-type {\n",
       "        vertical-align: middle;\n",
       "    }\n",
       "\n",
       "    .dataframe tbody tr th {\n",
       "        vertical-align: top;\n",
       "    }\n",
       "\n",
       "    .dataframe thead th {\n",
       "        text-align: right;\n",
       "    }\n",
       "</style>\n",
       "<table border=\"1\" class=\"dataframe\">\n",
       "  <thead>\n",
       "    <tr style=\"text-align: right;\">\n",
       "      <th></th>\n",
       "      <th>cds_code</th>\n",
       "      <th>c_code</th>\n",
       "      <th>cd_code</th>\n",
       "      <th>s_code</th>\n",
       "      <th>enroll_12</th>\n",
       "      <th>num_tst_takr</th>\n",
       "      <th>avg_scr_read</th>\n",
       "      <th>avg_scr_eng</th>\n",
       "      <th>avg_scr_math</th>\n",
       "      <th>avg_scr_sci</th>\n",
       "      <th>num_ge_21</th>\n",
       "      <th>pct_ge_21</th>\n",
       "    </tr>\n",
       "  </thead>\n",
       "  <tbody>\n",
       "    <tr>\n",
       "      <th>count</th>\n",
       "      <td>1.016000e+03</td>\n",
       "      <td>1016.000000</td>\n",
       "      <td>1.016000e+03</td>\n",
       "      <td>1.016000e+03</td>\n",
       "      <td>1016.000000</td>\n",
       "      <td>1016.000000</td>\n",
       "      <td>1016.000000</td>\n",
       "      <td>1016.000000</td>\n",
       "      <td>1016.000000</td>\n",
       "      <td>1016.000000</td>\n",
       "      <td>1016.000000</td>\n",
       "      <td>1016.000000</td>\n",
       "    </tr>\n",
       "    <tr>\n",
       "      <th>mean</th>\n",
       "      <td>2.869969e+13</td>\n",
       "      <td>28.032480</td>\n",
       "      <td>2.869968e+06</td>\n",
       "      <td>2.273475e+06</td>\n",
       "      <td>371.831693</td>\n",
       "      <td>79.144685</td>\n",
       "      <td>21.870079</td>\n",
       "      <td>21.017717</td>\n",
       "      <td>21.270669</td>\n",
       "      <td>21.189961</td>\n",
       "      <td>43.673228</td>\n",
       "      <td>51.306850</td>\n",
       "    </tr>\n",
       "    <tr>\n",
       "      <th>std</th>\n",
       "      <td>1.340141e+13</td>\n",
       "      <td>13.375514</td>\n",
       "      <td>1.340140e+06</td>\n",
       "      <td>1.725433e+06</td>\n",
       "      <td>206.213129</td>\n",
       "      <td>66.574849</td>\n",
       "      <td>3.823038</td>\n",
       "      <td>4.209031</td>\n",
       "      <td>3.499833</td>\n",
       "      <td>3.335189</td>\n",
       "      <td>50.111339</td>\n",
       "      <td>26.534076</td>\n",
       "    </tr>\n",
       "    <tr>\n",
       "      <th>min</th>\n",
       "      <td>1.316170e+12</td>\n",
       "      <td>1.000000</td>\n",
       "      <td>1.316170e+05</td>\n",
       "      <td>1.000650e+05</td>\n",
       "      <td>0.000000</td>\n",
       "      <td>15.000000</td>\n",
       "      <td>12.000000</td>\n",
       "      <td>10.000000</td>\n",
       "      <td>14.000000</td>\n",
       "      <td>12.000000</td>\n",
       "      <td>0.000000</td>\n",
       "      <td>0.000000</td>\n",
       "    </tr>\n",
       "    <tr>\n",
       "      <th>25%</th>\n",
       "      <td>1.964733e+13</td>\n",
       "      <td>19.000000</td>\n",
       "      <td>1.964733e+06</td>\n",
       "      <td>1.344065e+05</td>\n",
       "      <td>173.000000</td>\n",
       "      <td>33.000000</td>\n",
       "      <td>19.000000</td>\n",
       "      <td>18.000000</td>\n",
       "      <td>18.000000</td>\n",
       "      <td>19.000000</td>\n",
       "      <td>12.000000</td>\n",
       "      <td>28.570000</td>\n",
       "    </tr>\n",
       "    <tr>\n",
       "      <th>50%</th>\n",
       "      <td>3.066522e+13</td>\n",
       "      <td>30.000000</td>\n",
       "      <td>3.066522e+06</td>\n",
       "      <td>1.939156e+06</td>\n",
       "      <td>382.000000</td>\n",
       "      <td>58.000000</td>\n",
       "      <td>22.000000</td>\n",
       "      <td>21.000000</td>\n",
       "      <td>21.000000</td>\n",
       "      <td>21.000000</td>\n",
       "      <td>24.000000</td>\n",
       "      <td>52.860000</td>\n",
       "    </tr>\n",
       "    <tr>\n",
       "      <th>75%</th>\n",
       "      <td>3.768346e+13</td>\n",
       "      <td>37.000000</td>\n",
       "      <td>3.768346e+06</td>\n",
       "      <td>3.730068e+06</td>\n",
       "      <td>524.000000</td>\n",
       "      <td>105.000000</td>\n",
       "      <td>25.000000</td>\n",
       "      <td>24.000000</td>\n",
       "      <td>24.000000</td>\n",
       "      <td>24.000000</td>\n",
       "      <td>55.000000</td>\n",
       "      <td>74.700000</td>\n",
       "    </tr>\n",
       "    <tr>\n",
       "      <th>max</th>\n",
       "      <td>5.872770e+13</td>\n",
       "      <td>58.000000</td>\n",
       "      <td>5.872769e+06</td>\n",
       "      <td>6.120158e+06</td>\n",
       "      <td>1135.000000</td>\n",
       "      <td>512.000000</td>\n",
       "      <td>32.000000</td>\n",
       "      <td>32.000000</td>\n",
       "      <td>32.000000</td>\n",
       "      <td>31.000000</td>\n",
       "      <td>392.000000</td>\n",
       "      <td>100.000000</td>\n",
       "    </tr>\n",
       "  </tbody>\n",
       "</table>\n",
       "</div>"
      ],
      "text/plain": [
       "           cds_code       c_code       cd_code        s_code    enroll_12  \\\n",
       "count  1.016000e+03  1016.000000  1.016000e+03  1.016000e+03  1016.000000   \n",
       "mean   2.869969e+13    28.032480  2.869968e+06  2.273475e+06   371.831693   \n",
       "std    1.340141e+13    13.375514  1.340140e+06  1.725433e+06   206.213129   \n",
       "min    1.316170e+12     1.000000  1.316170e+05  1.000650e+05     0.000000   \n",
       "25%    1.964733e+13    19.000000  1.964733e+06  1.344065e+05   173.000000   \n",
       "50%    3.066522e+13    30.000000  3.066522e+06  1.939156e+06   382.000000   \n",
       "75%    3.768346e+13    37.000000  3.768346e+06  3.730068e+06   524.000000   \n",
       "max    5.872770e+13    58.000000  5.872769e+06  6.120158e+06  1135.000000   \n",
       "\n",
       "       num_tst_takr  avg_scr_read  avg_scr_eng  avg_scr_math  avg_scr_sci  \\\n",
       "count   1016.000000   1016.000000  1016.000000   1016.000000  1016.000000   \n",
       "mean      79.144685     21.870079    21.017717     21.270669    21.189961   \n",
       "std       66.574849      3.823038     4.209031      3.499833     3.335189   \n",
       "min       15.000000     12.000000    10.000000     14.000000    12.000000   \n",
       "25%       33.000000     19.000000    18.000000     18.000000    19.000000   \n",
       "50%       58.000000     22.000000    21.000000     21.000000    21.000000   \n",
       "75%      105.000000     25.000000    24.000000     24.000000    24.000000   \n",
       "max      512.000000     32.000000    32.000000     32.000000    31.000000   \n",
       "\n",
       "         num_ge_21    pct_ge_21  \n",
       "count  1016.000000  1016.000000  \n",
       "mean     43.673228    51.306850  \n",
       "std      50.111339    26.534076  \n",
       "min       0.000000     0.000000  \n",
       "25%      12.000000    28.570000  \n",
       "50%      24.000000    52.860000  \n",
       "75%      55.000000    74.700000  \n",
       "max     392.000000   100.000000  "
      ]
     },
     "execution_count": 59,
     "metadata": {},
     "output_type": "execute_result"
    }
   ],
   "source": [
    "act.describe()"
   ]
  },
  {
   "cell_type": "markdown",
   "id": "c6847dc4",
   "metadata": {},
   "source": [
    "Given the information we have found in the Background and Outside Research sections, the summary statistics of the data look reasonably correct. The maximums, minimums and averages are within their logical ranges/bounds. "
   ]
  },
  {
   "cell_type": "markdown",
   "id": "02dd7d64",
   "metadata": {},
   "source": [
    "### Saving the data"
   ]
  },
  {
   "cell_type": "code",
   "execution_count": 60,
   "id": "5f2d4225",
   "metadata": {},
   "outputs": [],
   "source": [
    "act.to_csv('../data/act_2019_ca_cleaned.csv', index=False)"
   ]
  },
  {
   "cell_type": "markdown",
   "id": "aaf10912",
   "metadata": {},
   "source": [
    "This is the end of the data cleaning portion for the ACT dataset. The data cleaning for the SAT dataset will be continued in the next notebook."
   ]
  }
 ],
 "metadata": {
  "kernelspec": {
   "display_name": "Python 3 (ipykernel)",
   "language": "python",
   "name": "python3"
  },
  "language_info": {
   "codemirror_mode": {
    "name": "ipython",
    "version": 3
   },
   "file_extension": ".py",
   "mimetype": "text/x-python",
   "name": "python",
   "nbconvert_exporter": "python",
   "pygments_lexer": "ipython3",
   "version": "3.8.11"
  }
 },
 "nbformat": 4,
 "nbformat_minor": 5
}
