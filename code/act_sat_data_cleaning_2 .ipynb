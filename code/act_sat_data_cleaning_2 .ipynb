{
 "cells": [
  {
   "cell_type": "markdown",
   "id": "c94bf48a",
   "metadata": {},
   "source": [
    "# Data Import and Cleaning \n",
    "\n",
    "## Part 2 of 2: SAT 2019 Dataset for California"
   ]
  },
  {
   "cell_type": "code",
   "execution_count": 1,
   "id": "20e1fbd5",
   "metadata": {},
   "outputs": [],
   "source": [
    "import pandas as pd"
   ]
  },
  {
   "cell_type": "markdown",
   "id": "7d6f1178",
   "metadata": {},
   "source": [
    "## Data Import & Cleaning\n",
    "\n",
    "Import the datasets that you selected for this project and go through the following steps at a minimum. You are welcome to do further cleaning as you feel necessary:\n",
    "1. Display the data: print the first 5 rows of each dataframe to your Jupyter notebook.\n",
    "2. Check for missing values.\n",
    "3. Check for any obvious issues with the observations (keep in mind the minimum & maximum possible values for each test/subtest).\n",
    "4. Fix any errors you identified in steps 2-3.\n",
    "5. Display the data types of each feature.\n",
    "6. Fix any incorrect data types found in step 5.\n",
    "    - Fix any individual values preventing other columns from being the appropriate type.\n",
    "    - If your dataset has a column of percents (ex. '50%', '30.5%', etc.), use the function you wrote in Part 1 (coding challenges, number 3) to convert this to floats! *Hint*: use `.map()` or `.apply()`.\n",
    "7. Rename Columns.\n",
    "    - Column names should be all lowercase.\n",
    "    - Column names should not contain spaces (underscores will suffice--this allows for using the `df.column_name` method to access columns in addition to `df['column_name']`).\n",
    "    - Column names should be unique and informative.\n",
    "8. Drop unnecessary rows (if needed).\n",
    "9. Merge dataframes that can be merged.\n",
    "10. Perform any additional cleaning that you feel is necessary.\n",
    "11. Save your cleaned and merged dataframes as csv files."
   ]
  },
  {
   "cell_type": "markdown",
   "id": "a8ea726b",
   "metadata": {},
   "source": [
    "## Loading the data \n",
    "\n",
    "### Reading in the .csv files"
   ]
  },
  {
   "cell_type": "code",
   "execution_count": 2,
   "id": "3971fc37",
   "metadata": {},
   "outputs": [],
   "source": [
    "sat = pd.read_csv('../data/sat_2019_ca.csv')"
   ]
  },
  {
   "cell_type": "code",
   "execution_count": 3,
   "id": "2088e516",
   "metadata": {},
   "outputs": [
    {
     "data": {
      "text/html": [
       "<div>\n",
       "<style scoped>\n",
       "    .dataframe tbody tr th:only-of-type {\n",
       "        vertical-align: middle;\n",
       "    }\n",
       "\n",
       "    .dataframe tbody tr th {\n",
       "        vertical-align: top;\n",
       "    }\n",
       "\n",
       "    .dataframe thead th {\n",
       "        text-align: right;\n",
       "    }\n",
       "</style>\n",
       "<table border=\"1\" class=\"dataframe\">\n",
       "  <thead>\n",
       "    <tr style=\"text-align: right;\">\n",
       "      <th></th>\n",
       "      <th>CDS</th>\n",
       "      <th>CCode</th>\n",
       "      <th>CDCode</th>\n",
       "      <th>SCode</th>\n",
       "      <th>RType</th>\n",
       "      <th>SName</th>\n",
       "      <th>DName</th>\n",
       "      <th>CName</th>\n",
       "      <th>Enroll12</th>\n",
       "      <th>NumTSTTakr12</th>\n",
       "      <th>...</th>\n",
       "      <th>NumERWBenchmark11</th>\n",
       "      <th>PctERWBenchmark11</th>\n",
       "      <th>NumMathBenchmark11</th>\n",
       "      <th>PctMathBenchmark11</th>\n",
       "      <th>TotNumBothBenchmark12</th>\n",
       "      <th>PctBothBenchmark12</th>\n",
       "      <th>TotNumBothBenchmark11</th>\n",
       "      <th>PctBothBenchmark11</th>\n",
       "      <th>Year</th>\n",
       "      <th>Unnamed: 25</th>\n",
       "    </tr>\n",
       "  </thead>\n",
       "  <tbody>\n",
       "    <tr>\n",
       "      <th>0</th>\n",
       "      <td>6.615981e+12</td>\n",
       "      <td>6.0</td>\n",
       "      <td>661598.0</td>\n",
       "      <td>630046.0</td>\n",
       "      <td>S</td>\n",
       "      <td>Colusa Alternative Home</td>\n",
       "      <td>Colusa Unified</td>\n",
       "      <td>Colusa</td>\n",
       "      <td>18.0</td>\n",
       "      <td>0.0</td>\n",
       "      <td>...</td>\n",
       "      <td>NaN</td>\n",
       "      <td>NaN</td>\n",
       "      <td>NaN</td>\n",
       "      <td>NaN</td>\n",
       "      <td>NaN</td>\n",
       "      <td>NaN</td>\n",
       "      <td>NaN</td>\n",
       "      <td>NaN</td>\n",
       "      <td>2018-19</td>\n",
       "      <td>NaN</td>\n",
       "    </tr>\n",
       "    <tr>\n",
       "      <th>1</th>\n",
       "      <td>6.616061e+12</td>\n",
       "      <td>6.0</td>\n",
       "      <td>661606.0</td>\n",
       "      <td>634758.0</td>\n",
       "      <td>S</td>\n",
       "      <td>Maxwell Sr High</td>\n",
       "      <td>Maxwell Unified</td>\n",
       "      <td>Colusa</td>\n",
       "      <td>29.0</td>\n",
       "      <td>10.0</td>\n",
       "      <td>...</td>\n",
       "      <td>*</td>\n",
       "      <td>*</td>\n",
       "      <td>*</td>\n",
       "      <td>*</td>\n",
       "      <td>*</td>\n",
       "      <td>*</td>\n",
       "      <td>*</td>\n",
       "      <td>*</td>\n",
       "      <td>2018-19</td>\n",
       "      <td>NaN</td>\n",
       "    </tr>\n",
       "    <tr>\n",
       "      <th>2</th>\n",
       "      <td>1.964733e+13</td>\n",
       "      <td>19.0</td>\n",
       "      <td>1964733.0</td>\n",
       "      <td>1930924.0</td>\n",
       "      <td>S</td>\n",
       "      <td>Belmont Senior High</td>\n",
       "      <td>Los Angeles Unified</td>\n",
       "      <td>Los Angeles</td>\n",
       "      <td>206.0</td>\n",
       "      <td>102.0</td>\n",
       "      <td>...</td>\n",
       "      <td>42</td>\n",
       "      <td>24.14</td>\n",
       "      <td>12</td>\n",
       "      <td>6.90</td>\n",
       "      <td>14</td>\n",
       "      <td>13.73</td>\n",
       "      <td>11</td>\n",
       "      <td>6.32</td>\n",
       "      <td>2018-19</td>\n",
       "      <td>NaN</td>\n",
       "    </tr>\n",
       "    <tr>\n",
       "      <th>3</th>\n",
       "      <td>1.964733e+13</td>\n",
       "      <td>19.0</td>\n",
       "      <td>1964733.0</td>\n",
       "      <td>1931476.0</td>\n",
       "      <td>S</td>\n",
       "      <td>Canoga Park Senior High</td>\n",
       "      <td>Los Angeles Unified</td>\n",
       "      <td>Los Angeles</td>\n",
       "      <td>227.0</td>\n",
       "      <td>113.0</td>\n",
       "      <td>...</td>\n",
       "      <td>97</td>\n",
       "      <td>35.27</td>\n",
       "      <td>37</td>\n",
       "      <td>13.45</td>\n",
       "      <td>18</td>\n",
       "      <td>15.93</td>\n",
       "      <td>35</td>\n",
       "      <td>12.73</td>\n",
       "      <td>2018-19</td>\n",
       "      <td>NaN</td>\n",
       "    </tr>\n",
       "    <tr>\n",
       "      <th>4</th>\n",
       "      <td>1.964733e+13</td>\n",
       "      <td>19.0</td>\n",
       "      <td>1964733.0</td>\n",
       "      <td>1931856.0</td>\n",
       "      <td>S</td>\n",
       "      <td>Whitman Continuation</td>\n",
       "      <td>Los Angeles Unified</td>\n",
       "      <td>Los Angeles</td>\n",
       "      <td>18.0</td>\n",
       "      <td>14.0</td>\n",
       "      <td>...</td>\n",
       "      <td>*</td>\n",
       "      <td>*</td>\n",
       "      <td>*</td>\n",
       "      <td>*</td>\n",
       "      <td>*</td>\n",
       "      <td>*</td>\n",
       "      <td>*</td>\n",
       "      <td>*</td>\n",
       "      <td>2018-19</td>\n",
       "      <td>NaN</td>\n",
       "    </tr>\n",
       "  </tbody>\n",
       "</table>\n",
       "<p>5 rows × 26 columns</p>\n",
       "</div>"
      ],
      "text/plain": [
       "            CDS  CCode     CDCode      SCode RType                    SName  \\\n",
       "0  6.615981e+12    6.0   661598.0   630046.0     S  Colusa Alternative Home   \n",
       "1  6.616061e+12    6.0   661606.0   634758.0     S          Maxwell Sr High   \n",
       "2  1.964733e+13   19.0  1964733.0  1930924.0     S      Belmont Senior High   \n",
       "3  1.964733e+13   19.0  1964733.0  1931476.0     S  Canoga Park Senior High   \n",
       "4  1.964733e+13   19.0  1964733.0  1931856.0     S     Whitman Continuation   \n",
       "\n",
       "                 DName        CName  Enroll12  NumTSTTakr12  ...  \\\n",
       "0       Colusa Unified       Colusa      18.0           0.0  ...   \n",
       "1      Maxwell Unified       Colusa      29.0          10.0  ...   \n",
       "2  Los Angeles Unified  Los Angeles     206.0         102.0  ...   \n",
       "3  Los Angeles Unified  Los Angeles     227.0         113.0  ...   \n",
       "4  Los Angeles Unified  Los Angeles      18.0          14.0  ...   \n",
       "\n",
       "  NumERWBenchmark11 PctERWBenchmark11 NumMathBenchmark11 PctMathBenchmark11  \\\n",
       "0               NaN               NaN                NaN                NaN   \n",
       "1                 *                 *                  *                  *   \n",
       "2                42             24.14                 12               6.90   \n",
       "3                97             35.27                 37              13.45   \n",
       "4                 *                 *                  *                  *   \n",
       "\n",
       "   TotNumBothBenchmark12  PctBothBenchmark12 TotNumBothBenchmark11  \\\n",
       "0                    NaN                 NaN                   NaN   \n",
       "1                      *                   *                     *   \n",
       "2                     14               13.73                    11   \n",
       "3                     18               15.93                    35   \n",
       "4                      *                   *                     *   \n",
       "\n",
       "  PctBothBenchmark11     Year Unnamed: 25  \n",
       "0                NaN  2018-19         NaN  \n",
       "1                  *  2018-19         NaN  \n",
       "2               6.32  2018-19         NaN  \n",
       "3              12.73  2018-19         NaN  \n",
       "4                  *  2018-19         NaN  \n",
       "\n",
       "[5 rows x 26 columns]"
      ]
     },
     "execution_count": 3,
     "metadata": {},
     "output_type": "execute_result"
    }
   ],
   "source": [
    "sat.head()"
   ]
  },
  {
   "cell_type": "markdown",
   "id": "5be3abdb",
   "metadata": {},
   "source": [
    "### Shape of the data \n",
    "\n",
    "The dataset has the following number of (rows, columns) respectively. "
   ]
  },
  {
   "cell_type": "code",
   "execution_count": 4,
   "id": "e08a5a2c",
   "metadata": {},
   "outputs": [
    {
     "data": {
      "text/plain": [
       "(2580, 26)"
      ]
     },
     "execution_count": 4,
     "metadata": {},
     "output_type": "execute_result"
    }
   ],
   "source": [
    "sat.shape"
   ]
  },
  {
   "cell_type": "markdown",
   "id": "307289f5",
   "metadata": {},
   "source": [
    "###  Removing the extra column at the end"
   ]
  },
  {
   "cell_type": "code",
   "execution_count": 5,
   "id": "6e292d0e",
   "metadata": {},
   "outputs": [],
   "source": [
    "sat.drop('Unnamed: 25', axis=1, inplace=True)"
   ]
  },
  {
   "cell_type": "code",
   "execution_count": 6,
   "id": "e347955a",
   "metadata": {
    "scrolled": true
   },
   "outputs": [
    {
     "data": {
      "text/html": [
       "<div>\n",
       "<style scoped>\n",
       "    .dataframe tbody tr th:only-of-type {\n",
       "        vertical-align: middle;\n",
       "    }\n",
       "\n",
       "    .dataframe tbody tr th {\n",
       "        vertical-align: top;\n",
       "    }\n",
       "\n",
       "    .dataframe thead th {\n",
       "        text-align: right;\n",
       "    }\n",
       "</style>\n",
       "<table border=\"1\" class=\"dataframe\">\n",
       "  <thead>\n",
       "    <tr style=\"text-align: right;\">\n",
       "      <th></th>\n",
       "      <th>CDS</th>\n",
       "      <th>CCode</th>\n",
       "      <th>CDCode</th>\n",
       "      <th>SCode</th>\n",
       "      <th>RType</th>\n",
       "      <th>SName</th>\n",
       "      <th>DName</th>\n",
       "      <th>CName</th>\n",
       "      <th>Enroll12</th>\n",
       "      <th>NumTSTTakr12</th>\n",
       "      <th>...</th>\n",
       "      <th>NumTSTTakr11</th>\n",
       "      <th>NumERWBenchmark11</th>\n",
       "      <th>PctERWBenchmark11</th>\n",
       "      <th>NumMathBenchmark11</th>\n",
       "      <th>PctMathBenchmark11</th>\n",
       "      <th>TotNumBothBenchmark12</th>\n",
       "      <th>PctBothBenchmark12</th>\n",
       "      <th>TotNumBothBenchmark11</th>\n",
       "      <th>PctBothBenchmark11</th>\n",
       "      <th>Year</th>\n",
       "    </tr>\n",
       "  </thead>\n",
       "  <tbody>\n",
       "    <tr>\n",
       "      <th>0</th>\n",
       "      <td>6.615981e+12</td>\n",
       "      <td>6.0</td>\n",
       "      <td>661598.0</td>\n",
       "      <td>630046.0</td>\n",
       "      <td>S</td>\n",
       "      <td>Colusa Alternative Home</td>\n",
       "      <td>Colusa Unified</td>\n",
       "      <td>Colusa</td>\n",
       "      <td>18.0</td>\n",
       "      <td>0.0</td>\n",
       "      <td>...</td>\n",
       "      <td>0.0</td>\n",
       "      <td>NaN</td>\n",
       "      <td>NaN</td>\n",
       "      <td>NaN</td>\n",
       "      <td>NaN</td>\n",
       "      <td>NaN</td>\n",
       "      <td>NaN</td>\n",
       "      <td>NaN</td>\n",
       "      <td>NaN</td>\n",
       "      <td>2018-19</td>\n",
       "    </tr>\n",
       "    <tr>\n",
       "      <th>1</th>\n",
       "      <td>6.616061e+12</td>\n",
       "      <td>6.0</td>\n",
       "      <td>661606.0</td>\n",
       "      <td>634758.0</td>\n",
       "      <td>S</td>\n",
       "      <td>Maxwell Sr High</td>\n",
       "      <td>Maxwell Unified</td>\n",
       "      <td>Colusa</td>\n",
       "      <td>29.0</td>\n",
       "      <td>10.0</td>\n",
       "      <td>...</td>\n",
       "      <td>6.0</td>\n",
       "      <td>*</td>\n",
       "      <td>*</td>\n",
       "      <td>*</td>\n",
       "      <td>*</td>\n",
       "      <td>*</td>\n",
       "      <td>*</td>\n",
       "      <td>*</td>\n",
       "      <td>*</td>\n",
       "      <td>2018-19</td>\n",
       "    </tr>\n",
       "    <tr>\n",
       "      <th>2</th>\n",
       "      <td>1.964733e+13</td>\n",
       "      <td>19.0</td>\n",
       "      <td>1964733.0</td>\n",
       "      <td>1930924.0</td>\n",
       "      <td>S</td>\n",
       "      <td>Belmont Senior High</td>\n",
       "      <td>Los Angeles Unified</td>\n",
       "      <td>Los Angeles</td>\n",
       "      <td>206.0</td>\n",
       "      <td>102.0</td>\n",
       "      <td>...</td>\n",
       "      <td>174.0</td>\n",
       "      <td>42</td>\n",
       "      <td>24.14</td>\n",
       "      <td>12</td>\n",
       "      <td>6.90</td>\n",
       "      <td>14</td>\n",
       "      <td>13.73</td>\n",
       "      <td>11</td>\n",
       "      <td>6.32</td>\n",
       "      <td>2018-19</td>\n",
       "    </tr>\n",
       "  </tbody>\n",
       "</table>\n",
       "<p>3 rows × 25 columns</p>\n",
       "</div>"
      ],
      "text/plain": [
       "            CDS  CCode     CDCode      SCode RType                    SName  \\\n",
       "0  6.615981e+12    6.0   661598.0   630046.0     S  Colusa Alternative Home   \n",
       "1  6.616061e+12    6.0   661606.0   634758.0     S          Maxwell Sr High   \n",
       "2  1.964733e+13   19.0  1964733.0  1930924.0     S      Belmont Senior High   \n",
       "\n",
       "                 DName        CName  Enroll12  NumTSTTakr12  ... NumTSTTakr11  \\\n",
       "0       Colusa Unified       Colusa      18.0           0.0  ...          0.0   \n",
       "1      Maxwell Unified       Colusa      29.0          10.0  ...          6.0   \n",
       "2  Los Angeles Unified  Los Angeles     206.0         102.0  ...        174.0   \n",
       "\n",
       "  NumERWBenchmark11 PctERWBenchmark11 NumMathBenchmark11  PctMathBenchmark11  \\\n",
       "0               NaN               NaN                NaN                 NaN   \n",
       "1                 *                 *                  *                   *   \n",
       "2                42             24.14                 12                6.90   \n",
       "\n",
       "   TotNumBothBenchmark12 PctBothBenchmark12 TotNumBothBenchmark11  \\\n",
       "0                    NaN                NaN                   NaN   \n",
       "1                      *                  *                     *   \n",
       "2                     14              13.73                    11   \n",
       "\n",
       "  PctBothBenchmark11     Year  \n",
       "0                NaN  2018-19  \n",
       "1                  *  2018-19  \n",
       "2               6.32  2018-19  \n",
       "\n",
       "[3 rows x 25 columns]"
      ]
     },
     "execution_count": 6,
     "metadata": {},
     "output_type": "execute_result"
    }
   ],
   "source": [
    "sat.head(3)"
   ]
  },
  {
   "cell_type": "markdown",
   "id": "f1cf7482",
   "metadata": {},
   "source": [
    "The column has been removed."
   ]
  },
  {
   "cell_type": "markdown",
   "id": "a39e47ea",
   "metadata": {},
   "source": [
    "### Standardising the format of the column names\n",
    "\n",
    "The column names will be changed to lowercase, and with underscores as word separators."
   ]
  },
  {
   "cell_type": "code",
   "execution_count": 7,
   "id": "d61a8bc9",
   "metadata": {},
   "outputs": [],
   "source": [
    "# Changing column names to lowercase\n",
    "sat.rename(str.lower, axis=\"columns\", inplace=True)"
   ]
  },
  {
   "cell_type": "code",
   "execution_count": 8,
   "id": "32574b7f",
   "metadata": {},
   "outputs": [
    {
     "data": {
      "text/plain": [
       "Index(['cds', 'ccode', 'cdcode', 'scode', 'rtype', 'sname', 'dname', 'cname',\n",
       "       'enroll12', 'numtsttakr12', 'numerwbenchmark12', 'pcterwbenchmark12',\n",
       "       'nummathbenchmark12', 'pctmathbenchmark12', 'enroll11', 'numtsttakr11',\n",
       "       'numerwbenchmark11', 'pcterwbenchmark11', 'nummathbenchmark11',\n",
       "       'pctmathbenchmark11', 'totnumbothbenchmark12', 'pctbothbenchmark12',\n",
       "       'totnumbothbenchmark11', 'pctbothbenchmark11', 'year'],\n",
       "      dtype='object')"
      ]
     },
     "execution_count": 8,
     "metadata": {},
     "output_type": "execute_result"
    }
   ],
   "source": [
    "sat.columns"
   ]
  },
  {
   "cell_type": "code",
   "execution_count": 9,
   "id": "b4e81209",
   "metadata": {},
   "outputs": [],
   "source": [
    "# Renaming the column names with underscores as word separators\n",
    "sat.rename(columns = {'cds':'cds_code', \n",
    "                      'ccode':'c_code',\n",
    "                      'cdcode':'cd_code',\n",
    "                      'scode':'s_code',\n",
    "                      'rtype':'r_type',\n",
    "                      'sname':'s_name',\n",
    "                      'dname':'d_name',\n",
    "                      'cname':'c_name',\n",
    "                      'enroll12':'enroll_12',\n",
    "                      'numtsttakr12':'num_tst_takr_12',\n",
    "                      'numerwbenchmark12':'num_erw_benchmark_12',\n",
    "                      'pcterwbenchmark12':'pct_erw_benchmark_12',\n",
    "                      'nummathbenchmark12':'num_math_benchmark_12',\n",
    "                      'pctmathbenchmark12':'pct_math_benchmark_12',\n",
    "                      'enroll11':'enroll_11',\n",
    "                      'numtsttakr11':'num_tst_takr_11',\n",
    "                      'numerwbenchmark11':'num_erw_benchmark_11',\n",
    "                      'pcterwbenchmark11':'pct_erw_benchmark_11',\n",
    "                      'nummathbenchmark11':'num_math_benchmark_11',\n",
    "                      'pctmathbenchmark11':'pct_math_benchmark_11',\n",
    "                      'totnumbothbenchmark12':'tot_num_both_benchmark_12',\n",
    "                      'pctbothbenchmark12':'pct_both_benchmark_12',\n",
    "                      'totnumbothbenchmark11':'tot_num_both_benchmark_11',\n",
    "                      'pctbothbenchmark11':'pct_both_benchmark_11'\n",
    "                     }, inplace=True)"
   ]
  },
  {
   "cell_type": "code",
   "execution_count": 10,
   "id": "f415098d",
   "metadata": {},
   "outputs": [
    {
     "data": {
      "text/plain": [
       "Index(['cds_code', 'c_code', 'cd_code', 's_code', 'r_type', 's_name', 'd_name',\n",
       "       'c_name', 'enroll_12', 'num_tst_takr_12', 'num_erw_benchmark_12',\n",
       "       'pct_erw_benchmark_12', 'num_math_benchmark_12',\n",
       "       'pct_math_benchmark_12', 'enroll_11', 'num_tst_takr_11',\n",
       "       'num_erw_benchmark_11', 'pct_erw_benchmark_11', 'num_math_benchmark_11',\n",
       "       'pct_math_benchmark_11', 'tot_num_both_benchmark_12',\n",
       "       'pct_both_benchmark_12', 'tot_num_both_benchmark_11',\n",
       "       'pct_both_benchmark_11', 'year'],\n",
       "      dtype='object')"
      ]
     },
     "execution_count": 10,
     "metadata": {},
     "output_type": "execute_result"
    }
   ],
   "source": [
    "sat.columns"
   ]
  },
  {
   "cell_type": "markdown",
   "id": "92874cf7",
   "metadata": {},
   "source": [
    "The columns have been renamed."
   ]
  },
  {
   "cell_type": "markdown",
   "id": "701e6b40",
   "metadata": {},
   "source": [
    "### Checking for null values"
   ]
  },
  {
   "cell_type": "code",
   "execution_count": 11,
   "id": "918a999f",
   "metadata": {},
   "outputs": [
    {
     "data": {
      "text/plain": [
       "cds_code                       1\n",
       "c_code                         1\n",
       "cd_code                        1\n",
       "s_code                         1\n",
       "r_type                         1\n",
       "s_name                       598\n",
       "d_name                        59\n",
       "c_name                         1\n",
       "enroll_12                      1\n",
       "num_tst_takr_12                1\n",
       "num_erw_benchmark_12         276\n",
       "pct_erw_benchmark_12         276\n",
       "num_math_benchmark_12        276\n",
       "pct_math_benchmark_12        276\n",
       "enroll_11                      1\n",
       "num_tst_takr_11                1\n",
       "num_erw_benchmark_11         311\n",
       "pct_erw_benchmark_11         311\n",
       "num_math_benchmark_11        311\n",
       "pct_math_benchmark_11        311\n",
       "tot_num_both_benchmark_12    276\n",
       "pct_both_benchmark_12        276\n",
       "tot_num_both_benchmark_11    311\n",
       "pct_both_benchmark_11        311\n",
       "year                           1\n",
       "dtype: int64"
      ]
     },
     "execution_count": 11,
     "metadata": {},
     "output_type": "execute_result"
    }
   ],
   "source": [
    "sat.isna().sum()"
   ]
  },
  {
   "cell_type": "markdown",
   "id": "7ef151bb",
   "metadata": {},
   "source": [
    "Let's look closer into where these null values appear."
   ]
  },
  {
   "cell_type": "code",
   "execution_count": 12,
   "id": "1c30e631",
   "metadata": {
    "scrolled": true
   },
   "outputs": [
    {
     "data": {
      "text/html": [
       "<div>\n",
       "<style scoped>\n",
       "    .dataframe tbody tr th:only-of-type {\n",
       "        vertical-align: middle;\n",
       "    }\n",
       "\n",
       "    .dataframe tbody tr th {\n",
       "        vertical-align: top;\n",
       "    }\n",
       "\n",
       "    .dataframe thead th {\n",
       "        text-align: right;\n",
       "    }\n",
       "</style>\n",
       "<table border=\"1\" class=\"dataframe\">\n",
       "  <thead>\n",
       "    <tr style=\"text-align: right;\">\n",
       "      <th></th>\n",
       "      <th>cds_code</th>\n",
       "      <th>c_code</th>\n",
       "      <th>cd_code</th>\n",
       "      <th>s_code</th>\n",
       "      <th>r_type</th>\n",
       "      <th>s_name</th>\n",
       "      <th>d_name</th>\n",
       "      <th>c_name</th>\n",
       "      <th>enroll_12</th>\n",
       "      <th>num_tst_takr_12</th>\n",
       "      <th>...</th>\n",
       "      <th>num_tst_takr_11</th>\n",
       "      <th>num_erw_benchmark_11</th>\n",
       "      <th>pct_erw_benchmark_11</th>\n",
       "      <th>num_math_benchmark_11</th>\n",
       "      <th>pct_math_benchmark_11</th>\n",
       "      <th>tot_num_both_benchmark_12</th>\n",
       "      <th>pct_both_benchmark_12</th>\n",
       "      <th>tot_num_both_benchmark_11</th>\n",
       "      <th>pct_both_benchmark_11</th>\n",
       "      <th>year</th>\n",
       "    </tr>\n",
       "  </thead>\n",
       "  <tbody>\n",
       "    <tr>\n",
       "      <th>2579</th>\n",
       "      <td>NaN</td>\n",
       "      <td>NaN</td>\n",
       "      <td>NaN</td>\n",
       "      <td>NaN</td>\n",
       "      <td>NaN</td>\n",
       "      <td>NaN</td>\n",
       "      <td>NaN</td>\n",
       "      <td>NaN</td>\n",
       "      <td>NaN</td>\n",
       "      <td>NaN</td>\n",
       "      <td>...</td>\n",
       "      <td>NaN</td>\n",
       "      <td>NaN</td>\n",
       "      <td>NaN</td>\n",
       "      <td>NaN</td>\n",
       "      <td>NaN</td>\n",
       "      <td>NaN</td>\n",
       "      <td>NaN</td>\n",
       "      <td>NaN</td>\n",
       "      <td>NaN</td>\n",
       "      <td>NaN</td>\n",
       "    </tr>\n",
       "  </tbody>\n",
       "</table>\n",
       "<p>1 rows × 25 columns</p>\n",
       "</div>"
      ],
      "text/plain": [
       "      cds_code  c_code  cd_code  s_code r_type s_name d_name c_name  \\\n",
       "2579       NaN     NaN      NaN     NaN    NaN    NaN    NaN    NaN   \n",
       "\n",
       "      enroll_12  num_tst_takr_12  ... num_tst_takr_11 num_erw_benchmark_11  \\\n",
       "2579        NaN              NaN  ...             NaN                  NaN   \n",
       "\n",
       "     pct_erw_benchmark_11 num_math_benchmark_11  pct_math_benchmark_11  \\\n",
       "2579                  NaN                   NaN                    NaN   \n",
       "\n",
       "      tot_num_both_benchmark_12 pct_both_benchmark_12  \\\n",
       "2579                        NaN                   NaN   \n",
       "\n",
       "     tot_num_both_benchmark_11 pct_both_benchmark_11 year  \n",
       "2579                       NaN                   NaN  NaN  \n",
       "\n",
       "[1 rows x 25 columns]"
      ]
     },
     "execution_count": 12,
     "metadata": {},
     "output_type": "execute_result"
    }
   ],
   "source": [
    "# Fetch the rows of the 'sat' DataFrame where there is a null value under the 'cds_code' column.\n",
    "sat[sat['cds_code'].isna()]"
   ]
  },
  {
   "cell_type": "markdown",
   "id": "ad4a544b",
   "metadata": {},
   "source": [
    "This is the last row again, as seen with the ACT dataset."
   ]
  },
  {
   "cell_type": "markdown",
   "id": "110d4775",
   "metadata": {},
   "source": [
    "### Dropping the last row\n",
    "\n",
    "It seems like the last row is entirely made up of null values. We will drop the row. "
   ]
  },
  {
   "cell_type": "code",
   "execution_count": 13,
   "id": "771d3c57",
   "metadata": {},
   "outputs": [],
   "source": [
    "sat.drop(2579, inplace=True)"
   ]
  },
  {
   "cell_type": "code",
   "execution_count": 14,
   "id": "4008c12d",
   "metadata": {},
   "outputs": [
    {
     "data": {
      "text/plain": [
       "cds_code                       0\n",
       "c_code                         0\n",
       "cd_code                        0\n",
       "s_code                         0\n",
       "r_type                         0\n",
       "s_name                       597\n",
       "d_name                        58\n",
       "c_name                         0\n",
       "enroll_12                      0\n",
       "num_tst_takr_12                0\n",
       "num_erw_benchmark_12         275\n",
       "pct_erw_benchmark_12         275\n",
       "num_math_benchmark_12        275\n",
       "pct_math_benchmark_12        275\n",
       "enroll_11                      0\n",
       "num_tst_takr_11                0\n",
       "num_erw_benchmark_11         310\n",
       "pct_erw_benchmark_11         310\n",
       "num_math_benchmark_11        310\n",
       "pct_math_benchmark_11        310\n",
       "tot_num_both_benchmark_12    275\n",
       "pct_both_benchmark_12        275\n",
       "tot_num_both_benchmark_11    310\n",
       "pct_both_benchmark_11        310\n",
       "year                           0\n",
       "dtype: int64"
      ]
     },
     "execution_count": 14,
     "metadata": {},
     "output_type": "execute_result"
    }
   ],
   "source": [
    "sat.isna().sum()"
   ]
  },
  {
   "cell_type": "markdown",
   "id": "d091b9f3",
   "metadata": {},
   "source": [
    "We have removed null values for many of the columns."
   ]
  },
  {
   "cell_type": "markdown",
   "id": "0fb561b7",
   "metadata": {},
   "source": [
    "### Checking the `'s_code'` column\n",
    "\n",
    "In the `'act'` DataFrame, the `'s_code'` (School Code) column had null values for the rows with `'r_type'` (Record Type) of 'D' (District). Here, there are no null values in this column. Let's take a quick peek. "
   ]
  },
  {
   "cell_type": "code",
   "execution_count": 15,
   "id": "2c7c8113",
   "metadata": {
    "scrolled": true
   },
   "outputs": [
    {
     "data": {
      "text/html": [
       "<div>\n",
       "<style scoped>\n",
       "    .dataframe tbody tr th:only-of-type {\n",
       "        vertical-align: middle;\n",
       "    }\n",
       "\n",
       "    .dataframe tbody tr th {\n",
       "        vertical-align: top;\n",
       "    }\n",
       "\n",
       "    .dataframe thead th {\n",
       "        text-align: right;\n",
       "    }\n",
       "</style>\n",
       "<table border=\"1\" class=\"dataframe\">\n",
       "  <thead>\n",
       "    <tr style=\"text-align: right;\">\n",
       "      <th></th>\n",
       "      <th>cds_code</th>\n",
       "      <th>c_code</th>\n",
       "      <th>cd_code</th>\n",
       "      <th>s_code</th>\n",
       "      <th>r_type</th>\n",
       "      <th>s_name</th>\n",
       "      <th>d_name</th>\n",
       "      <th>c_name</th>\n",
       "      <th>enroll_12</th>\n",
       "      <th>num_tst_takr_12</th>\n",
       "      <th>...</th>\n",
       "      <th>num_tst_takr_11</th>\n",
       "      <th>num_erw_benchmark_11</th>\n",
       "      <th>pct_erw_benchmark_11</th>\n",
       "      <th>num_math_benchmark_11</th>\n",
       "      <th>pct_math_benchmark_11</th>\n",
       "      <th>tot_num_both_benchmark_12</th>\n",
       "      <th>pct_both_benchmark_12</th>\n",
       "      <th>tot_num_both_benchmark_11</th>\n",
       "      <th>pct_both_benchmark_11</th>\n",
       "      <th>year</th>\n",
       "    </tr>\n",
       "  </thead>\n",
       "  <tbody>\n",
       "    <tr>\n",
       "      <th>2037</th>\n",
       "      <td>1.611760e+12</td>\n",
       "      <td>1.0</td>\n",
       "      <td>161176.0</td>\n",
       "      <td>0.0</td>\n",
       "      <td>D</td>\n",
       "      <td>NaN</td>\n",
       "      <td>Fremont Unified</td>\n",
       "      <td>Alameda</td>\n",
       "      <td>2537.0</td>\n",
       "      <td>845.0</td>\n",
       "      <td>...</td>\n",
       "      <td>1396.0</td>\n",
       "      <td>1365</td>\n",
       "      <td>97.78</td>\n",
       "      <td>1321</td>\n",
       "      <td>94.63</td>\n",
       "      <td>678</td>\n",
       "      <td>80.24</td>\n",
       "      <td>1312</td>\n",
       "      <td>93.98</td>\n",
       "      <td>2018-19</td>\n",
       "    </tr>\n",
       "    <tr>\n",
       "      <th>2038</th>\n",
       "      <td>1.612750e+12</td>\n",
       "      <td>1.0</td>\n",
       "      <td>161275.0</td>\n",
       "      <td>0.0</td>\n",
       "      <td>D</td>\n",
       "      <td>NaN</td>\n",
       "      <td>Piedmont City Unified</td>\n",
       "      <td>Alameda</td>\n",
       "      <td>231.0</td>\n",
       "      <td>78.0</td>\n",
       "      <td>...</td>\n",
       "      <td>97.0</td>\n",
       "      <td>97</td>\n",
       "      <td>100.00</td>\n",
       "      <td>96</td>\n",
       "      <td>98.97</td>\n",
       "      <td>61</td>\n",
       "      <td>78.21</td>\n",
       "      <td>96</td>\n",
       "      <td>98.97</td>\n",
       "      <td>2018-19</td>\n",
       "    </tr>\n",
       "    <tr>\n",
       "      <th>2039</th>\n",
       "      <td>1.612910e+12</td>\n",
       "      <td>1.0</td>\n",
       "      <td>161291.0</td>\n",
       "      <td>0.0</td>\n",
       "      <td>D</td>\n",
       "      <td>NaN</td>\n",
       "      <td>San Leandro Unified</td>\n",
       "      <td>Alameda</td>\n",
       "      <td>754.0</td>\n",
       "      <td>193.0</td>\n",
       "      <td>...</td>\n",
       "      <td>458.0</td>\n",
       "      <td>239</td>\n",
       "      <td>52.18</td>\n",
       "      <td>140</td>\n",
       "      <td>30.57</td>\n",
       "      <td>77</td>\n",
       "      <td>39.90</td>\n",
       "      <td>122</td>\n",
       "      <td>26.64</td>\n",
       "      <td>2018-19</td>\n",
       "    </tr>\n",
       "    <tr>\n",
       "      <th>2040</th>\n",
       "      <td>1.062166e+13</td>\n",
       "      <td>10.0</td>\n",
       "      <td>1062166.0</td>\n",
       "      <td>0.0</td>\n",
       "      <td>D</td>\n",
       "      <td>NaN</td>\n",
       "      <td>Fresno Unified</td>\n",
       "      <td>Fresno</td>\n",
       "      <td>4593.0</td>\n",
       "      <td>1048.0</td>\n",
       "      <td>...</td>\n",
       "      <td>3017.0</td>\n",
       "      <td>1508</td>\n",
       "      <td>49.98</td>\n",
       "      <td>723</td>\n",
       "      <td>23.96</td>\n",
       "      <td>323</td>\n",
       "      <td>30.82</td>\n",
       "      <td>681</td>\n",
       "      <td>22.57</td>\n",
       "      <td>2018-19</td>\n",
       "    </tr>\n",
       "    <tr>\n",
       "      <th>2041</th>\n",
       "      <td>1.075127e+13</td>\n",
       "      <td>10.0</td>\n",
       "      <td>1075127.0</td>\n",
       "      <td>0.0</td>\n",
       "      <td>D</td>\n",
       "      <td>NaN</td>\n",
       "      <td>Mendota Unified</td>\n",
       "      <td>Fresno</td>\n",
       "      <td>234.0</td>\n",
       "      <td>69.0</td>\n",
       "      <td>...</td>\n",
       "      <td>76.0</td>\n",
       "      <td>43</td>\n",
       "      <td>56.58</td>\n",
       "      <td>24</td>\n",
       "      <td>31.58</td>\n",
       "      <td>9</td>\n",
       "      <td>13.04</td>\n",
       "      <td>21</td>\n",
       "      <td>27.63</td>\n",
       "      <td>2018-19</td>\n",
       "    </tr>\n",
       "  </tbody>\n",
       "</table>\n",
       "<p>5 rows × 25 columns</p>\n",
       "</div>"
      ],
      "text/plain": [
       "          cds_code  c_code    cd_code  s_code r_type s_name  \\\n",
       "2037  1.611760e+12     1.0   161176.0     0.0      D    NaN   \n",
       "2038  1.612750e+12     1.0   161275.0     0.0      D    NaN   \n",
       "2039  1.612910e+12     1.0   161291.0     0.0      D    NaN   \n",
       "2040  1.062166e+13    10.0  1062166.0     0.0      D    NaN   \n",
       "2041  1.075127e+13    10.0  1075127.0     0.0      D    NaN   \n",
       "\n",
       "                     d_name   c_name  enroll_12  num_tst_takr_12  ...  \\\n",
       "2037        Fremont Unified  Alameda     2537.0            845.0  ...   \n",
       "2038  Piedmont City Unified  Alameda      231.0             78.0  ...   \n",
       "2039    San Leandro Unified  Alameda      754.0            193.0  ...   \n",
       "2040         Fresno Unified   Fresno     4593.0           1048.0  ...   \n",
       "2041        Mendota Unified   Fresno      234.0             69.0  ...   \n",
       "\n",
       "     num_tst_takr_11 num_erw_benchmark_11 pct_erw_benchmark_11  \\\n",
       "2037          1396.0                 1365                97.78   \n",
       "2038            97.0                   97               100.00   \n",
       "2039           458.0                  239                52.18   \n",
       "2040          3017.0                 1508                49.98   \n",
       "2041            76.0                   43                56.58   \n",
       "\n",
       "     num_math_benchmark_11  pct_math_benchmark_11  tot_num_both_benchmark_12  \\\n",
       "2037                  1321                  94.63                        678   \n",
       "2038                    96                  98.97                         61   \n",
       "2039                   140                  30.57                         77   \n",
       "2040                   723                  23.96                        323   \n",
       "2041                    24                  31.58                          9   \n",
       "\n",
       "     pct_both_benchmark_12 tot_num_both_benchmark_11 pct_both_benchmark_11  \\\n",
       "2037                 80.24                      1312                 93.98   \n",
       "2038                 78.21                        96                 98.97   \n",
       "2039                 39.90                       122                 26.64   \n",
       "2040                 30.82                       681                 22.57   \n",
       "2041                 13.04                        21                 27.63   \n",
       "\n",
       "         year  \n",
       "2037  2018-19  \n",
       "2038  2018-19  \n",
       "2039  2018-19  \n",
       "2040  2018-19  \n",
       "2041  2018-19  \n",
       "\n",
       "[5 rows x 25 columns]"
      ]
     },
     "execution_count": 15,
     "metadata": {},
     "output_type": "execute_result"
    }
   ],
   "source": [
    "# Fetch the first 5 rows of the 'sat' DataFrame where the value of 'r_type' is 'D'.\n",
    "sat[sat['r_type'] == 'D'].head()"
   ]
  },
  {
   "cell_type": "markdown",
   "id": "f0c971b0",
   "metadata": {},
   "source": [
    "The entries have already been formatted as the float '0.0'."
   ]
  },
  {
   "cell_type": "markdown",
   "id": "fc4ba7d1",
   "metadata": {},
   "source": [
    "### Replacing the null values in the `'s_name'` and `'d_name'` columns \n",
    "\n",
    "The observations from the `'act'` DataFrame are observed to apply here as well (e.g. entries which have null values for School Name are entries for District and County level). Hence, we will simply fill the null values with the string 'None'."
   ]
  },
  {
   "cell_type": "code",
   "execution_count": 16,
   "id": "5e345110",
   "metadata": {},
   "outputs": [],
   "source": [
    "sat['s_name'].fillna(value='None', inplace=True) \n",
    "sat['d_name'].fillna(value='None', inplace=True)"
   ]
  },
  {
   "cell_type": "markdown",
   "id": "2bc173aa",
   "metadata": {},
   "source": [
    "### Replacing the null values in the rest of the columns"
   ]
  },
  {
   "cell_type": "code",
   "execution_count": 17,
   "id": "608c8cbb",
   "metadata": {},
   "outputs": [
    {
     "data": {
      "text/plain": [
       "cds_code                       0\n",
       "c_code                         0\n",
       "cd_code                        0\n",
       "s_code                         0\n",
       "r_type                         0\n",
       "s_name                         0\n",
       "d_name                         0\n",
       "c_name                         0\n",
       "enroll_12                      0\n",
       "num_tst_takr_12                0\n",
       "num_erw_benchmark_12         275\n",
       "pct_erw_benchmark_12         275\n",
       "num_math_benchmark_12        275\n",
       "pct_math_benchmark_12        275\n",
       "enroll_11                      0\n",
       "num_tst_takr_11                0\n",
       "num_erw_benchmark_11         310\n",
       "pct_erw_benchmark_11         310\n",
       "num_math_benchmark_11        310\n",
       "pct_math_benchmark_11        310\n",
       "tot_num_both_benchmark_12    275\n",
       "pct_both_benchmark_12        275\n",
       "tot_num_both_benchmark_11    310\n",
       "pct_both_benchmark_11        310\n",
       "year                           0\n",
       "dtype: int64"
      ]
     },
     "execution_count": 17,
     "metadata": {},
     "output_type": "execute_result"
    }
   ],
   "source": [
    "sat.isna().sum()"
   ]
  },
  {
   "cell_type": "markdown",
   "id": "6fd85ead",
   "metadata": {},
   "source": [
    "As with the `'act'` data, these remaining columns are for aspects of the test itself. We will check these columns in the same manner as previously, where we make sure all the entries with null values are only for schools with zero test takers. The columns ending with '12' (Grade 12) will be matched with `'num_tst_takr_12'`, and likewise with `'num_tst_takr_11'`.\n",
    "\n",
    "We will use the checker function used during the ACT data cleaning to ascertain this."
   ]
  },
  {
   "cell_type": "code",
   "execution_count": 18,
   "id": "2b90345a",
   "metadata": {},
   "outputs": [],
   "source": [
    "def na_has_no_test_takers(col_names, test_takers_col_name, df):\n",
    "    for col_name in col_names:\n",
    "        print(col_name + ':', df[df[col_name].isna()].equals(df[df[test_takers_col_name] == 0.0]))"
   ]
  },
  {
   "cell_type": "code",
   "execution_count": 19,
   "id": "49b8d0bc",
   "metadata": {},
   "outputs": [
    {
     "name": "stdout",
     "output_type": "stream",
     "text": [
      "num_erw_benchmark_12: True\n",
      "pct_erw_benchmark_12: True\n",
      "num_math_benchmark_12: True\n",
      "pct_math_benchmark_12: True\n",
      "tot_num_both_benchmark_12: True\n",
      "pct_both_benchmark_12: True\n"
     ]
    }
   ],
   "source": [
    "sat_12_list = ['num_erw_benchmark_12',\n",
    "               'pct_erw_benchmark_12',\n",
    "               'num_math_benchmark_12',\n",
    "               'pct_math_benchmark_12',\n",
    "               'tot_num_both_benchmark_12',\n",
    "               'pct_both_benchmark_12']\n",
    "\n",
    "na_has_no_test_takers(sat_12_list, 'num_tst_takr_12', sat)"
   ]
  },
  {
   "cell_type": "code",
   "execution_count": 20,
   "id": "1240d69b",
   "metadata": {},
   "outputs": [
    {
     "name": "stdout",
     "output_type": "stream",
     "text": [
      "num_erw_benchmark_11: True\n",
      "pct_erw_benchmark_11: True\n",
      "num_math_benchmark_11: True\n",
      "pct_math_benchmark_11: True\n",
      "tot_num_both_benchmark_11: True\n",
      "pct_both_benchmark_11: True\n"
     ]
    }
   ],
   "source": [
    "sat_11_list = ['num_erw_benchmark_11',\n",
    "               'pct_erw_benchmark_11',\n",
    "               'num_math_benchmark_11',\n",
    "               'pct_math_benchmark_11',\n",
    "               'tot_num_both_benchmark_11',\n",
    "               'pct_both_benchmark_11']\n",
    "\n",
    "na_has_no_test_takers(sat_11_list, 'num_tst_takr_11', sat)"
   ]
  },
  {
   "cell_type": "markdown",
   "id": "6d9620f8",
   "metadata": {},
   "source": [
    "The data passed the tests. We will fill the null values with the value 'None'. "
   ]
  },
  {
   "cell_type": "code",
   "execution_count": 21,
   "id": "4c8b6c15",
   "metadata": {},
   "outputs": [],
   "source": [
    "sat_11_12_list = ['num_erw_benchmark_12',\n",
    "                  'pct_erw_benchmark_12', \n",
    "                  'num_math_benchmark_12',\n",
    "                  'pct_math_benchmark_12',\n",
    "                  'tot_num_both_benchmark_12',\n",
    "                  'pct_both_benchmark_12',\n",
    "                  'num_erw_benchmark_11',\n",
    "                  'pct_erw_benchmark_11', \n",
    "                  'num_math_benchmark_11',\n",
    "                  'pct_math_benchmark_11',\n",
    "                  'tot_num_both_benchmark_11',\n",
    "                  'pct_both_benchmark_11']\n",
    "\n",
    "for column in sat_11_12_list: \n",
    "    sat[column].fillna(value='None', inplace=True)"
   ]
  },
  {
   "cell_type": "code",
   "execution_count": 22,
   "id": "7e62d7f3",
   "metadata": {},
   "outputs": [
    {
     "data": {
      "text/plain": [
       "0"
      ]
     },
     "execution_count": 22,
     "metadata": {},
     "output_type": "execute_result"
    }
   ],
   "source": [
    "# Gets the total number of null values in the entire DataFrame\n",
    "sat.isna().sum().sum()"
   ]
  },
  {
   "cell_type": "markdown",
   "id": "87e36f88",
   "metadata": {},
   "source": [
    "We have removed all the null values from the `'sat'` DataFrame."
   ]
  },
  {
   "cell_type": "markdown",
   "id": "8df01003",
   "metadata": {},
   "source": [
    "### Preparing the columns for typecasting "
   ]
  },
  {
   "cell_type": "code",
   "execution_count": 23,
   "id": "9574ba59",
   "metadata": {},
   "outputs": [
    {
     "name": "stdout",
     "output_type": "stream",
     "text": [
      "<class 'pandas.core.frame.DataFrame'>\n",
      "Int64Index: 2579 entries, 0 to 2578\n",
      "Data columns (total 25 columns):\n",
      " #   Column                     Non-Null Count  Dtype  \n",
      "---  ------                     --------------  -----  \n",
      " 0   cds_code                   2579 non-null   float64\n",
      " 1   c_code                     2579 non-null   float64\n",
      " 2   cd_code                    2579 non-null   float64\n",
      " 3   s_code                     2579 non-null   float64\n",
      " 4   r_type                     2579 non-null   object \n",
      " 5   s_name                     2579 non-null   object \n",
      " 6   d_name                     2579 non-null   object \n",
      " 7   c_name                     2579 non-null   object \n",
      " 8   enroll_12                  2579 non-null   float64\n",
      " 9   num_tst_takr_12            2579 non-null   float64\n",
      " 10  num_erw_benchmark_12       2579 non-null   object \n",
      " 11  pct_erw_benchmark_12       2579 non-null   object \n",
      " 12  num_math_benchmark_12      2579 non-null   object \n",
      " 13  pct_math_benchmark_12      2579 non-null   object \n",
      " 14  enroll_11                  2579 non-null   float64\n",
      " 15  num_tst_takr_11            2579 non-null   float64\n",
      " 16  num_erw_benchmark_11       2579 non-null   object \n",
      " 17  pct_erw_benchmark_11       2579 non-null   object \n",
      " 18  num_math_benchmark_11      2579 non-null   object \n",
      " 19  pct_math_benchmark_11      2579 non-null   object \n",
      " 20  tot_num_both_benchmark_12  2579 non-null   object \n",
      " 21  pct_both_benchmark_12      2579 non-null   object \n",
      " 22  tot_num_both_benchmark_11  2579 non-null   object \n",
      " 23  pct_both_benchmark_11      2579 non-null   object \n",
      " 24  year                       2579 non-null   object \n",
      "dtypes: float64(8), object(17)\n",
      "memory usage: 523.9+ KB\n"
     ]
    }
   ],
   "source": [
    "sat.info()"
   ]
  },
  {
   "cell_type": "markdown",
   "id": "f781934b",
   "metadata": {},
   "source": [
    "There are numeric columns similar to the ACT dataset that should be numeric, but are of object datatype.\n",
    "\n",
    "### Dropping the rows with no test-takers\n",
    "\n",
    "There will be a loss of some information, such as that for enrollment numbers of schools without test-takers. Thus, we can save the DataFrame at this stage."
   ]
  },
  {
   "cell_type": "code",
   "execution_count": 24,
   "id": "6aca24e2",
   "metadata": {},
   "outputs": [],
   "source": [
    "sat.to_csv('../data/sat_2019_ca_before_drop.csv', index=False)"
   ]
  },
  {
   "cell_type": "code",
   "execution_count": 25,
   "id": "ce1f3dab",
   "metadata": {},
   "outputs": [],
   "source": [
    "# Reassign the 'sat' DataFrame to one including only rows where 'num_tst_takr_12' is not the float '0.0'\n",
    "sat = sat[sat['num_tst_takr_12'] != 0.0]\n",
    "\n",
    "# Reassign the 'sat' DataFrame to one including only rows where 'num_tst_takr_11' is not the float '0.0'\n",
    "sat = sat[sat['num_tst_takr_11'] != 0.0]"
   ]
  },
  {
   "cell_type": "code",
   "execution_count": 26,
   "id": "1db90423",
   "metadata": {},
   "outputs": [
    {
     "data": {
      "text/plain": [
       "2143"
      ]
     },
     "execution_count": 26,
     "metadata": {},
     "output_type": "execute_result"
    }
   ],
   "source": [
    "len(sat)"
   ]
  },
  {
   "cell_type": "markdown",
   "id": "f77ccc00",
   "metadata": {},
   "source": [
    "We have removed the rows with no test takers. Originally, it was 2580 rows. The 'None' values have been cleared.\n",
    "\n",
    "### Dropping the rows with asterisks for both Grade 11 and 12\n",
    "\n",
    "A number of rows still have asterisk values. The data source did not talk about the asterisks in the SAT dataset, but we can assume it is the same as or similar to the ones in the ACT dataset.\n",
    "\n",
    "The rows with no values for both the Grade 11 and Grade 12 students (only asterisks) will be dropped. "
   ]
  },
  {
   "cell_type": "code",
   "execution_count": 27,
   "id": "c341d271",
   "metadata": {},
   "outputs": [
    {
     "data": {
      "text/plain": [
       "350"
      ]
     },
     "execution_count": 27,
     "metadata": {},
     "output_type": "execute_result"
    }
   ],
   "source": [
    "# Get the number of rows of the 'sat' DataFrame where both 'num_erw_benchmark_11' \n",
    "# and 'num_erw_benchmark_12' are the '*' symbol.\n",
    "len(sat[(sat['num_erw_benchmark_11'] == '*') & (sat['num_erw_benchmark_12'] == '*')])"
   ]
  },
  {
   "cell_type": "markdown",
   "id": "56dfbe8e",
   "metadata": {},
   "source": [
    "There are 350 such rows. "
   ]
  },
  {
   "cell_type": "code",
   "execution_count": 28,
   "id": "ee52a99a",
   "metadata": {},
   "outputs": [],
   "source": [
    "# Reassign the sat DataFrame to one excluding all rows where both 'num_erw_benchmark_11' \n",
    "# and 'num_erw_benchmark_11''avg_scr_read' are the '*' symbol. \n",
    "sat = sat[~((sat['num_erw_benchmark_11'] == '*') & (sat['num_erw_benchmark_12'] == '*'))]"
   ]
  },
  {
   "cell_type": "code",
   "execution_count": 29,
   "id": "13b43929",
   "metadata": {},
   "outputs": [
    {
     "data": {
      "text/plain": [
       "0"
      ]
     },
     "execution_count": 29,
     "metadata": {},
     "output_type": "execute_result"
    }
   ],
   "source": [
    "# Get the number of rows of the 'sat' DataFrame where both 'num_erw_benchmark_11' \n",
    "# and 'num_erw_benchmark_12' are the '*' symbol.\n",
    "len(sat[(sat['num_erw_benchmark_11'] == '*') & (sat['num_erw_benchmark_12'] == '*')])"
   ]
  },
  {
   "cell_type": "markdown",
   "id": "ff1f8090",
   "metadata": {},
   "source": [
    "The removal was successful. \n",
    "\n",
    "### Removing the Grade 11 columns\n",
    "\n",
    "Here, we look at the DataFrame again:"
   ]
  },
  {
   "cell_type": "code",
   "execution_count": 30,
   "id": "b4a88326",
   "metadata": {
    "scrolled": true
   },
   "outputs": [
    {
     "data": {
      "text/html": [
       "<div>\n",
       "<style scoped>\n",
       "    .dataframe tbody tr th:only-of-type {\n",
       "        vertical-align: middle;\n",
       "    }\n",
       "\n",
       "    .dataframe tbody tr th {\n",
       "        vertical-align: top;\n",
       "    }\n",
       "\n",
       "    .dataframe thead th {\n",
       "        text-align: right;\n",
       "    }\n",
       "</style>\n",
       "<table border=\"1\" class=\"dataframe\">\n",
       "  <thead>\n",
       "    <tr style=\"text-align: right;\">\n",
       "      <th></th>\n",
       "      <th>cds_code</th>\n",
       "      <th>c_code</th>\n",
       "      <th>cd_code</th>\n",
       "      <th>s_code</th>\n",
       "      <th>r_type</th>\n",
       "      <th>s_name</th>\n",
       "      <th>d_name</th>\n",
       "      <th>c_name</th>\n",
       "      <th>enroll_12</th>\n",
       "      <th>num_tst_takr_12</th>\n",
       "      <th>...</th>\n",
       "      <th>num_tst_takr_11</th>\n",
       "      <th>num_erw_benchmark_11</th>\n",
       "      <th>pct_erw_benchmark_11</th>\n",
       "      <th>num_math_benchmark_11</th>\n",
       "      <th>pct_math_benchmark_11</th>\n",
       "      <th>tot_num_both_benchmark_12</th>\n",
       "      <th>pct_both_benchmark_12</th>\n",
       "      <th>tot_num_both_benchmark_11</th>\n",
       "      <th>pct_both_benchmark_11</th>\n",
       "      <th>year</th>\n",
       "    </tr>\n",
       "  </thead>\n",
       "  <tbody>\n",
       "    <tr>\n",
       "      <th>14</th>\n",
       "      <td>1.964733e+13</td>\n",
       "      <td>19.0</td>\n",
       "      <td>1964733.0</td>\n",
       "      <td>1930387.0</td>\n",
       "      <td>S</td>\n",
       "      <td>Central High</td>\n",
       "      <td>Los Angeles Unified</td>\n",
       "      <td>Los Angeles</td>\n",
       "      <td>104.0</td>\n",
       "      <td>4.0</td>\n",
       "      <td>...</td>\n",
       "      <td>18.0</td>\n",
       "      <td>2</td>\n",
       "      <td>11.11</td>\n",
       "      <td>1</td>\n",
       "      <td>5.56</td>\n",
       "      <td>*</td>\n",
       "      <td>*</td>\n",
       "      <td>1</td>\n",
       "      <td>5.56</td>\n",
       "      <td>2018-19</td>\n",
       "    </tr>\n",
       "    <tr>\n",
       "      <th>57</th>\n",
       "      <td>3.076893e+13</td>\n",
       "      <td>30.0</td>\n",
       "      <td>3076893.0</td>\n",
       "      <td>130765.0</td>\n",
       "      <td>S</td>\n",
       "      <td>Magnolia Science Academy Santa Ana</td>\n",
       "      <td>SBE - Magnolia Science Academy Santa Ana</td>\n",
       "      <td>Orange</td>\n",
       "      <td>34.0</td>\n",
       "      <td>14.0</td>\n",
       "      <td>...</td>\n",
       "      <td>27.0</td>\n",
       "      <td>17</td>\n",
       "      <td>62.96</td>\n",
       "      <td>12</td>\n",
       "      <td>44.44</td>\n",
       "      <td>*</td>\n",
       "      <td>*</td>\n",
       "      <td>11</td>\n",
       "      <td>40.74</td>\n",
       "      <td>2018-19</td>\n",
       "    </tr>\n",
       "    <tr>\n",
       "      <th>100</th>\n",
       "      <td>1.964733e+13</td>\n",
       "      <td>19.0</td>\n",
       "      <td>1964733.0</td>\n",
       "      <td>129536.0</td>\n",
       "      <td>S</td>\n",
       "      <td>Boyle Heights STEM High</td>\n",
       "      <td>Los Angeles Unified</td>\n",
       "      <td>Los Angeles</td>\n",
       "      <td>42.0</td>\n",
       "      <td>14.0</td>\n",
       "      <td>...</td>\n",
       "      <td>50.0</td>\n",
       "      <td>20</td>\n",
       "      <td>40.00</td>\n",
       "      <td>7</td>\n",
       "      <td>14.00</td>\n",
       "      <td>*</td>\n",
       "      <td>*</td>\n",
       "      <td>7</td>\n",
       "      <td>14.00</td>\n",
       "      <td>2018-19</td>\n",
       "    </tr>\n",
       "    <tr>\n",
       "      <th>137</th>\n",
       "      <td>1.964733e+13</td>\n",
       "      <td>19.0</td>\n",
       "      <td>1964733.0</td>\n",
       "      <td>1930429.0</td>\n",
       "      <td>S</td>\n",
       "      <td>View Park Continuation</td>\n",
       "      <td>Los Angeles Unified</td>\n",
       "      <td>Los Angeles</td>\n",
       "      <td>39.0</td>\n",
       "      <td>3.0</td>\n",
       "      <td>...</td>\n",
       "      <td>19.0</td>\n",
       "      <td>4</td>\n",
       "      <td>21.05</td>\n",
       "      <td>0</td>\n",
       "      <td>0.00</td>\n",
       "      <td>*</td>\n",
       "      <td>*</td>\n",
       "      <td>0</td>\n",
       "      <td>0.00</td>\n",
       "      <td>2018-19</td>\n",
       "    </tr>\n",
       "    <tr>\n",
       "      <th>161</th>\n",
       "      <td>3.310330e+13</td>\n",
       "      <td>33.0</td>\n",
       "      <td>3310330.0</td>\n",
       "      <td>134320.0</td>\n",
       "      <td>S</td>\n",
       "      <td>Riverside County Education Academy - Indio</td>\n",
       "      <td>Riverside County Office of Education</td>\n",
       "      <td>Riverside</td>\n",
       "      <td>20.0</td>\n",
       "      <td>1.0</td>\n",
       "      <td>...</td>\n",
       "      <td>19.0</td>\n",
       "      <td>1</td>\n",
       "      <td>5.26</td>\n",
       "      <td>0</td>\n",
       "      <td>0.00</td>\n",
       "      <td>*</td>\n",
       "      <td>*</td>\n",
       "      <td>0</td>\n",
       "      <td>0.00</td>\n",
       "      <td>2018-19</td>\n",
       "    </tr>\n",
       "  </tbody>\n",
       "</table>\n",
       "<p>5 rows × 25 columns</p>\n",
       "</div>"
      ],
      "text/plain": [
       "         cds_code  c_code    cd_code     s_code r_type  \\\n",
       "14   1.964733e+13    19.0  1964733.0  1930387.0      S   \n",
       "57   3.076893e+13    30.0  3076893.0   130765.0      S   \n",
       "100  1.964733e+13    19.0  1964733.0   129536.0      S   \n",
       "137  1.964733e+13    19.0  1964733.0  1930429.0      S   \n",
       "161  3.310330e+13    33.0  3310330.0   134320.0      S   \n",
       "\n",
       "                                         s_name  \\\n",
       "14                                 Central High   \n",
       "57           Magnolia Science Academy Santa Ana   \n",
       "100                     Boyle Heights STEM High   \n",
       "137                      View Park Continuation   \n",
       "161  Riverside County Education Academy - Indio   \n",
       "\n",
       "                                       d_name       c_name  enroll_12  \\\n",
       "14                        Los Angeles Unified  Los Angeles      104.0   \n",
       "57   SBE - Magnolia Science Academy Santa Ana       Orange       34.0   \n",
       "100                       Los Angeles Unified  Los Angeles       42.0   \n",
       "137                       Los Angeles Unified  Los Angeles       39.0   \n",
       "161      Riverside County Office of Education    Riverside       20.0   \n",
       "\n",
       "     num_tst_takr_12  ... num_tst_takr_11 num_erw_benchmark_11  \\\n",
       "14               4.0  ...            18.0                    2   \n",
       "57              14.0  ...            27.0                   17   \n",
       "100             14.0  ...            50.0                   20   \n",
       "137              3.0  ...            19.0                    4   \n",
       "161              1.0  ...            19.0                    1   \n",
       "\n",
       "    pct_erw_benchmark_11 num_math_benchmark_11  pct_math_benchmark_11  \\\n",
       "14                 11.11                     1                   5.56   \n",
       "57                 62.96                    12                  44.44   \n",
       "100                40.00                     7                  14.00   \n",
       "137                21.05                     0                   0.00   \n",
       "161                 5.26                     0                   0.00   \n",
       "\n",
       "     tot_num_both_benchmark_12 pct_both_benchmark_12  \\\n",
       "14                           *                     *   \n",
       "57                           *                     *   \n",
       "100                          *                     *   \n",
       "137                          *                     *   \n",
       "161                          *                     *   \n",
       "\n",
       "    tot_num_both_benchmark_11 pct_both_benchmark_11     year  \n",
       "14                          1                  5.56  2018-19  \n",
       "57                         11                 40.74  2018-19  \n",
       "100                         7                 14.00  2018-19  \n",
       "137                         0                  0.00  2018-19  \n",
       "161                         0                  0.00  2018-19  \n",
       "\n",
       "[5 rows x 25 columns]"
      ]
     },
     "execution_count": 30,
     "metadata": {},
     "output_type": "execute_result"
    }
   ],
   "source": [
    "sat[sat['num_erw_benchmark_12'] == '*'].head()"
   ]
  },
  {
   "cell_type": "markdown",
   "id": "a12b97bb",
   "metadata": {},
   "source": [
    "If we take having values as not being an asterisk symbol:\n",
    "\n",
    "* Some rows may have values for the Grade 11 students, but not the Grade 12 students.\n",
    "* Some rows may have values for the Grade 12 students, but not the Grade 11 students.\n",
    "* Some rows may have values for both grades.\n",
    "\n",
    "The ACT dataset is for Grade 12 students. Hence, for a fair comparison and in accordance with our problem statement, the SAT dataset should be reduced to only Grade 12 students as well. \n",
    "\n",
    "However, we should check if there are a large number of schools that only administer the SAT at Grade 11. This is because if this is so, a large number of entries will be deleted when we reduce the dataset. Currently we have the following number of rows:"
   ]
  },
  {
   "cell_type": "code",
   "execution_count": 31,
   "id": "2e0dee30",
   "metadata": {
    "scrolled": true
   },
   "outputs": [
    {
     "data": {
      "text/plain": [
       "1793"
      ]
     },
     "execution_count": 31,
     "metadata": {},
     "output_type": "execute_result"
    }
   ],
   "source": [
    "# Get the number of rows in the SAT DataFrame. \n",
    "len(sat)"
   ]
  },
  {
   "cell_type": "markdown",
   "id": "554583b2",
   "metadata": {},
   "source": [
    "How many indicate schools or entities that only administer the SAT at Grade 11?"
   ]
  },
  {
   "cell_type": "code",
   "execution_count": 32,
   "id": "2243d3fc",
   "metadata": {},
   "outputs": [
    {
     "data": {
      "text/plain": [
       "77"
      ]
     },
     "execution_count": 32,
     "metadata": {},
     "output_type": "execute_result"
    }
   ],
   "source": [
    "# Get the number of rows in the SAT DataFrame where either 'num_erw_benchmark_11' \n",
    "# or 'num_erw_benchmark_12' is the '*' symbol.\n",
    "len(sat[(sat['num_erw_benchmark_11'] != '*') & (sat['num_erw_benchmark_12'] == '*')])"
   ]
  },
  {
   "cell_type": "markdown",
   "id": "3e2957e1",
   "metadata": {},
   "source": [
    "We can see that the bulk of the data has values for Grade 12. Thus, we will simplify the data as planned. Before dropping the rows, we will save the current DataFrame to a CSV file. "
   ]
  },
  {
   "cell_type": "code",
   "execution_count": 33,
   "id": "dfdb0eee",
   "metadata": {},
   "outputs": [],
   "source": [
    "sat.to_csv('../data/sat_2019_ca_before_2nd_drop.csv', index=False)"
   ]
  },
  {
   "cell_type": "markdown",
   "id": "401f418a",
   "metadata": {},
   "source": [
    "The operation to remove the columns:"
   ]
  },
  {
   "cell_type": "code",
   "execution_count": 34,
   "id": "3d6cc70c",
   "metadata": {},
   "outputs": [],
   "source": [
    "sat_11_full_list = ['enroll_11',\n",
    "                    'num_tst_takr_11',\n",
    "                    'num_erw_benchmark_11',\n",
    "                    'pct_erw_benchmark_11',\n",
    "                    'num_math_benchmark_11',\n",
    "                    'pct_math_benchmark_11',\n",
    "                    'tot_num_both_benchmark_11',\n",
    "                    'pct_both_benchmark_11']\n",
    "\n",
    "for column in sat_11_full_list:\n",
    "    sat.drop(column, axis=1, inplace=True)"
   ]
  },
  {
   "cell_type": "code",
   "execution_count": 35,
   "id": "cbb64517",
   "metadata": {
    "scrolled": true
   },
   "outputs": [
    {
     "data": {
      "text/plain": [
       "Index(['cds_code', 'c_code', 'cd_code', 's_code', 'r_type', 's_name', 'd_name',\n",
       "       'c_name', 'enroll_12', 'num_tst_takr_12', 'num_erw_benchmark_12',\n",
       "       'pct_erw_benchmark_12', 'num_math_benchmark_12',\n",
       "       'pct_math_benchmark_12', 'tot_num_both_benchmark_12',\n",
       "       'pct_both_benchmark_12', 'year'],\n",
       "      dtype='object')"
      ]
     },
     "execution_count": 35,
     "metadata": {},
     "output_type": "execute_result"
    }
   ],
   "source": [
    "sat.columns"
   ]
  },
  {
   "cell_type": "markdown",
   "id": "1811e700",
   "metadata": {},
   "source": [
    "The columns are removed."
   ]
  },
  {
   "cell_type": "markdown",
   "id": "5f9313aa",
   "metadata": {},
   "source": [
    "### Dropping the rows with asterisks for Grade 12"
   ]
  },
  {
   "cell_type": "code",
   "execution_count": 36,
   "id": "ff7609e0",
   "metadata": {},
   "outputs": [
    {
     "data": {
      "text/plain": [
       "77"
      ]
     },
     "execution_count": 36,
     "metadata": {},
     "output_type": "execute_result"
    }
   ],
   "source": [
    "# Get the number of rows in the SAT DataFrame where 'num_erw_benchmark_12' is the '*' symbol.\n",
    "len(sat[sat['num_erw_benchmark_12'] == '*'])"
   ]
  },
  {
   "cell_type": "markdown",
   "id": "51c1e00f",
   "metadata": {},
   "source": [
    "There are 77 rows, and these correspond to the rows we identified earlier that only had values in Grade 11 columns."
   ]
  },
  {
   "cell_type": "code",
   "execution_count": 37,
   "id": "cd361a34",
   "metadata": {},
   "outputs": [],
   "source": [
    "# Reassign the 'sat' DataFrame to one including only rows where 'num_erw_benchmark_12' is not the '*' symbol.\n",
    "sat = sat[sat['num_erw_benchmark_12'] != '*']"
   ]
  },
  {
   "cell_type": "code",
   "execution_count": 38,
   "id": "4c7e2922",
   "metadata": {
    "scrolled": true
   },
   "outputs": [
    {
     "data": {
      "text/plain": [
       "0"
      ]
     },
     "execution_count": 38,
     "metadata": {},
     "output_type": "execute_result"
    }
   ],
   "source": [
    "# Gets the total number of asterisks in the 'sat' DataFrame\n",
    "sat.eq('*').sum().sum()"
   ]
  },
  {
   "cell_type": "markdown",
   "id": "aa691d27",
   "metadata": {},
   "source": [
    "There are no more asterisks in the DataFrame."
   ]
  },
  {
   "cell_type": "code",
   "execution_count": 39,
   "id": "e06bbf9e",
   "metadata": {
    "scrolled": true
   },
   "outputs": [
    {
     "data": {
      "text/plain": [
       "1716"
      ]
     },
     "execution_count": 39,
     "metadata": {},
     "output_type": "execute_result"
    }
   ],
   "source": [
    "# Get the number of rows in the SAT DataFrame. \n",
    "len(sat)"
   ]
  },
  {
   "cell_type": "markdown",
   "id": "000c7879",
   "metadata": {},
   "source": [
    "There are now 1716 rows. Previously, it was 1793. "
   ]
  },
  {
   "cell_type": "markdown",
   "id": "75abc69e",
   "metadata": {},
   "source": [
    "### Typecasting columns to numerical form\n",
    "\n",
    "The columns of interest are of an object datatype. They will be converted to numeric form. \n",
    "\n",
    "We will use the converter function used for the ACT dataset to do this."
   ]
  },
  {
   "cell_type": "code",
   "execution_count": 40,
   "id": "3e8621b2",
   "metadata": {},
   "outputs": [],
   "source": [
    "def numeric_converter(col_names, df):\n",
    "    for col_name in col_names:\n",
    "        df[col_name] = df[col_name].apply(pd.to_numeric)"
   ]
  },
  {
   "cell_type": "code",
   "execution_count": 41,
   "id": "d21ea36f",
   "metadata": {},
   "outputs": [],
   "source": [
    "numeric_converter(sat_12_list, sat)"
   ]
  },
  {
   "cell_type": "code",
   "execution_count": 42,
   "id": "54c5678b",
   "metadata": {
    "scrolled": false
   },
   "outputs": [
    {
     "name": "stdout",
     "output_type": "stream",
     "text": [
      "<class 'pandas.core.frame.DataFrame'>\n",
      "Int64Index: 1716 entries, 2 to 2578\n",
      "Data columns (total 17 columns):\n",
      " #   Column                     Non-Null Count  Dtype  \n",
      "---  ------                     --------------  -----  \n",
      " 0   cds_code                   1716 non-null   float64\n",
      " 1   c_code                     1716 non-null   float64\n",
      " 2   cd_code                    1716 non-null   float64\n",
      " 3   s_code                     1716 non-null   float64\n",
      " 4   r_type                     1716 non-null   object \n",
      " 5   s_name                     1716 non-null   object \n",
      " 6   d_name                     1716 non-null   object \n",
      " 7   c_name                     1716 non-null   object \n",
      " 8   enroll_12                  1716 non-null   float64\n",
      " 9   num_tst_takr_12            1716 non-null   float64\n",
      " 10  num_erw_benchmark_12       1716 non-null   int64  \n",
      " 11  pct_erw_benchmark_12       1716 non-null   float64\n",
      " 12  num_math_benchmark_12      1716 non-null   int64  \n",
      " 13  pct_math_benchmark_12      1716 non-null   float64\n",
      " 14  tot_num_both_benchmark_12  1716 non-null   int64  \n",
      " 15  pct_both_benchmark_12      1716 non-null   float64\n",
      " 16  year                       1716 non-null   object \n",
      "dtypes: float64(9), int64(3), object(5)\n",
      "memory usage: 241.3+ KB\n"
     ]
    }
   ],
   "source": [
    "sat.info()"
   ]
  },
  {
   "cell_type": "markdown",
   "id": "0db56672",
   "metadata": {},
   "source": [
    "The typecasting was successful. \n",
    "\n",
    "### Checking the numerical columns for anomalies\n",
    "\n",
    "We will now check each column to see if it is reasonable. \n",
    "\n",
    "The first 4 columns are just codes, but rendered in floats. We would likely prefer them in integer format."
   ]
  },
  {
   "cell_type": "code",
   "execution_count": 43,
   "id": "c109eecc",
   "metadata": {},
   "outputs": [
    {
     "data": {
      "text/html": [
       "<div>\n",
       "<style scoped>\n",
       "    .dataframe tbody tr th:only-of-type {\n",
       "        vertical-align: middle;\n",
       "    }\n",
       "\n",
       "    .dataframe tbody tr th {\n",
       "        vertical-align: top;\n",
       "    }\n",
       "\n",
       "    .dataframe thead th {\n",
       "        text-align: right;\n",
       "    }\n",
       "</style>\n",
       "<table border=\"1\" class=\"dataframe\">\n",
       "  <thead>\n",
       "    <tr style=\"text-align: right;\">\n",
       "      <th></th>\n",
       "      <th>cds_code</th>\n",
       "      <th>c_code</th>\n",
       "      <th>cd_code</th>\n",
       "      <th>s_code</th>\n",
       "      <th>r_type</th>\n",
       "      <th>s_name</th>\n",
       "      <th>d_name</th>\n",
       "      <th>c_name</th>\n",
       "      <th>enroll_12</th>\n",
       "      <th>num_tst_takr_12</th>\n",
       "      <th>num_erw_benchmark_12</th>\n",
       "      <th>pct_erw_benchmark_12</th>\n",
       "      <th>num_math_benchmark_12</th>\n",
       "      <th>pct_math_benchmark_12</th>\n",
       "      <th>tot_num_both_benchmark_12</th>\n",
       "      <th>pct_both_benchmark_12</th>\n",
       "      <th>year</th>\n",
       "    </tr>\n",
       "  </thead>\n",
       "  <tbody>\n",
       "    <tr>\n",
       "      <th>2</th>\n",
       "      <td>1.964733e+13</td>\n",
       "      <td>19.0</td>\n",
       "      <td>1964733.0</td>\n",
       "      <td>1930924.0</td>\n",
       "      <td>S</td>\n",
       "      <td>Belmont Senior High</td>\n",
       "      <td>Los Angeles Unified</td>\n",
       "      <td>Los Angeles</td>\n",
       "      <td>206.0</td>\n",
       "      <td>102.0</td>\n",
       "      <td>31</td>\n",
       "      <td>30.39</td>\n",
       "      <td>14</td>\n",
       "      <td>13.73</td>\n",
       "      <td>14</td>\n",
       "      <td>13.73</td>\n",
       "      <td>2018-19</td>\n",
       "    </tr>\n",
       "    <tr>\n",
       "      <th>3</th>\n",
       "      <td>1.964733e+13</td>\n",
       "      <td>19.0</td>\n",
       "      <td>1964733.0</td>\n",
       "      <td>1931476.0</td>\n",
       "      <td>S</td>\n",
       "      <td>Canoga Park Senior High</td>\n",
       "      <td>Los Angeles Unified</td>\n",
       "      <td>Los Angeles</td>\n",
       "      <td>227.0</td>\n",
       "      <td>113.0</td>\n",
       "      <td>54</td>\n",
       "      <td>47.79</td>\n",
       "      <td>18</td>\n",
       "      <td>15.93</td>\n",
       "      <td>18</td>\n",
       "      <td>15.93</td>\n",
       "      <td>2018-19</td>\n",
       "    </tr>\n",
       "    <tr>\n",
       "      <th>5</th>\n",
       "      <td>1.964734e+13</td>\n",
       "      <td>19.0</td>\n",
       "      <td>1964733.0</td>\n",
       "      <td>6061451.0</td>\n",
       "      <td>S</td>\n",
       "      <td>Foshay Learning Center</td>\n",
       "      <td>Los Angeles Unified</td>\n",
       "      <td>Los Angeles</td>\n",
       "      <td>166.0</td>\n",
       "      <td>106.0</td>\n",
       "      <td>68</td>\n",
       "      <td>64.15</td>\n",
       "      <td>36</td>\n",
       "      <td>33.96</td>\n",
       "      <td>36</td>\n",
       "      <td>33.96</td>\n",
       "      <td>2018-19</td>\n",
       "    </tr>\n",
       "  </tbody>\n",
       "</table>\n",
       "</div>"
      ],
      "text/plain": [
       "       cds_code  c_code    cd_code     s_code r_type                   s_name  \\\n",
       "2  1.964733e+13    19.0  1964733.0  1930924.0      S      Belmont Senior High   \n",
       "3  1.964733e+13    19.0  1964733.0  1931476.0      S  Canoga Park Senior High   \n",
       "5  1.964734e+13    19.0  1964733.0  6061451.0      S   Foshay Learning Center   \n",
       "\n",
       "                d_name       c_name  enroll_12  num_tst_takr_12  \\\n",
       "2  Los Angeles Unified  Los Angeles      206.0            102.0   \n",
       "3  Los Angeles Unified  Los Angeles      227.0            113.0   \n",
       "5  Los Angeles Unified  Los Angeles      166.0            106.0   \n",
       "\n",
       "   num_erw_benchmark_12  pct_erw_benchmark_12  num_math_benchmark_12  \\\n",
       "2                    31                 30.39                     14   \n",
       "3                    54                 47.79                     18   \n",
       "5                    68                 64.15                     36   \n",
       "\n",
       "   pct_math_benchmark_12  tot_num_both_benchmark_12  pct_both_benchmark_12  \\\n",
       "2                  13.73                         14                  13.73   \n",
       "3                  15.93                         18                  15.93   \n",
       "5                  33.96                         36                  33.96   \n",
       "\n",
       "      year  \n",
       "2  2018-19  \n",
       "3  2018-19  \n",
       "5  2018-19  "
      ]
     },
     "execution_count": 43,
     "metadata": {},
     "output_type": "execute_result"
    }
   ],
   "source": [
    "sat.head(3)"
   ]
  },
  {
   "cell_type": "code",
   "execution_count": 44,
   "id": "45e77b05",
   "metadata": {},
   "outputs": [],
   "source": [
    "# Typecasting the columns to integer format \n",
    "sat[['cds_code', 'c_code', 'cd_code', 's_code']] = sat[['cds_code', 'c_code', 'cd_code', 's_code']].astype('int64')"
   ]
  },
  {
   "cell_type": "code",
   "execution_count": 45,
   "id": "862c920e",
   "metadata": {},
   "outputs": [
    {
     "data": {
      "text/html": [
       "<div>\n",
       "<style scoped>\n",
       "    .dataframe tbody tr th:only-of-type {\n",
       "        vertical-align: middle;\n",
       "    }\n",
       "\n",
       "    .dataframe tbody tr th {\n",
       "        vertical-align: top;\n",
       "    }\n",
       "\n",
       "    .dataframe thead th {\n",
       "        text-align: right;\n",
       "    }\n",
       "</style>\n",
       "<table border=\"1\" class=\"dataframe\">\n",
       "  <thead>\n",
       "    <tr style=\"text-align: right;\">\n",
       "      <th></th>\n",
       "      <th>cds_code</th>\n",
       "      <th>c_code</th>\n",
       "      <th>cd_code</th>\n",
       "      <th>s_code</th>\n",
       "      <th>r_type</th>\n",
       "      <th>s_name</th>\n",
       "      <th>d_name</th>\n",
       "      <th>c_name</th>\n",
       "      <th>enroll_12</th>\n",
       "      <th>num_tst_takr_12</th>\n",
       "      <th>num_erw_benchmark_12</th>\n",
       "      <th>pct_erw_benchmark_12</th>\n",
       "      <th>num_math_benchmark_12</th>\n",
       "      <th>pct_math_benchmark_12</th>\n",
       "      <th>tot_num_both_benchmark_12</th>\n",
       "      <th>pct_both_benchmark_12</th>\n",
       "      <th>year</th>\n",
       "    </tr>\n",
       "  </thead>\n",
       "  <tbody>\n",
       "    <tr>\n",
       "      <th>2</th>\n",
       "      <td>19647331930924</td>\n",
       "      <td>19</td>\n",
       "      <td>1964733</td>\n",
       "      <td>1930924</td>\n",
       "      <td>S</td>\n",
       "      <td>Belmont Senior High</td>\n",
       "      <td>Los Angeles Unified</td>\n",
       "      <td>Los Angeles</td>\n",
       "      <td>206.0</td>\n",
       "      <td>102.0</td>\n",
       "      <td>31</td>\n",
       "      <td>30.39</td>\n",
       "      <td>14</td>\n",
       "      <td>13.73</td>\n",
       "      <td>14</td>\n",
       "      <td>13.73</td>\n",
       "      <td>2018-19</td>\n",
       "    </tr>\n",
       "    <tr>\n",
       "      <th>3</th>\n",
       "      <td>19647331931476</td>\n",
       "      <td>19</td>\n",
       "      <td>1964733</td>\n",
       "      <td>1931476</td>\n",
       "      <td>S</td>\n",
       "      <td>Canoga Park Senior High</td>\n",
       "      <td>Los Angeles Unified</td>\n",
       "      <td>Los Angeles</td>\n",
       "      <td>227.0</td>\n",
       "      <td>113.0</td>\n",
       "      <td>54</td>\n",
       "      <td>47.79</td>\n",
       "      <td>18</td>\n",
       "      <td>15.93</td>\n",
       "      <td>18</td>\n",
       "      <td>15.93</td>\n",
       "      <td>2018-19</td>\n",
       "    </tr>\n",
       "    <tr>\n",
       "      <th>5</th>\n",
       "      <td>19647336061451</td>\n",
       "      <td>19</td>\n",
       "      <td>1964733</td>\n",
       "      <td>6061451</td>\n",
       "      <td>S</td>\n",
       "      <td>Foshay Learning Center</td>\n",
       "      <td>Los Angeles Unified</td>\n",
       "      <td>Los Angeles</td>\n",
       "      <td>166.0</td>\n",
       "      <td>106.0</td>\n",
       "      <td>68</td>\n",
       "      <td>64.15</td>\n",
       "      <td>36</td>\n",
       "      <td>33.96</td>\n",
       "      <td>36</td>\n",
       "      <td>33.96</td>\n",
       "      <td>2018-19</td>\n",
       "    </tr>\n",
       "  </tbody>\n",
       "</table>\n",
       "</div>"
      ],
      "text/plain": [
       "         cds_code  c_code  cd_code   s_code r_type                   s_name  \\\n",
       "2  19647331930924      19  1964733  1930924      S      Belmont Senior High   \n",
       "3  19647331931476      19  1964733  1931476      S  Canoga Park Senior High   \n",
       "5  19647336061451      19  1964733  6061451      S   Foshay Learning Center   \n",
       "\n",
       "                d_name       c_name  enroll_12  num_tst_takr_12  \\\n",
       "2  Los Angeles Unified  Los Angeles      206.0            102.0   \n",
       "3  Los Angeles Unified  Los Angeles      227.0            113.0   \n",
       "5  Los Angeles Unified  Los Angeles      166.0            106.0   \n",
       "\n",
       "   num_erw_benchmark_12  pct_erw_benchmark_12  num_math_benchmark_12  \\\n",
       "2                    31                 30.39                     14   \n",
       "3                    54                 47.79                     18   \n",
       "5                    68                 64.15                     36   \n",
       "\n",
       "   pct_math_benchmark_12  tot_num_both_benchmark_12  pct_both_benchmark_12  \\\n",
       "2                  13.73                         14                  13.73   \n",
       "3                  15.93                         18                  15.93   \n",
       "5                  33.96                         36                  33.96   \n",
       "\n",
       "      year  \n",
       "2  2018-19  \n",
       "3  2018-19  \n",
       "5  2018-19  "
      ]
     },
     "execution_count": 45,
     "metadata": {},
     "output_type": "execute_result"
    }
   ],
   "source": [
    "sat.head(3)"
   ]
  },
  {
   "cell_type": "markdown",
   "id": "042ca1fc",
   "metadata": {},
   "source": [
    "The format is now more readable. \n",
    "\n",
    "### Retaining only school-level data\n",
    "\n",
    "The data also has district, county and state-level data. Such aggregated data would skew the summary statistics and further statistical analysis unless they are excluded. Hence, they will be removed. First, the DataFrame will be saved to back up the information and the cleaning at this stage. "
   ]
  },
  {
   "cell_type": "code",
   "execution_count": 46,
   "id": "7d6780e8",
   "metadata": {},
   "outputs": [],
   "source": [
    "sat.to_csv('../data/act_2019_ca_before_3rd_drop.csv', index=False)"
   ]
  },
  {
   "cell_type": "markdown",
   "id": "5423ee63",
   "metadata": {},
   "source": [
    "Dropping the values:"
   ]
  },
  {
   "cell_type": "code",
   "execution_count": 47,
   "id": "323724ae",
   "metadata": {},
   "outputs": [],
   "source": [
    "# Reassign the 'sat' DataFrame to one including only rows where 'r_type' is 'S'\n",
    "sat = sat[sat['r_type'] == 'S']"
   ]
  },
  {
   "cell_type": "code",
   "execution_count": 48,
   "id": "98efc193",
   "metadata": {},
   "outputs": [
    {
     "data": {
      "text/plain": [
       "1255"
      ]
     },
     "execution_count": 48,
     "metadata": {},
     "output_type": "execute_result"
    }
   ],
   "source": [
    "# Get the number of rows in the SAT DataFrame. \n",
    "len(sat)"
   ]
  },
  {
   "cell_type": "markdown",
   "id": "34f8bbda",
   "metadata": {},
   "source": [
    "There are now 1255 rows. Previously, it was 1716. \n",
    "\n",
    "We will print some summary statistics for the next few columns. The summary statistics will skip the text-based columns."
   ]
  },
  {
   "cell_type": "code",
   "execution_count": 49,
   "id": "d81a845b",
   "metadata": {
    "scrolled": false
   },
   "outputs": [
    {
     "data": {
      "text/html": [
       "<div>\n",
       "<style scoped>\n",
       "    .dataframe tbody tr th:only-of-type {\n",
       "        vertical-align: middle;\n",
       "    }\n",
       "\n",
       "    .dataframe tbody tr th {\n",
       "        vertical-align: top;\n",
       "    }\n",
       "\n",
       "    .dataframe thead th {\n",
       "        text-align: right;\n",
       "    }\n",
       "</style>\n",
       "<table border=\"1\" class=\"dataframe\">\n",
       "  <thead>\n",
       "    <tr style=\"text-align: right;\">\n",
       "      <th></th>\n",
       "      <th>cds_code</th>\n",
       "      <th>c_code</th>\n",
       "      <th>cd_code</th>\n",
       "      <th>s_code</th>\n",
       "      <th>enroll_12</th>\n",
       "      <th>num_tst_takr_12</th>\n",
       "      <th>num_erw_benchmark_12</th>\n",
       "      <th>pct_erw_benchmark_12</th>\n",
       "      <th>num_math_benchmark_12</th>\n",
       "      <th>pct_math_benchmark_12</th>\n",
       "      <th>tot_num_both_benchmark_12</th>\n",
       "      <th>pct_both_benchmark_12</th>\n",
       "    </tr>\n",
       "  </thead>\n",
       "  <tbody>\n",
       "    <tr>\n",
       "      <th>count</th>\n",
       "      <td>1.255000e+03</td>\n",
       "      <td>1255.000000</td>\n",
       "      <td>1.255000e+03</td>\n",
       "      <td>1.255000e+03</td>\n",
       "      <td>1255.000000</td>\n",
       "      <td>1255.000000</td>\n",
       "      <td>1255.000000</td>\n",
       "      <td>1255.000000</td>\n",
       "      <td>1255.000000</td>\n",
       "      <td>1255.000000</td>\n",
       "      <td>1255.000000</td>\n",
       "      <td>1255.000000</td>\n",
       "    </tr>\n",
       "    <tr>\n",
       "      <th>mean</th>\n",
       "      <td>2.848184e+13</td>\n",
       "      <td>27.818327</td>\n",
       "      <td>2.848184e+06</td>\n",
       "      <td>2.171559e+06</td>\n",
       "      <td>330.360956</td>\n",
       "      <td>133.785657</td>\n",
       "      <td>91.677291</td>\n",
       "      <td>66.853482</td>\n",
       "      <td>64.377689</td>\n",
       "      <td>44.550629</td>\n",
       "      <td>60.927490</td>\n",
       "      <td>42.115060</td>\n",
       "    </tr>\n",
       "    <tr>\n",
       "      <th>std</th>\n",
       "      <td>1.362807e+13</td>\n",
       "      <td>13.599201</td>\n",
       "      <td>1.362807e+06</td>\n",
       "      <td>1.783738e+06</td>\n",
       "      <td>211.794142</td>\n",
       "      <td>106.209369</td>\n",
       "      <td>76.833030</td>\n",
       "      <td>21.319224</td>\n",
       "      <td>63.656393</td>\n",
       "      <td>23.665942</td>\n",
       "      <td>61.444756</td>\n",
       "      <td>23.659765</td>\n",
       "    </tr>\n",
       "    <tr>\n",
       "      <th>min</th>\n",
       "      <td>1.100170e+12</td>\n",
       "      <td>1.000000</td>\n",
       "      <td>1.100170e+05</td>\n",
       "      <td>1.000650e+05</td>\n",
       "      <td>25.000000</td>\n",
       "      <td>15.000000</td>\n",
       "      <td>1.000000</td>\n",
       "      <td>1.280000</td>\n",
       "      <td>0.000000</td>\n",
       "      <td>0.000000</td>\n",
       "      <td>0.000000</td>\n",
       "      <td>0.000000</td>\n",
       "    </tr>\n",
       "    <tr>\n",
       "      <th>25%</th>\n",
       "      <td>1.964733e+13</td>\n",
       "      <td>19.000000</td>\n",
       "      <td>1.964733e+06</td>\n",
       "      <td>1.274765e+05</td>\n",
       "      <td>128.500000</td>\n",
       "      <td>54.000000</td>\n",
       "      <td>31.000000</td>\n",
       "      <td>51.570000</td>\n",
       "      <td>16.000000</td>\n",
       "      <td>25.000000</td>\n",
       "      <td>15.000000</td>\n",
       "      <td>22.625000</td>\n",
       "    </tr>\n",
       "    <tr>\n",
       "      <th>50%</th>\n",
       "      <td>3.066514e+13</td>\n",
       "      <td>30.000000</td>\n",
       "      <td>3.066514e+06</td>\n",
       "      <td>1.936947e+06</td>\n",
       "      <td>322.000000</td>\n",
       "      <td>108.000000</td>\n",
       "      <td>71.000000</td>\n",
       "      <td>70.160000</td>\n",
       "      <td>43.000000</td>\n",
       "      <td>42.530000</td>\n",
       "      <td>40.000000</td>\n",
       "      <td>39.820000</td>\n",
       "    </tr>\n",
       "    <tr>\n",
       "      <th>75%</th>\n",
       "      <td>3.768338e+13</td>\n",
       "      <td>37.000000</td>\n",
       "      <td>3.768338e+06</td>\n",
       "      <td>3.634038e+06</td>\n",
       "      <td>490.000000</td>\n",
       "      <td>183.000000</td>\n",
       "      <td>133.500000</td>\n",
       "      <td>85.000000</td>\n",
       "      <td>92.500000</td>\n",
       "      <td>63.345000</td>\n",
       "      <td>87.000000</td>\n",
       "      <td>61.000000</td>\n",
       "    </tr>\n",
       "    <tr>\n",
       "      <th>max</th>\n",
       "      <td>5.872770e+13</td>\n",
       "      <td>58.000000</td>\n",
       "      <td>5.872769e+06</td>\n",
       "      <td>6.120893e+06</td>\n",
       "      <td>1135.000000</td>\n",
       "      <td>932.000000</td>\n",
       "      <td>475.000000</td>\n",
       "      <td>100.000000</td>\n",
       "      <td>390.000000</td>\n",
       "      <td>100.000000</td>\n",
       "      <td>385.000000</td>\n",
       "      <td>100.000000</td>\n",
       "    </tr>\n",
       "  </tbody>\n",
       "</table>\n",
       "</div>"
      ],
      "text/plain": [
       "           cds_code       c_code       cd_code        s_code    enroll_12  \\\n",
       "count  1.255000e+03  1255.000000  1.255000e+03  1.255000e+03  1255.000000   \n",
       "mean   2.848184e+13    27.818327  2.848184e+06  2.171559e+06   330.360956   \n",
       "std    1.362807e+13    13.599201  1.362807e+06  1.783738e+06   211.794142   \n",
       "min    1.100170e+12     1.000000  1.100170e+05  1.000650e+05    25.000000   \n",
       "25%    1.964733e+13    19.000000  1.964733e+06  1.274765e+05   128.500000   \n",
       "50%    3.066514e+13    30.000000  3.066514e+06  1.936947e+06   322.000000   \n",
       "75%    3.768338e+13    37.000000  3.768338e+06  3.634038e+06   490.000000   \n",
       "max    5.872770e+13    58.000000  5.872769e+06  6.120893e+06  1135.000000   \n",
       "\n",
       "       num_tst_takr_12  num_erw_benchmark_12  pct_erw_benchmark_12  \\\n",
       "count      1255.000000           1255.000000           1255.000000   \n",
       "mean        133.785657             91.677291             66.853482   \n",
       "std         106.209369             76.833030             21.319224   \n",
       "min          15.000000              1.000000              1.280000   \n",
       "25%          54.000000             31.000000             51.570000   \n",
       "50%         108.000000             71.000000             70.160000   \n",
       "75%         183.000000            133.500000             85.000000   \n",
       "max         932.000000            475.000000            100.000000   \n",
       "\n",
       "       num_math_benchmark_12  pct_math_benchmark_12  \\\n",
       "count            1255.000000            1255.000000   \n",
       "mean               64.377689              44.550629   \n",
       "std                63.656393              23.665942   \n",
       "min                 0.000000               0.000000   \n",
       "25%                16.000000              25.000000   \n",
       "50%                43.000000              42.530000   \n",
       "75%                92.500000              63.345000   \n",
       "max               390.000000             100.000000   \n",
       "\n",
       "       tot_num_both_benchmark_12  pct_both_benchmark_12  \n",
       "count                1255.000000            1255.000000  \n",
       "mean                   60.927490              42.115060  \n",
       "std                    61.444756              23.659765  \n",
       "min                     0.000000               0.000000  \n",
       "25%                    15.000000              22.625000  \n",
       "50%                    40.000000              39.820000  \n",
       "75%                    87.000000              61.000000  \n",
       "max                   385.000000             100.000000  "
      ]
     },
     "execution_count": 49,
     "metadata": {},
     "output_type": "execute_result"
    }
   ],
   "source": [
    "sat.describe()"
   ]
  },
  {
   "cell_type": "markdown",
   "id": "c5fea32d",
   "metadata": {},
   "source": [
    "Given the information we have found in the Background and Outside Research sections, the summary statistics of the data look reasonably correct. The maximums, minimums and averages are within their logical ranges/bounds. "
   ]
  },
  {
   "cell_type": "markdown",
   "id": "d653326c",
   "metadata": {},
   "source": [
    "### Saving the data"
   ]
  },
  {
   "cell_type": "code",
   "execution_count": 50,
   "id": "fad9b65d",
   "metadata": {},
   "outputs": [],
   "source": [
    "sat.to_csv('../data/sat_2019_ca_cleaned.csv', index=False)"
   ]
  },
  {
   "cell_type": "markdown",
   "id": "c8118e6f",
   "metadata": {},
   "source": [
    "This is the end of the data cleaning portion for the SAT dataset. The rest of the data analysis will be continued in the main notebook."
   ]
  }
 ],
 "metadata": {
  "kernelspec": {
   "display_name": "Python 3 (ipykernel)",
   "language": "python",
   "name": "python3"
  },
  "language_info": {
   "codemirror_mode": {
    "name": "ipython",
    "version": 3
   },
   "file_extension": ".py",
   "mimetype": "text/x-python",
   "name": "python",
   "nbconvert_exporter": "python",
   "pygments_lexer": "ipython3",
   "version": "3.8.11"
  }
 },
 "nbformat": 4,
 "nbformat_minor": 5
}
